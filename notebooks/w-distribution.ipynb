{
 "cells": [
  {
   "cell_type": "code",
   "execution_count": 27,
   "id": "4f9f9cb4-9532-4422-8c46-d3b11f2b7af1",
   "metadata": {},
   "outputs": [
    {
     "data": {
      "application/vnd.jupyter.widget-view+json": {
       "model_id": "cc73875d28854886a9100e723bdef63d",
       "version_major": 2,
       "version_minor": 0
      },
      "text/plain": [
       "VBox(children=(FloatSlider(value=0.5, description='Rel Std Dev:', max=2.0, min=0.05, step=0.05), FloatSlider(v…"
      ]
     },
     "metadata": {},
     "output_type": "display_data"
    },
    {
     "data": {
      "application/vnd.jupyter.widget-view+json": {
       "model_id": "6c680fbf3d164a4e96047640be05c96d",
       "version_major": 2,
       "version_minor": 0
      },
      "text/plain": [
       "Output()"
      ]
     },
     "metadata": {},
     "output_type": "display_data"
    }
   ],
   "source": [
    "import numpy as np\n",
    "import matplotlib.pyplot as plt\n",
    "import ipywidgets as widgets\n",
    "from scipy.stats import norm, beta\n",
    "from IPython.display import display\n",
    "import math\n",
    "\n",
    "# Function to calculate lower, upper, and mode for PERT distribution\n",
    "def calculate_pert_parameters(mean, std_dev):\n",
    "    # Define lower limit for symmetric distribution ensuring non-negative lower limit\n",
    "    d = math.sqrt(7.0) * std_dev\n",
    "    lower_limit = max(0, mean - d)\n",
    "    \n",
    "    # Define upper limit to ensure the relative standard deviation is met\n",
    "    upper_limit = mean + 7 * std_dev**2 / (mean - lower_limit)\n",
    "\n",
    "    # Recalculate mode\n",
    "    mode = (6 * mean - lower_limit - upper_limit) / 4.0\n",
    "    return lower_limit, upper_limit, mode\n",
    "\n",
    "# Function to adjust sharpness to align mode density of PERT with Normal distribution's mean density\n",
    "def calculate_sharpness(mean, std_dev, lower_limit, upper_limit):\n",
    "    normal_density_at_mean = norm.pdf(mean, mean, std_dev)\n",
    "    # Adjust sharpness until the PERT density at the mode equals the normal density at the mean\n",
    "    sharpness = 1.0\n",
    "    tolerance = 1e-5\n",
    "    max_iterations = 100\n",
    "    for _ in range(max_iterations):\n",
    "        a = 1 + 4 * (mean - lower_limit) / (upper_limit - lower_limit) * sharpness\n",
    "        b = 1 + 4 * (upper_limit - mean) / (upper_limit - lower_limit) * sharpness\n",
    "        pert_density_at_mean = beta.pdf(mean, a, b, loc=lower_limit, scale=upper_limit - lower_limit)\n",
    "        if abs(pert_density_at_mean - normal_density_at_mean) < tolerance:\n",
    "            break\n",
    "        sharpness *= 1.1 if pert_density_at_mean < normal_density_at_mean else 0.9\n",
    "    return sharpness\n",
    "\n",
    "# Function to generate the PDFs\n",
    "def plot_pdfs(rel_std_dev, uniformity, sharpness):\n",
    "    mean = 1.0  # Fixed mean value\n",
    "    std_dev = rel_std_dev * mean\n",
    "\n",
    "    # Calculate PERT parameters\n",
    "    lower_limit_pert, upper_limit_pert, mode_pert = calculate_pert_parameters(mean, std_dev)\n",
    "\n",
    "    # Calculate sharpness to align mode density of PERT with Normal distribution's mean density if sharpness slider is at 0\n",
    "    if sharpness == 0:\n",
    "        sharpness = calculate_sharpness(mean, std_dev, lower_limit_pert, upper_limit_pert)\n",
    "\n",
    "    # Define limits for the x-axis (always from 0 to 2)\n",
    "    x_pert = np.linspace(0, 2, 1000)\n",
    "    x_normal = np.linspace(0, 2, 1000)\n",
    "\n",
    "    # Normal Distribution\n",
    "    normal_pdf = norm.pdf(x_normal, mean, std_dev)\n",
    "\n",
    "    # Transition from PERT to Uniform\n",
    "    # When uniformity is 0, it is a standard PERT distribution.\n",
    "    # When uniformity is 1, it becomes a uniform distribution.\n",
    "    # The sharpness parameter is calculated to adjust the alpha and beta values to make the distribution sharper.\n",
    "    a = 1 + (4 * (mean - lower_limit_pert) / (upper_limit_pert - lower_limit_pert)) * (1 - uniformity) * sharpness\n",
    "    b = 1 + (4 * (upper_limit_pert - mean) / (upper_limit_pert - lower_limit_pert)) * (1 - uniformity) * sharpness\n",
    "    pert_pdf = beta.pdf(x_pert, a, b, loc=lower_limit_pert, scale=upper_limit_pert - lower_limit_pert)\n",
    "\n",
    "    # Plotting\n",
    "    plt.figure(figsize=(10, 6))\n",
    "    plt.plot(x_normal, normal_pdf, label='Normal Distribution', color='blue')\n",
    "    plt.plot(x_pert, pert_pdf, label='PERT to Uniform Distribution', color='red')\n",
    "    plt.title(f'PDFs with Relative Standard Deviation: {rel_std_dev:.2f}, Mean: {mean:.2f}, Uniformity: {uniformity:.2f}, Sharpness: {sharpness:.2f}')\n",
    "    plt.xlabel('X')\n",
    "    plt.ylabel('Density')\n",
    "    plt.legend()\n",
    "    plt.grid(True)\n",
    "    plt.xlim(0, 2)  # Set x-axis limit from 0 to 2\n",
    "    plt.show()\n",
    "\n",
    "# Slider widgets for relative standard deviation, uniformity, and sharpness\n",
    "rel_std_dev_slider = widgets.FloatSlider(value=0.5, min=0.05, max=2.0, step=0.05, description='Rel Std Dev:')\n",
    "uniformity_slider = widgets.FloatSlider(value=0.0, min=0.0, max=1.0, step=0.05, description='Uniformity:')\n",
    "sharpness_slider = widgets.FloatSlider(value=0.0, min=0.0, max=5.0, step=0.1, description='Sharpness:')\n",
    "\n",
    "# Interactive widget to update the plot\n",
    "ui = widgets.VBox([rel_std_dev_slider, uniformity_slider, sharpness_slider])\n",
    "output = widgets.interactive_output(plot_pdfs, {'rel_std_dev': rel_std_dev_slider, 'uniformity': uniformity_slider, 'sharpness': sharpness_slider})\n",
    "\n",
    "# Display the sliders and the plot\n",
    "display(ui, output)\n"
   ]
  },
  {
   "cell_type": "code",
   "execution_count": null,
   "id": "fee5f335-ba08-4216-a76e-a965fd107ed4",
   "metadata": {},
   "outputs": [],
   "source": []
  },
  {
   "cell_type": "code",
   "execution_count": null,
   "id": "5efd5d6e-fdf4-46d7-9828-18c16be7e11e",
   "metadata": {},
   "outputs": [],
   "source": []
  }
 ],
 "metadata": {
  "kernelspec": {
   "display_name": "Python 3 (ipykernel)",
   "language": "python",
   "name": "python3"
  },
  "language_info": {
   "codemirror_mode": {
    "name": "ipython",
    "version": 3
   },
   "file_extension": ".py",
   "mimetype": "text/x-python",
   "name": "python",
   "nbconvert_exporter": "python",
   "pygments_lexer": "ipython3",
   "version": "3.11.5"
  }
 },
 "nbformat": 4,
 "nbformat_minor": 5
}
