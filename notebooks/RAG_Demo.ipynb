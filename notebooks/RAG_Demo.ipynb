{
 "cells": [
  {
   "cell_type": "code",
   "execution_count": 44,
   "id": "2d59bde0-177c-4bb9-902d-a7b2bf4018b9",
   "metadata": {},
   "outputs": [],
   "source": [
    "from langchain_community.document_loaders.generic import GenericLoader\n",
    "from langchain_community.document_loaders.parsers import LanguageParser\n",
    "from langchain_text_splitters import Language"
   ]
  },
  {
   "cell_type": "code",
   "execution_count": null,
   "id": "592152b8-13a2-41d0-bf49-65d43203cf16",
   "metadata": {},
   "outputs": [],
   "source": []
  },
  {
   "cell_type": "code",
   "execution_count": 45,
   "id": "707de5af-b0da-4ab0-b29a-6bb69addb9a7",
   "metadata": {},
   "outputs": [],
   "source": [
    "loader = GenericLoader.from_filesystem(\n",
    "    \"source/A_GIS\",\n",
    "    glob=\"**/*\",\n",
    "    suffixes=[\".py\"],\n",
    "    exclude=[\"**/non-utf8-encoding.py\"],\n",
    "    parser=LanguageParser(language=Language.PYTHON, parser_threshold=500),\n",
    ")"
   ]
  },
  {
   "cell_type": "code",
   "execution_count": 46,
   "id": "0e592c5d-2e69-44af-8e18-166ee3876df9",
   "metadata": {},
   "outputs": [
    {
     "data": {
      "text/plain": [
       "159"
      ]
     },
     "execution_count": 46,
     "metadata": {},
     "output_type": "execute_result"
    }
   ],
   "source": [
    "documents = loader.load()\n",
    "len(documents)"
   ]
  },
  {
   "cell_type": "code",
   "execution_count": 125,
   "id": "6838e954-8cd2-458f-890b-8ef3e988a8ed",
   "metadata": {},
   "outputs": [
    {
     "data": {
      "text/plain": [
       "159"
      ]
     },
     "execution_count": 125,
     "metadata": {},
     "output_type": "execute_result"
    }
   ],
   "source": [
    "from langchain_text_splitters import RecursiveCharacterTextSplitter\n",
    "\n",
    "python_splitter = RecursiveCharacterTextSplitter.from_language(\n",
    "    language=Language.PYTHON, chunk_size=2000, chunk_overlap=200\n",
    ")\n",
    "texts = documents #python_splitter.split_documents(documents)\n",
    "len(texts)"
   ]
  },
  {
   "cell_type": "code",
   "execution_count": 126,
   "id": "6c5c3f09-d9fc-4c30-b4a0-4491ec2f9640",
   "metadata": {},
   "outputs": [
    {
     "name": "stderr",
     "output_type": "stream",
     "text": [
      "Processing batches: 100%|█████████████████████████████████████████████████████████████████████████| 11/11 [06:32<00:00, 35.71s/it]\n"
     ]
    }
   ],
   "source": [
    "persist_directory='./chromadb'\n",
    "from tqdm import tqdm\n",
    "from langchain_community.vectorstores import Chroma\n",
    "from langchain_community.embeddings import OllamaEmbeddings\n",
    "embeddings = OllamaEmbeddings(model='mixtral')\n",
    "batch_size = int(len(texts) / 10)\n",
    "batches = [texts[i:i + batch_size] for i in range(0, len(texts), batch_size)]\n",
    "for batch in tqdm(batches, desc=\"Processing batches\"):\n",
    "    db = Chroma.from_documents(batch, embeddings, persist_directory=persist_directory)\n",
    "retriever = db.as_retriever()"
   ]
  },
  {
   "cell_type": "code",
   "execution_count": 191,
   "id": "4c6e4da9-d576-4e7d-a986-2b2fb5bf1db6",
   "metadata": {},
   "outputs": [],
   "source": [
    "import ollama\n",
    "def format_docs(docs):\n",
    "    return \"\\n\\n\".join(doc.page_content for doc in docs)\n",
    "\n",
    "def ollama_llm(question,context):\n",
    "    formatted_prompt = f\"Question: {question}\\n\\nContext: {context}\"\n",
    "    response = ollama.chat(model='mixtral',messages=[{'role': 'system', 'content': '''\n",
    "    You are a Python code cataloger expert in the contents of the A_GIS code database. \n",
    "    You respond with the top 5 fully-qualified names of the \n",
    "    A_GIS functions that fit the query.\n",
    "    '''},{'role': 'user', 'content': formatted_prompt}],\n",
    "                            options=ollama.Options(temperature=0.7,mirostat=2)\n",
    "                          )\n",
    "    return response['message']['content']\n",
    "\n",
    "def rag_chain(question):\n",
    "    retrieved_docs = retriever.invoke(question)\n",
    "    formatted_context = format_docs(retrieved_docs)\n",
    "    return ollama_llm(question,formatted_context)"
   ]
  },
  {
   "cell_type": "code",
   "execution_count": 192,
   "id": "ecd318c2-5771-4249-a70a-82c4b4892c25",
   "metadata": {},
   "outputs": [
    {
     "name": "stdout",
     "output_type": "stream",
     "text": [
      " Based on the provided context, here are the top 5 fully-qualified names of functions in the A\\_GIS code database that could be related to formatting code to A\\_GIS standards:\n",
      "\n",
      "1. A\\_GIS.Code.\\_distill\\_imports\n",
      "2. A\\_GIS.File.read\n",
      "3. A\\_GIS.Code.Tree.get\n",
      "4. A\\_GIS.Code.Tree.update\\_path\\_to\\_package\n",
      "5. A\\_GIS.Code.format (note: this function is not explicitly shown in the provided context, but it's mentioned in the documentation string of A\\_GIS.Code.\\_distill\\_imports, so I included it as a potential match)\n"
     ]
    }
   ],
   "source": [
    "x=rag_chain(\"An existing function to format code to A_GIS standards\")\n",
    "print(x)"
   ]
  },
  {
   "cell_type": "code",
   "execution_count": 202,
   "id": "ce67c6e8-d6e4-4c29-b4bc-2c635085e594",
   "metadata": {},
   "outputs": [
    {
     "name": "stdout",
     "output_type": "stream",
     "text": [
      "[Document(page_content='def from_samples(*, realizations):\\n    \"\"\"Calculate correlation coefficient from samples.\"\"\"\\n    import numpy\\n    import A_GIS.Math.CorrelationMatrix.init_from_numpy\\n\\n    matrix = numpy.corrcoef(realizations, rowvar=False)\\n    return A_GIS.Math.CorrelationMatrix.init_from_numpy(matrix=matrix)', metadata={'language': 'python', 'source': 'source/A_GIS/Math/CorrelationMatrix/from_samples/__init__.py'}), Document(page_content='import typing\\n\\ndef init(*, size: int = 1, values: typing.Optional[typing.List[float]] = []):\\n    \"\"\"\\n    Return a correlation matrix data class from the upper triangular values.\\n\\n    This function initializes a `_CorrMatrix` data class with a specified size and set of values.\\n    The values are expected to represent the upper triangular part of the matrix.\\n\\n    Args:\\n        size (int): The size of the correlation matrix. Defaults to 1.\\n        values (Optional[List[float]]): A list of float values to initialize the matrix. Must represent the upper triangular part of the matrix. If None, initializes with zeros.\\n\\n    Returns:\\n        _CorrMatrix: An instance of the `_CorrMatrix` data class.\\n\\n    Raises:\\n        ValueError: If the number of values provided does not match the expected count for the upper triangular part of the matrix.\\n\\n    Example:\\n        # Example of initializing a 3x3 correlation matrix\\n        matrix = new(size=3, values=[0.1, 0.2, 0.3])\\n\\n    \"\"\"\\n    import dataclasses\\n    import typing\\n\\n    @dataclasses.dataclass\\n    class _CorrMatrix:\\n        size: int\\n        values: typing.List[float]\\n\\n        def __post_init__(self):\\n            import numpy\\n            import A_GIS.Math.CorrelationMatrix.to_numpy\\n\\n            nv = len(self.values)\\n            nc = self.size * (self.size - 1) / 2\\n            if nv != nc:\\n                raise ValueError(\\n                    f\"Invalid number of values {nv} for the correlation coefficients for the matrix size={self.size}. Should be {nc}.\"\\n                )\\n\\n            corr = A_GIS.Math.CorrelationMatrix.to_numpy(upper_tri=self)\\n            eigenvalues = numpy.linalg.eigvals(corr)\\n            if numpy.any(eigenvalues < 0):\\n                raise ValueError(\\n                    f\"The matrix is not positive semidefinite eigenvalues={eigenvalues}.\"\\n                )\\n\\n        def __repr__(self):\\n            return f\"A_GIS.Math.CorrelationMatrix.init(size={size},values={values})\"\\n\\n    return _CorrMatrix(size, values)', metadata={'language': 'python', 'source': 'source/A_GIS/Math/CorrelationMatrix/init/__init__.py'}), Document(page_content='def guess_name(*, path: type[\"pathlib.Path\"]):\\n    \"\"\"Guesses a package name for a given path based on its parent directory structure.\\n\\n    The function attempts to find the root directory corresponding to the provided path,\\n    then calculates a package name by joining all parts of the relative path from the root\\'s\\n    parent directory down to the provided path. If the provided path is a file, it will be\\n    used as the base for the calculation and its parent directory will be used instead.\\n\\n    Args:\\n        path (pathlib.Path): The path to guess the package name from.\\n\\n    Raises:\\n        ValueError: If the root corresponding to the provided path could not be found.\\n\\n    Returns:\\n        str: A package name string created by joining parts of the relative path from the\\n             root\\'s parent directory down to the provided path, separated by dots.\\n    \"\"\"\\n\\n    import A_GIS.Code.find_root\\n    import pathlib\\n\\n    root = A_GIS.Code.find_root(path=path)\\n    if root is None:\\n        raise ValueError(\\n            f\"The root corresponding to path={path} could not be found!\"\\n        )\\n\\n    root = root.resolve().parent\\n    subdir = pathlib.Path(path).resolve().relative_to(root)\\n    if subdir.is_file():\\n        subdir = subdir.parent\\n    return \".\".join(subdir.parts)', metadata={'language': 'python', 'source': 'source/A_GIS/Code/guess_name/__init__.py'}), Document(page_content='def init(*, name=\"triangular\", **kwargs):\\n    \"\"\"\\n    Initialize a new distribution by name.\\n    \"\"\"\\n    import A_GIS.Math.Distribution.Triangular.init\\n\\n    if type == \"triangular\":\\n        return A_GIS.Math.Distribution.Triangular.init(**kwargs)\\n    else:\\n        raise ValueError(f\"{type} unknown\")', metadata={'language': 'python', 'source': 'source/A_GIS/Math/Distribution/init/__init__.py'})]\n"
     ]
    },
    {
     "ename": "AttributeError",
     "evalue": "'VectorStoreRetriever' object has no attribute 'document_store'",
     "output_type": "error",
     "traceback": [
      "\u001b[0;31m---------------------------------------------------------------------------\u001b[0m",
      "\u001b[0;31mAttributeError\u001b[0m                            Traceback (most recent call last)",
      "Cell \u001b[0;32mIn[202], line 11\u001b[0m\n\u001b[1;32m      8\u001b[0m     \u001b[38;5;66;03m# Correctly unpack search_results based on its actual structure\u001b[39;00m\n\u001b[1;32m      9\u001b[0m     \u001b[38;5;28;01mreturn\u001b[39;00m [(retriever\u001b[38;5;241m.\u001b[39mdocument_store\u001b[38;5;241m.\u001b[39mget_document(doc_id), score) \u001b[38;5;28;01mfor\u001b[39;00m doc_id, score, \u001b[38;5;241m*\u001b[39m_ \u001b[38;5;129;01min\u001b[39;00m search_results]\n\u001b[0;32m---> 11\u001b[0m retrieved_docs_with_scores \u001b[38;5;241m=\u001b[39m \u001b[43minvoke_with_scores\u001b[49m\u001b[43m(\u001b[49m\u001b[43mretriever\u001b[49m\u001b[43m,\u001b[49m\u001b[43m \u001b[49m\u001b[38;5;124;43m\"\u001b[39;49m\u001b[38;5;124;43mformat code\u001b[39;49m\u001b[38;5;124;43m\"\u001b[39;49m\u001b[43m)\u001b[49m\n\u001b[1;32m     12\u001b[0m \u001b[38;5;28;01mfor\u001b[39;00m doc, score \u001b[38;5;129;01min\u001b[39;00m retrieved_docs_with_scores:\n\u001b[1;32m     13\u001b[0m     \u001b[38;5;28mprint\u001b[39m(\u001b[38;5;124mf\u001b[39m\u001b[38;5;124m\"\u001b[39m\u001b[38;5;124mDocument: \u001b[39m\u001b[38;5;132;01m{\u001b[39;00mdoc\u001b[38;5;132;01m}\u001b[39;00m\u001b[38;5;124m, Similarity Score: \u001b[39m\u001b[38;5;132;01m{\u001b[39;00mscore\u001b[38;5;132;01m}\u001b[39;00m\u001b[38;5;124m\"\u001b[39m)\n",
      "Cell \u001b[0;32mIn[202], line 9\u001b[0m, in \u001b[0;36minvoke_with_scores\u001b[0;34m(retriever, query)\u001b[0m\n\u001b[1;32m      7\u001b[0m \u001b[38;5;28mprint\u001b[39m(search_results)  \u001b[38;5;66;03m# Temporarily print to debug\u001b[39;00m\n\u001b[1;32m      8\u001b[0m \u001b[38;5;66;03m# Correctly unpack search_results based on its actual structure\u001b[39;00m\n\u001b[0;32m----> 9\u001b[0m \u001b[38;5;28;01mreturn\u001b[39;00m \u001b[43m[\u001b[49m\u001b[43m(\u001b[49m\u001b[43mretriever\u001b[49m\u001b[38;5;241;43m.\u001b[39;49m\u001b[43mdocument_store\u001b[49m\u001b[38;5;241;43m.\u001b[39;49m\u001b[43mget_document\u001b[49m\u001b[43m(\u001b[49m\u001b[43mdoc_id\u001b[49m\u001b[43m)\u001b[49m\u001b[43m,\u001b[49m\u001b[43m \u001b[49m\u001b[43mscore\u001b[49m\u001b[43m)\u001b[49m\u001b[43m \u001b[49m\u001b[38;5;28;43;01mfor\u001b[39;49;00m\u001b[43m \u001b[49m\u001b[43mdoc_id\u001b[49m\u001b[43m,\u001b[49m\u001b[43m \u001b[49m\u001b[43mscore\u001b[49m\u001b[43m,\u001b[49m\u001b[43m \u001b[49m\u001b[38;5;241;43m*\u001b[39;49m\u001b[43m_\u001b[49m\u001b[43m \u001b[49m\u001b[38;5;129;43;01min\u001b[39;49;00m\u001b[43m \u001b[49m\u001b[43msearch_results\u001b[49m\u001b[43m]\u001b[49m\n",
      "Cell \u001b[0;32mIn[202], line 9\u001b[0m, in \u001b[0;36m<listcomp>\u001b[0;34m(.0)\u001b[0m\n\u001b[1;32m      7\u001b[0m \u001b[38;5;28mprint\u001b[39m(search_results)  \u001b[38;5;66;03m# Temporarily print to debug\u001b[39;00m\n\u001b[1;32m      8\u001b[0m \u001b[38;5;66;03m# Correctly unpack search_results based on its actual structure\u001b[39;00m\n\u001b[0;32m----> 9\u001b[0m \u001b[38;5;28;01mreturn\u001b[39;00m [(\u001b[43mretriever\u001b[49m\u001b[38;5;241;43m.\u001b[39;49m\u001b[43mdocument_store\u001b[49m\u001b[38;5;241m.\u001b[39mget_document(doc_id), score) \u001b[38;5;28;01mfor\u001b[39;00m doc_id, score, \u001b[38;5;241m*\u001b[39m_ \u001b[38;5;129;01min\u001b[39;00m search_results]\n",
      "\u001b[0;31mAttributeError\u001b[0m: 'VectorStoreRetriever' object has no attribute 'document_store'"
     ]
    }
   ],
   "source": [
    "def invoke_with_scores(retriever, query):\n",
    "    # Generate a query vector for your query\n",
    "    query_vector = retriever.vectorstore.embeddings.embed_query(query)\n",
    "    # Perform the search; this method and its parameters might differ\n",
    "    search_results = retriever.vectorstore.search(query_vector, search_type='similarity')\n",
    "    # Inspect search_results to understand its structure\n",
    "    print(search_results)  # Temporarily print to debug\n",
    "    # Correctly unpack search_results based on its actual structure\n",
    "    return [(retriever.document_store.get_document(doc_id), score) for doc_id, score, *_ in search_results]\n",
    "\n",
    "retrieved_docs_with_scores = invoke_with_scores(retriever, \"format code\")\n",
    "for doc, score in retrieved_docs_with_scores:\n",
    "    print(f\"Document: {doc}, Similarity Score: {score}\")\n"
   ]
  },
  {
   "cell_type": "code",
   "execution_count": null,
   "id": "b3b773df-6dc6-4ee0-9beb-4c6ce5984c19",
   "metadata": {},
   "outputs": [],
   "source": []
  },
  {
   "cell_type": "code",
   "execution_count": 206,
   "id": "0e42d0ad-184a-47ed-8ab7-95367fd9d42e",
   "metadata": {},
   "outputs": [],
   "source": [
    "def invoke_with_scores(retriever, query):\n",
    "    # Assuming this function correctly generates a query vector\n",
    "    query_vector = retriever.vectorstore.embeddings.embed_query(query)\n",
    "    # Perform the search; adjust parameters as needed\n",
    "    search_results = retriever.vectorstore.search(query_vector, search_type='similarity')\n",
    "    # Directly use search results if they include document content or references\n",
    "    return search_results  # Adjust this based on the actual format of search_results\n",
    "\n",
    "retrieved_docs = invoke_with_scores(retriever, \"format code\")"
   ]
  },
  {
   "cell_type": "code",
   "execution_count": 211,
   "id": "4430d006-0508-417e-b8d1-5b28d32e5835",
   "metadata": {},
   "outputs": [
    {
     "ename": "KeyboardInterrupt",
     "evalue": "",
     "output_type": "error",
     "traceback": [
      "\u001b[0;31m---------------------------------------------------------------------------\u001b[0m",
      "\u001b[0;31mKeyboardInterrupt\u001b[0m                         Traceback (most recent call last)",
      "Cell \u001b[0;32mIn[211], line 18\u001b[0m\n\u001b[1;32m     15\u001b[0m     \u001b[38;5;28;01mreturn\u001b[39;00m \u001b[38;5;28mlist\u001b[39m(\u001b[38;5;28mzip\u001b[39m(documents, scores))\n\u001b[1;32m     17\u001b[0m \u001b[38;5;66;03m# Assume 'retrieved_docs' is the list of documents returned by your retrieval function\u001b[39;00m\n\u001b[0;32m---> 18\u001b[0m retrieved_docs_with_scores \u001b[38;5;241m=\u001b[39m \u001b[43mcalculate_similarity_scores\u001b[49m\u001b[43m(\u001b[49m\u001b[43mretriever\u001b[49m\u001b[43m,\u001b[49m\u001b[43m \u001b[49m\u001b[38;5;124;43m\"\u001b[39;49m\u001b[38;5;124;43mformat code\u001b[39;49m\u001b[38;5;124;43m\"\u001b[39;49m\u001b[43m,\u001b[49m\u001b[43m \u001b[49m\u001b[43mretrieved_docs\u001b[49m\u001b[43m)\u001b[49m\n\u001b[1;32m     20\u001b[0m \u001b[38;5;28;01mfor\u001b[39;00m doc, score \u001b[38;5;129;01min\u001b[39;00m retrieved_docs_with_scores:\n\u001b[1;32m     21\u001b[0m     \u001b[38;5;28mprint\u001b[39m(\u001b[38;5;124mf\u001b[39m\u001b[38;5;124m\"\u001b[39m\u001b[38;5;124mDocument: \u001b[39m\u001b[38;5;132;01m{\u001b[39;00mdoc\u001b[38;5;241m.\u001b[39mpage_content[:\u001b[38;5;241m100\u001b[39m]\u001b[38;5;132;01m}\u001b[39;00m\u001b[38;5;124m... Similarity Score: \u001b[39m\u001b[38;5;132;01m{\u001b[39;00mscore\u001b[38;5;132;01m}\u001b[39;00m\u001b[38;5;124m\"\u001b[39m)\n",
      "Cell \u001b[0;32mIn[211], line 9\u001b[0m, in \u001b[0;36mcalculate_similarity_scores\u001b[0;34m(retriever, query, documents)\u001b[0m\n\u001b[1;32m      6\u001b[0m query_vector \u001b[38;5;241m=\u001b[39m np\u001b[38;5;241m.\u001b[39masarray(retriever\u001b[38;5;241m.\u001b[39mvectorstore\u001b[38;5;241m.\u001b[39membeddings\u001b[38;5;241m.\u001b[39membed_query(query))\u001b[38;5;241m.\u001b[39mreshape(\u001b[38;5;241m1\u001b[39m, \u001b[38;5;241m-\u001b[39m\u001b[38;5;241m1\u001b[39m)  \u001b[38;5;66;03m# Reshape for cosine_similarity\u001b[39;00m\n\u001b[1;32m      8\u001b[0m \u001b[38;5;66;03m# Embed each document\u001b[39;00m\n\u001b[0;32m----> 9\u001b[0m doc_vectors \u001b[38;5;241m=\u001b[39m np\u001b[38;5;241m.\u001b[39marray(\u001b[43m[\u001b[49m\u001b[43mretriever\u001b[49m\u001b[38;5;241;43m.\u001b[39;49m\u001b[43mvectorstore\u001b[49m\u001b[38;5;241;43m.\u001b[39;49m\u001b[43membeddings\u001b[49m\u001b[38;5;241;43m.\u001b[39;49m\u001b[43membed_documents\u001b[49m\u001b[43m(\u001b[49m\u001b[43mdoc\u001b[49m\u001b[38;5;241;43m.\u001b[39;49m\u001b[43mpage_content\u001b[49m\u001b[43m)\u001b[49m\u001b[43m \u001b[49m\u001b[38;5;28;43;01mfor\u001b[39;49;00m\u001b[43m \u001b[49m\u001b[43mdoc\u001b[49m\u001b[43m \u001b[49m\u001b[38;5;129;43;01min\u001b[39;49;00m\u001b[43m \u001b[49m\u001b[43mdocuments\u001b[49m\u001b[43m]\u001b[49m)\n\u001b[1;32m     11\u001b[0m \u001b[38;5;66;03m# Calculate cosine similarity\u001b[39;00m\n\u001b[1;32m     12\u001b[0m scores \u001b[38;5;241m=\u001b[39m cosine_similarity(query_vector, doc_vectors)\u001b[38;5;241m.\u001b[39mflatten()\n",
      "Cell \u001b[0;32mIn[211], line 9\u001b[0m, in \u001b[0;36m<listcomp>\u001b[0;34m(.0)\u001b[0m\n\u001b[1;32m      6\u001b[0m query_vector \u001b[38;5;241m=\u001b[39m np\u001b[38;5;241m.\u001b[39masarray(retriever\u001b[38;5;241m.\u001b[39mvectorstore\u001b[38;5;241m.\u001b[39membeddings\u001b[38;5;241m.\u001b[39membed_query(query))\u001b[38;5;241m.\u001b[39mreshape(\u001b[38;5;241m1\u001b[39m, \u001b[38;5;241m-\u001b[39m\u001b[38;5;241m1\u001b[39m)  \u001b[38;5;66;03m# Reshape for cosine_similarity\u001b[39;00m\n\u001b[1;32m      8\u001b[0m \u001b[38;5;66;03m# Embed each document\u001b[39;00m\n\u001b[0;32m----> 9\u001b[0m doc_vectors \u001b[38;5;241m=\u001b[39m np\u001b[38;5;241m.\u001b[39marray([\u001b[43mretriever\u001b[49m\u001b[38;5;241;43m.\u001b[39;49m\u001b[43mvectorstore\u001b[49m\u001b[38;5;241;43m.\u001b[39;49m\u001b[43membeddings\u001b[49m\u001b[38;5;241;43m.\u001b[39;49m\u001b[43membed_documents\u001b[49m\u001b[43m(\u001b[49m\u001b[43mdoc\u001b[49m\u001b[38;5;241;43m.\u001b[39;49m\u001b[43mpage_content\u001b[49m\u001b[43m)\u001b[49m \u001b[38;5;28;01mfor\u001b[39;00m doc \u001b[38;5;129;01min\u001b[39;00m documents])\n\u001b[1;32m     11\u001b[0m \u001b[38;5;66;03m# Calculate cosine similarity\u001b[39;00m\n\u001b[1;32m     12\u001b[0m scores \u001b[38;5;241m=\u001b[39m cosine_similarity(query_vector, doc_vectors)\u001b[38;5;241m.\u001b[39mflatten()\n",
      "File \u001b[0;32m~/a-gis/venv/lib/python3.11/site-packages/langchain_community/embeddings/ollama.py:204\u001b[0m, in \u001b[0;36mOllamaEmbeddings.embed_documents\u001b[0;34m(self, texts)\u001b[0m\n\u001b[1;32m    195\u001b[0m \u001b[38;5;250m\u001b[39m\u001b[38;5;124;03m\"\"\"Embed documents using an Ollama deployed embedding model.\u001b[39;00m\n\u001b[1;32m    196\u001b[0m \n\u001b[1;32m    197\u001b[0m \u001b[38;5;124;03mArgs:\u001b[39;00m\n\u001b[0;32m   (...)\u001b[0m\n\u001b[1;32m    201\u001b[0m \u001b[38;5;124;03m    List of embeddings, one for each text.\u001b[39;00m\n\u001b[1;32m    202\u001b[0m \u001b[38;5;124;03m\"\"\"\u001b[39;00m\n\u001b[1;32m    203\u001b[0m instruction_pairs \u001b[38;5;241m=\u001b[39m [\u001b[38;5;124mf\u001b[39m\u001b[38;5;124m\"\u001b[39m\u001b[38;5;132;01m{\u001b[39;00m\u001b[38;5;28mself\u001b[39m\u001b[38;5;241m.\u001b[39membed_instruction\u001b[38;5;132;01m}\u001b[39;00m\u001b[38;5;132;01m{\u001b[39;00mtext\u001b[38;5;132;01m}\u001b[39;00m\u001b[38;5;124m\"\u001b[39m \u001b[38;5;28;01mfor\u001b[39;00m text \u001b[38;5;129;01min\u001b[39;00m texts]\n\u001b[0;32m--> 204\u001b[0m embeddings \u001b[38;5;241m=\u001b[39m \u001b[38;5;28;43mself\u001b[39;49m\u001b[38;5;241;43m.\u001b[39;49m\u001b[43m_embed\u001b[49m\u001b[43m(\u001b[49m\u001b[43minstruction_pairs\u001b[49m\u001b[43m)\u001b[49m\n\u001b[1;32m    205\u001b[0m \u001b[38;5;28;01mreturn\u001b[39;00m embeddings\n",
      "File \u001b[0;32m~/a-gis/venv/lib/python3.11/site-packages/langchain_community/embeddings/ollama.py:192\u001b[0m, in \u001b[0;36mOllamaEmbeddings._embed\u001b[0;34m(self, input)\u001b[0m\n\u001b[1;32m    190\u001b[0m \u001b[38;5;28;01melse\u001b[39;00m:\n\u001b[1;32m    191\u001b[0m     iter_ \u001b[38;5;241m=\u001b[39m \u001b[38;5;28minput\u001b[39m\n\u001b[0;32m--> 192\u001b[0m \u001b[38;5;28;01mreturn\u001b[39;00m \u001b[43m[\u001b[49m\u001b[38;5;28;43mself\u001b[39;49m\u001b[38;5;241;43m.\u001b[39;49m\u001b[43m_process_emb_response\u001b[49m\u001b[43m(\u001b[49m\u001b[43mprompt\u001b[49m\u001b[43m)\u001b[49m\u001b[43m \u001b[49m\u001b[38;5;28;43;01mfor\u001b[39;49;00m\u001b[43m \u001b[49m\u001b[43mprompt\u001b[49m\u001b[43m \u001b[49m\u001b[38;5;129;43;01min\u001b[39;49;00m\u001b[43m \u001b[49m\u001b[43miter_\u001b[49m\u001b[43m]\u001b[49m\n",
      "File \u001b[0;32m~/a-gis/venv/lib/python3.11/site-packages/langchain_community/embeddings/ollama.py:192\u001b[0m, in \u001b[0;36m<listcomp>\u001b[0;34m(.0)\u001b[0m\n\u001b[1;32m    190\u001b[0m \u001b[38;5;28;01melse\u001b[39;00m:\n\u001b[1;32m    191\u001b[0m     iter_ \u001b[38;5;241m=\u001b[39m \u001b[38;5;28minput\u001b[39m\n\u001b[0;32m--> 192\u001b[0m \u001b[38;5;28;01mreturn\u001b[39;00m [\u001b[38;5;28;43mself\u001b[39;49m\u001b[38;5;241;43m.\u001b[39;49m\u001b[43m_process_emb_response\u001b[49m\u001b[43m(\u001b[49m\u001b[43mprompt\u001b[49m\u001b[43m)\u001b[49m \u001b[38;5;28;01mfor\u001b[39;00m prompt \u001b[38;5;129;01min\u001b[39;00m iter_]\n",
      "File \u001b[0;32m~/a-gis/venv/lib/python3.11/site-packages/langchain_community/embeddings/ollama.py:157\u001b[0m, in \u001b[0;36mOllamaEmbeddings._process_emb_response\u001b[0;34m(self, input)\u001b[0m\n\u001b[1;32m    152\u001b[0m headers \u001b[38;5;241m=\u001b[39m {\n\u001b[1;32m    153\u001b[0m     \u001b[38;5;124m\"\u001b[39m\u001b[38;5;124mContent-Type\u001b[39m\u001b[38;5;124m\"\u001b[39m: \u001b[38;5;124m\"\u001b[39m\u001b[38;5;124mapplication/json\u001b[39m\u001b[38;5;124m\"\u001b[39m,\n\u001b[1;32m    154\u001b[0m }\n\u001b[1;32m    156\u001b[0m \u001b[38;5;28;01mtry\u001b[39;00m:\n\u001b[0;32m--> 157\u001b[0m     res \u001b[38;5;241m=\u001b[39m \u001b[43mrequests\u001b[49m\u001b[38;5;241;43m.\u001b[39;49m\u001b[43mpost\u001b[49m\u001b[43m(\u001b[49m\n\u001b[1;32m    158\u001b[0m \u001b[43m        \u001b[49m\u001b[38;5;124;43mf\u001b[39;49m\u001b[38;5;124;43m\"\u001b[39;49m\u001b[38;5;132;43;01m{\u001b[39;49;00m\u001b[38;5;28;43mself\u001b[39;49m\u001b[38;5;241;43m.\u001b[39;49m\u001b[43mbase_url\u001b[49m\u001b[38;5;132;43;01m}\u001b[39;49;00m\u001b[38;5;124;43m/api/embeddings\u001b[39;49m\u001b[38;5;124;43m\"\u001b[39;49m\u001b[43m,\u001b[49m\n\u001b[1;32m    159\u001b[0m \u001b[43m        \u001b[49m\u001b[43mheaders\u001b[49m\u001b[38;5;241;43m=\u001b[39;49m\u001b[43mheaders\u001b[49m\u001b[43m,\u001b[49m\n\u001b[1;32m    160\u001b[0m \u001b[43m        \u001b[49m\u001b[43mjson\u001b[49m\u001b[38;5;241;43m=\u001b[39;49m\u001b[43m{\u001b[49m\u001b[38;5;124;43m\"\u001b[39;49m\u001b[38;5;124;43mmodel\u001b[39;49m\u001b[38;5;124;43m\"\u001b[39;49m\u001b[43m:\u001b[49m\u001b[43m \u001b[49m\u001b[38;5;28;43mself\u001b[39;49m\u001b[38;5;241;43m.\u001b[39;49m\u001b[43mmodel\u001b[49m\u001b[43m,\u001b[49m\u001b[43m \u001b[49m\u001b[38;5;124;43m\"\u001b[39;49m\u001b[38;5;124;43mprompt\u001b[39;49m\u001b[38;5;124;43m\"\u001b[39;49m\u001b[43m:\u001b[49m\u001b[43m \u001b[49m\u001b[38;5;28;43minput\u001b[39;49m\u001b[43m,\u001b[49m\u001b[43m \u001b[49m\u001b[38;5;241;43m*\u001b[39;49m\u001b[38;5;241;43m*\u001b[39;49m\u001b[38;5;28;43mself\u001b[39;49m\u001b[38;5;241;43m.\u001b[39;49m\u001b[43m_default_params\u001b[49m\u001b[43m}\u001b[49m\u001b[43m,\u001b[49m\n\u001b[1;32m    161\u001b[0m \u001b[43m    \u001b[49m\u001b[43m)\u001b[49m\n\u001b[1;32m    162\u001b[0m \u001b[38;5;28;01mexcept\u001b[39;00m requests\u001b[38;5;241m.\u001b[39mexceptions\u001b[38;5;241m.\u001b[39mRequestException \u001b[38;5;28;01mas\u001b[39;00m e:\n\u001b[1;32m    163\u001b[0m     \u001b[38;5;28;01mraise\u001b[39;00m \u001b[38;5;167;01mValueError\u001b[39;00m(\u001b[38;5;124mf\u001b[39m\u001b[38;5;124m\"\u001b[39m\u001b[38;5;124mError raised by inference endpoint: \u001b[39m\u001b[38;5;132;01m{\u001b[39;00me\u001b[38;5;132;01m}\u001b[39;00m\u001b[38;5;124m\"\u001b[39m)\n",
      "File \u001b[0;32m~/a-gis/venv/lib/python3.11/site-packages/requests/api.py:115\u001b[0m, in \u001b[0;36mpost\u001b[0;34m(url, data, json, **kwargs)\u001b[0m\n\u001b[1;32m    103\u001b[0m \u001b[38;5;28;01mdef\u001b[39;00m \u001b[38;5;21mpost\u001b[39m(url, data\u001b[38;5;241m=\u001b[39m\u001b[38;5;28;01mNone\u001b[39;00m, json\u001b[38;5;241m=\u001b[39m\u001b[38;5;28;01mNone\u001b[39;00m, \u001b[38;5;241m*\u001b[39m\u001b[38;5;241m*\u001b[39mkwargs):\n\u001b[1;32m    104\u001b[0m \u001b[38;5;250m    \u001b[39m\u001b[38;5;124mr\u001b[39m\u001b[38;5;124;03m\"\"\"Sends a POST request.\u001b[39;00m\n\u001b[1;32m    105\u001b[0m \n\u001b[1;32m    106\u001b[0m \u001b[38;5;124;03m    :param url: URL for the new :class:`Request` object.\u001b[39;00m\n\u001b[0;32m   (...)\u001b[0m\n\u001b[1;32m    112\u001b[0m \u001b[38;5;124;03m    :rtype: requests.Response\u001b[39;00m\n\u001b[1;32m    113\u001b[0m \u001b[38;5;124;03m    \"\"\"\u001b[39;00m\n\u001b[0;32m--> 115\u001b[0m     \u001b[38;5;28;01mreturn\u001b[39;00m \u001b[43mrequest\u001b[49m\u001b[43m(\u001b[49m\u001b[38;5;124;43m\"\u001b[39;49m\u001b[38;5;124;43mpost\u001b[39;49m\u001b[38;5;124;43m\"\u001b[39;49m\u001b[43m,\u001b[49m\u001b[43m \u001b[49m\u001b[43murl\u001b[49m\u001b[43m,\u001b[49m\u001b[43m \u001b[49m\u001b[43mdata\u001b[49m\u001b[38;5;241;43m=\u001b[39;49m\u001b[43mdata\u001b[49m\u001b[43m,\u001b[49m\u001b[43m \u001b[49m\u001b[43mjson\u001b[49m\u001b[38;5;241;43m=\u001b[39;49m\u001b[43mjson\u001b[49m\u001b[43m,\u001b[49m\u001b[43m \u001b[49m\u001b[38;5;241;43m*\u001b[39;49m\u001b[38;5;241;43m*\u001b[39;49m\u001b[43mkwargs\u001b[49m\u001b[43m)\u001b[49m\n",
      "File \u001b[0;32m~/a-gis/venv/lib/python3.11/site-packages/requests/api.py:59\u001b[0m, in \u001b[0;36mrequest\u001b[0;34m(method, url, **kwargs)\u001b[0m\n\u001b[1;32m     55\u001b[0m \u001b[38;5;66;03m# By using the 'with' statement we are sure the session is closed, thus we\u001b[39;00m\n\u001b[1;32m     56\u001b[0m \u001b[38;5;66;03m# avoid leaving sockets open which can trigger a ResourceWarning in some\u001b[39;00m\n\u001b[1;32m     57\u001b[0m \u001b[38;5;66;03m# cases, and look like a memory leak in others.\u001b[39;00m\n\u001b[1;32m     58\u001b[0m \u001b[38;5;28;01mwith\u001b[39;00m sessions\u001b[38;5;241m.\u001b[39mSession() \u001b[38;5;28;01mas\u001b[39;00m session:\n\u001b[0;32m---> 59\u001b[0m     \u001b[38;5;28;01mreturn\u001b[39;00m \u001b[43msession\u001b[49m\u001b[38;5;241;43m.\u001b[39;49m\u001b[43mrequest\u001b[49m\u001b[43m(\u001b[49m\u001b[43mmethod\u001b[49m\u001b[38;5;241;43m=\u001b[39;49m\u001b[43mmethod\u001b[49m\u001b[43m,\u001b[49m\u001b[43m \u001b[49m\u001b[43murl\u001b[49m\u001b[38;5;241;43m=\u001b[39;49m\u001b[43murl\u001b[49m\u001b[43m,\u001b[49m\u001b[43m \u001b[49m\u001b[38;5;241;43m*\u001b[39;49m\u001b[38;5;241;43m*\u001b[39;49m\u001b[43mkwargs\u001b[49m\u001b[43m)\u001b[49m\n",
      "File \u001b[0;32m~/a-gis/venv/lib/python3.11/site-packages/requests/sessions.py:589\u001b[0m, in \u001b[0;36mSession.request\u001b[0;34m(self, method, url, params, data, headers, cookies, files, auth, timeout, allow_redirects, proxies, hooks, stream, verify, cert, json)\u001b[0m\n\u001b[1;32m    584\u001b[0m send_kwargs \u001b[38;5;241m=\u001b[39m {\n\u001b[1;32m    585\u001b[0m     \u001b[38;5;124m\"\u001b[39m\u001b[38;5;124mtimeout\u001b[39m\u001b[38;5;124m\"\u001b[39m: timeout,\n\u001b[1;32m    586\u001b[0m     \u001b[38;5;124m\"\u001b[39m\u001b[38;5;124mallow_redirects\u001b[39m\u001b[38;5;124m\"\u001b[39m: allow_redirects,\n\u001b[1;32m    587\u001b[0m }\n\u001b[1;32m    588\u001b[0m send_kwargs\u001b[38;5;241m.\u001b[39mupdate(settings)\n\u001b[0;32m--> 589\u001b[0m resp \u001b[38;5;241m=\u001b[39m \u001b[38;5;28;43mself\u001b[39;49m\u001b[38;5;241;43m.\u001b[39;49m\u001b[43msend\u001b[49m\u001b[43m(\u001b[49m\u001b[43mprep\u001b[49m\u001b[43m,\u001b[49m\u001b[43m \u001b[49m\u001b[38;5;241;43m*\u001b[39;49m\u001b[38;5;241;43m*\u001b[39;49m\u001b[43msend_kwargs\u001b[49m\u001b[43m)\u001b[49m\n\u001b[1;32m    591\u001b[0m \u001b[38;5;28;01mreturn\u001b[39;00m resp\n",
      "File \u001b[0;32m~/a-gis/venv/lib/python3.11/site-packages/requests/sessions.py:703\u001b[0m, in \u001b[0;36mSession.send\u001b[0;34m(self, request, **kwargs)\u001b[0m\n\u001b[1;32m    700\u001b[0m start \u001b[38;5;241m=\u001b[39m preferred_clock()\n\u001b[1;32m    702\u001b[0m \u001b[38;5;66;03m# Send the request\u001b[39;00m\n\u001b[0;32m--> 703\u001b[0m r \u001b[38;5;241m=\u001b[39m \u001b[43madapter\u001b[49m\u001b[38;5;241;43m.\u001b[39;49m\u001b[43msend\u001b[49m\u001b[43m(\u001b[49m\u001b[43mrequest\u001b[49m\u001b[43m,\u001b[49m\u001b[43m \u001b[49m\u001b[38;5;241;43m*\u001b[39;49m\u001b[38;5;241;43m*\u001b[39;49m\u001b[43mkwargs\u001b[49m\u001b[43m)\u001b[49m\n\u001b[1;32m    705\u001b[0m \u001b[38;5;66;03m# Total elapsed time of the request (approximately)\u001b[39;00m\n\u001b[1;32m    706\u001b[0m elapsed \u001b[38;5;241m=\u001b[39m preferred_clock() \u001b[38;5;241m-\u001b[39m start\n",
      "File \u001b[0;32m~/a-gis/venv/lib/python3.11/site-packages/requests/adapters.py:486\u001b[0m, in \u001b[0;36mHTTPAdapter.send\u001b[0;34m(self, request, stream, timeout, verify, cert, proxies)\u001b[0m\n\u001b[1;32m    483\u001b[0m     timeout \u001b[38;5;241m=\u001b[39m TimeoutSauce(connect\u001b[38;5;241m=\u001b[39mtimeout, read\u001b[38;5;241m=\u001b[39mtimeout)\n\u001b[1;32m    485\u001b[0m \u001b[38;5;28;01mtry\u001b[39;00m:\n\u001b[0;32m--> 486\u001b[0m     resp \u001b[38;5;241m=\u001b[39m \u001b[43mconn\u001b[49m\u001b[38;5;241;43m.\u001b[39;49m\u001b[43murlopen\u001b[49m\u001b[43m(\u001b[49m\n\u001b[1;32m    487\u001b[0m \u001b[43m        \u001b[49m\u001b[43mmethod\u001b[49m\u001b[38;5;241;43m=\u001b[39;49m\u001b[43mrequest\u001b[49m\u001b[38;5;241;43m.\u001b[39;49m\u001b[43mmethod\u001b[49m\u001b[43m,\u001b[49m\n\u001b[1;32m    488\u001b[0m \u001b[43m        \u001b[49m\u001b[43murl\u001b[49m\u001b[38;5;241;43m=\u001b[39;49m\u001b[43murl\u001b[49m\u001b[43m,\u001b[49m\n\u001b[1;32m    489\u001b[0m \u001b[43m        \u001b[49m\u001b[43mbody\u001b[49m\u001b[38;5;241;43m=\u001b[39;49m\u001b[43mrequest\u001b[49m\u001b[38;5;241;43m.\u001b[39;49m\u001b[43mbody\u001b[49m\u001b[43m,\u001b[49m\n\u001b[1;32m    490\u001b[0m \u001b[43m        \u001b[49m\u001b[43mheaders\u001b[49m\u001b[38;5;241;43m=\u001b[39;49m\u001b[43mrequest\u001b[49m\u001b[38;5;241;43m.\u001b[39;49m\u001b[43mheaders\u001b[49m\u001b[43m,\u001b[49m\n\u001b[1;32m    491\u001b[0m \u001b[43m        \u001b[49m\u001b[43mredirect\u001b[49m\u001b[38;5;241;43m=\u001b[39;49m\u001b[38;5;28;43;01mFalse\u001b[39;49;00m\u001b[43m,\u001b[49m\n\u001b[1;32m    492\u001b[0m \u001b[43m        \u001b[49m\u001b[43massert_same_host\u001b[49m\u001b[38;5;241;43m=\u001b[39;49m\u001b[38;5;28;43;01mFalse\u001b[39;49;00m\u001b[43m,\u001b[49m\n\u001b[1;32m    493\u001b[0m \u001b[43m        \u001b[49m\u001b[43mpreload_content\u001b[49m\u001b[38;5;241;43m=\u001b[39;49m\u001b[38;5;28;43;01mFalse\u001b[39;49;00m\u001b[43m,\u001b[49m\n\u001b[1;32m    494\u001b[0m \u001b[43m        \u001b[49m\u001b[43mdecode_content\u001b[49m\u001b[38;5;241;43m=\u001b[39;49m\u001b[38;5;28;43;01mFalse\u001b[39;49;00m\u001b[43m,\u001b[49m\n\u001b[1;32m    495\u001b[0m \u001b[43m        \u001b[49m\u001b[43mretries\u001b[49m\u001b[38;5;241;43m=\u001b[39;49m\u001b[38;5;28;43mself\u001b[39;49m\u001b[38;5;241;43m.\u001b[39;49m\u001b[43mmax_retries\u001b[49m\u001b[43m,\u001b[49m\n\u001b[1;32m    496\u001b[0m \u001b[43m        \u001b[49m\u001b[43mtimeout\u001b[49m\u001b[38;5;241;43m=\u001b[39;49m\u001b[43mtimeout\u001b[49m\u001b[43m,\u001b[49m\n\u001b[1;32m    497\u001b[0m \u001b[43m        \u001b[49m\u001b[43mchunked\u001b[49m\u001b[38;5;241;43m=\u001b[39;49m\u001b[43mchunked\u001b[49m\u001b[43m,\u001b[49m\n\u001b[1;32m    498\u001b[0m \u001b[43m    \u001b[49m\u001b[43m)\u001b[49m\n\u001b[1;32m    500\u001b[0m \u001b[38;5;28;01mexcept\u001b[39;00m (ProtocolError, \u001b[38;5;167;01mOSError\u001b[39;00m) \u001b[38;5;28;01mas\u001b[39;00m err:\n\u001b[1;32m    501\u001b[0m     \u001b[38;5;28;01mraise\u001b[39;00m \u001b[38;5;167;01mConnectionError\u001b[39;00m(err, request\u001b[38;5;241m=\u001b[39mrequest)\n",
      "File \u001b[0;32m~/a-gis/venv/lib/python3.11/site-packages/urllib3/connectionpool.py:793\u001b[0m, in \u001b[0;36mHTTPConnectionPool.urlopen\u001b[0;34m(self, method, url, body, headers, retries, redirect, assert_same_host, timeout, pool_timeout, release_conn, chunked, body_pos, preload_content, decode_content, **response_kw)\u001b[0m\n\u001b[1;32m    790\u001b[0m response_conn \u001b[38;5;241m=\u001b[39m conn \u001b[38;5;28;01mif\u001b[39;00m \u001b[38;5;129;01mnot\u001b[39;00m release_conn \u001b[38;5;28;01melse\u001b[39;00m \u001b[38;5;28;01mNone\u001b[39;00m\n\u001b[1;32m    792\u001b[0m \u001b[38;5;66;03m# Make the request on the HTTPConnection object\u001b[39;00m\n\u001b[0;32m--> 793\u001b[0m response \u001b[38;5;241m=\u001b[39m \u001b[38;5;28;43mself\u001b[39;49m\u001b[38;5;241;43m.\u001b[39;49m\u001b[43m_make_request\u001b[49m\u001b[43m(\u001b[49m\n\u001b[1;32m    794\u001b[0m \u001b[43m    \u001b[49m\u001b[43mconn\u001b[49m\u001b[43m,\u001b[49m\n\u001b[1;32m    795\u001b[0m \u001b[43m    \u001b[49m\u001b[43mmethod\u001b[49m\u001b[43m,\u001b[49m\n\u001b[1;32m    796\u001b[0m \u001b[43m    \u001b[49m\u001b[43murl\u001b[49m\u001b[43m,\u001b[49m\n\u001b[1;32m    797\u001b[0m \u001b[43m    \u001b[49m\u001b[43mtimeout\u001b[49m\u001b[38;5;241;43m=\u001b[39;49m\u001b[43mtimeout_obj\u001b[49m\u001b[43m,\u001b[49m\n\u001b[1;32m    798\u001b[0m \u001b[43m    \u001b[49m\u001b[43mbody\u001b[49m\u001b[38;5;241;43m=\u001b[39;49m\u001b[43mbody\u001b[49m\u001b[43m,\u001b[49m\n\u001b[1;32m    799\u001b[0m \u001b[43m    \u001b[49m\u001b[43mheaders\u001b[49m\u001b[38;5;241;43m=\u001b[39;49m\u001b[43mheaders\u001b[49m\u001b[43m,\u001b[49m\n\u001b[1;32m    800\u001b[0m \u001b[43m    \u001b[49m\u001b[43mchunked\u001b[49m\u001b[38;5;241;43m=\u001b[39;49m\u001b[43mchunked\u001b[49m\u001b[43m,\u001b[49m\n\u001b[1;32m    801\u001b[0m \u001b[43m    \u001b[49m\u001b[43mretries\u001b[49m\u001b[38;5;241;43m=\u001b[39;49m\u001b[43mretries\u001b[49m\u001b[43m,\u001b[49m\n\u001b[1;32m    802\u001b[0m \u001b[43m    \u001b[49m\u001b[43mresponse_conn\u001b[49m\u001b[38;5;241;43m=\u001b[39;49m\u001b[43mresponse_conn\u001b[49m\u001b[43m,\u001b[49m\n\u001b[1;32m    803\u001b[0m \u001b[43m    \u001b[49m\u001b[43mpreload_content\u001b[49m\u001b[38;5;241;43m=\u001b[39;49m\u001b[43mpreload_content\u001b[49m\u001b[43m,\u001b[49m\n\u001b[1;32m    804\u001b[0m \u001b[43m    \u001b[49m\u001b[43mdecode_content\u001b[49m\u001b[38;5;241;43m=\u001b[39;49m\u001b[43mdecode_content\u001b[49m\u001b[43m,\u001b[49m\n\u001b[1;32m    805\u001b[0m \u001b[43m    \u001b[49m\u001b[38;5;241;43m*\u001b[39;49m\u001b[38;5;241;43m*\u001b[39;49m\u001b[43mresponse_kw\u001b[49m\u001b[43m,\u001b[49m\n\u001b[1;32m    806\u001b[0m \u001b[43m\u001b[49m\u001b[43m)\u001b[49m\n\u001b[1;32m    808\u001b[0m \u001b[38;5;66;03m# Everything went great!\u001b[39;00m\n\u001b[1;32m    809\u001b[0m clean_exit \u001b[38;5;241m=\u001b[39m \u001b[38;5;28;01mTrue\u001b[39;00m\n",
      "File \u001b[0;32m~/a-gis/venv/lib/python3.11/site-packages/urllib3/connectionpool.py:537\u001b[0m, in \u001b[0;36mHTTPConnectionPool._make_request\u001b[0;34m(self, conn, method, url, body, headers, retries, timeout, chunked, response_conn, preload_content, decode_content, enforce_content_length)\u001b[0m\n\u001b[1;32m    535\u001b[0m \u001b[38;5;66;03m# Receive the response from the server\u001b[39;00m\n\u001b[1;32m    536\u001b[0m \u001b[38;5;28;01mtry\u001b[39;00m:\n\u001b[0;32m--> 537\u001b[0m     response \u001b[38;5;241m=\u001b[39m \u001b[43mconn\u001b[49m\u001b[38;5;241;43m.\u001b[39;49m\u001b[43mgetresponse\u001b[49m\u001b[43m(\u001b[49m\u001b[43m)\u001b[49m\n\u001b[1;32m    538\u001b[0m \u001b[38;5;28;01mexcept\u001b[39;00m (BaseSSLError, \u001b[38;5;167;01mOSError\u001b[39;00m) \u001b[38;5;28;01mas\u001b[39;00m e:\n\u001b[1;32m    539\u001b[0m     \u001b[38;5;28mself\u001b[39m\u001b[38;5;241m.\u001b[39m_raise_timeout(err\u001b[38;5;241m=\u001b[39me, url\u001b[38;5;241m=\u001b[39murl, timeout_value\u001b[38;5;241m=\u001b[39mread_timeout)\n",
      "File \u001b[0;32m~/a-gis/venv/lib/python3.11/site-packages/urllib3/connection.py:466\u001b[0m, in \u001b[0;36mHTTPConnection.getresponse\u001b[0;34m(self)\u001b[0m\n\u001b[1;32m    463\u001b[0m \u001b[38;5;28;01mfrom\u001b[39;00m \u001b[38;5;21;01m.\u001b[39;00m\u001b[38;5;21;01mresponse\u001b[39;00m \u001b[38;5;28;01mimport\u001b[39;00m HTTPResponse\n\u001b[1;32m    465\u001b[0m \u001b[38;5;66;03m# Get the response from http.client.HTTPConnection\u001b[39;00m\n\u001b[0;32m--> 466\u001b[0m httplib_response \u001b[38;5;241m=\u001b[39m \u001b[38;5;28;43msuper\u001b[39;49m\u001b[43m(\u001b[49m\u001b[43m)\u001b[49m\u001b[38;5;241;43m.\u001b[39;49m\u001b[43mgetresponse\u001b[49m\u001b[43m(\u001b[49m\u001b[43m)\u001b[49m\n\u001b[1;32m    468\u001b[0m \u001b[38;5;28;01mtry\u001b[39;00m:\n\u001b[1;32m    469\u001b[0m     assert_header_parsing(httplib_response\u001b[38;5;241m.\u001b[39mmsg)\n",
      "File \u001b[0;32m/opt/homebrew/Caskroom/miniconda/base/lib/python3.11/http/client.py:1378\u001b[0m, in \u001b[0;36mHTTPConnection.getresponse\u001b[0;34m(self)\u001b[0m\n\u001b[1;32m   1376\u001b[0m \u001b[38;5;28;01mtry\u001b[39;00m:\n\u001b[1;32m   1377\u001b[0m     \u001b[38;5;28;01mtry\u001b[39;00m:\n\u001b[0;32m-> 1378\u001b[0m         \u001b[43mresponse\u001b[49m\u001b[38;5;241;43m.\u001b[39;49m\u001b[43mbegin\u001b[49m\u001b[43m(\u001b[49m\u001b[43m)\u001b[49m\n\u001b[1;32m   1379\u001b[0m     \u001b[38;5;28;01mexcept\u001b[39;00m \u001b[38;5;167;01mConnectionError\u001b[39;00m:\n\u001b[1;32m   1380\u001b[0m         \u001b[38;5;28mself\u001b[39m\u001b[38;5;241m.\u001b[39mclose()\n",
      "File \u001b[0;32m/opt/homebrew/Caskroom/miniconda/base/lib/python3.11/http/client.py:318\u001b[0m, in \u001b[0;36mHTTPResponse.begin\u001b[0;34m(self)\u001b[0m\n\u001b[1;32m    316\u001b[0m \u001b[38;5;66;03m# read until we get a non-100 response\u001b[39;00m\n\u001b[1;32m    317\u001b[0m \u001b[38;5;28;01mwhile\u001b[39;00m \u001b[38;5;28;01mTrue\u001b[39;00m:\n\u001b[0;32m--> 318\u001b[0m     version, status, reason \u001b[38;5;241m=\u001b[39m \u001b[38;5;28;43mself\u001b[39;49m\u001b[38;5;241;43m.\u001b[39;49m\u001b[43m_read_status\u001b[49m\u001b[43m(\u001b[49m\u001b[43m)\u001b[49m\n\u001b[1;32m    319\u001b[0m     \u001b[38;5;28;01mif\u001b[39;00m status \u001b[38;5;241m!=\u001b[39m CONTINUE:\n\u001b[1;32m    320\u001b[0m         \u001b[38;5;28;01mbreak\u001b[39;00m\n",
      "File \u001b[0;32m/opt/homebrew/Caskroom/miniconda/base/lib/python3.11/http/client.py:279\u001b[0m, in \u001b[0;36mHTTPResponse._read_status\u001b[0;34m(self)\u001b[0m\n\u001b[1;32m    278\u001b[0m \u001b[38;5;28;01mdef\u001b[39;00m \u001b[38;5;21m_read_status\u001b[39m(\u001b[38;5;28mself\u001b[39m):\n\u001b[0;32m--> 279\u001b[0m     line \u001b[38;5;241m=\u001b[39m \u001b[38;5;28mstr\u001b[39m(\u001b[38;5;28mself\u001b[39m\u001b[38;5;241m.\u001b[39mfp\u001b[38;5;241m.\u001b[39mreadline(_MAXLINE \u001b[38;5;241m+\u001b[39m \u001b[38;5;241m1\u001b[39m), \u001b[38;5;124m\"\u001b[39m\u001b[38;5;124miso-8859-1\u001b[39m\u001b[38;5;124m\"\u001b[39m)\n\u001b[1;32m    280\u001b[0m     \u001b[38;5;28;01mif\u001b[39;00m \u001b[38;5;28mlen\u001b[39m(line) \u001b[38;5;241m>\u001b[39m _MAXLINE:\n\u001b[1;32m    281\u001b[0m         \u001b[38;5;28;01mraise\u001b[39;00m LineTooLong(\u001b[38;5;124m\"\u001b[39m\u001b[38;5;124mstatus line\u001b[39m\u001b[38;5;124m\"\u001b[39m)\n",
      "File \u001b[0;32m/opt/homebrew/Caskroom/miniconda/base/lib/python3.11/socket.py:706\u001b[0m, in \u001b[0;36mSocketIO.readinto\u001b[0;34m(self, b)\u001b[0m\n\u001b[1;32m    704\u001b[0m \u001b[38;5;28;01mwhile\u001b[39;00m \u001b[38;5;28;01mTrue\u001b[39;00m:\n\u001b[1;32m    705\u001b[0m     \u001b[38;5;28;01mtry\u001b[39;00m:\n\u001b[0;32m--> 706\u001b[0m         \u001b[38;5;28;01mreturn\u001b[39;00m \u001b[38;5;28;43mself\u001b[39;49m\u001b[38;5;241;43m.\u001b[39;49m\u001b[43m_sock\u001b[49m\u001b[38;5;241;43m.\u001b[39;49m\u001b[43mrecv_into\u001b[49m\u001b[43m(\u001b[49m\u001b[43mb\u001b[49m\u001b[43m)\u001b[49m\n\u001b[1;32m    707\u001b[0m     \u001b[38;5;28;01mexcept\u001b[39;00m timeout:\n\u001b[1;32m    708\u001b[0m         \u001b[38;5;28mself\u001b[39m\u001b[38;5;241m.\u001b[39m_timeout_occurred \u001b[38;5;241m=\u001b[39m \u001b[38;5;28;01mTrue\u001b[39;00m\n",
      "\u001b[0;31mKeyboardInterrupt\u001b[0m: "
     ]
    }
   ],
   "source": [
    "from sklearn.metrics.pairwise import cosine_similarity\n",
    "import numpy as np\n",
    "\n",
    "def calculate_similarity_scores(retriever, query, documents):\n",
    "    # Embed the query\n",
    "    query_vector = np.asarray(retriever.vectorstore.embeddings.embed_query(query)).reshape(1, -1)  # Reshape for cosine_similarity\n",
    "    \n",
    "    # Embed each document\n",
    "    doc_vectors = np.array([retriever.vectorstore.embeddings.embed_documents(doc.page_content) for doc in documents])\n",
    "    \n",
    "    # Calculate cosine similarity\n",
    "    scores = cosine_similarity(query_vector, doc_vectors).flatten()\n",
    "    \n",
    "    # Return documents paired with their similarity scores\n",
    "    return list(zip(documents, scores))\n",
    "\n",
    "# Assume 'retrieved_docs' is the list of documents returned by your retrieval function\n",
    "retrieved_docs_with_scores = calculate_similarity_scores(retriever, \"format code\", retrieved_docs)\n",
    "\n",
    "for doc, score in retrieved_docs_with_scores:\n",
    "    print(f\"Document: {doc.page_content[:100]}... Similarity Score: {score}\")\n"
   ]
  },
  {
   "cell_type": "code",
   "execution_count": 214,
   "id": "eb48f24f-637c-447a-89ca-9d729e3fc371",
   "metadata": {},
   "outputs": [],
   "source": [
    "x='\\ndef example_function(param1, param2):\\n    \"\"\"This is a docstring.\"\"\"\\n    return (param1, param2)\\n'"
   ]
  },
  {
   "cell_type": "code",
   "execution_count": 219,
   "id": "f3da47b9-5d5f-4a4d-b994-24fee6cf8dde",
   "metadata": {},
   "outputs": [],
   "source": [
    "y=x.encode('utf-8').decode('unicode_escape')"
   ]
  },
  {
   "cell_type": "code",
   "execution_count": 220,
   "id": "b34e464f-97f7-4f06-bb9d-97d2aeef72de",
   "metadata": {},
   "outputs": [
    {
     "name": "stdout",
     "output_type": "stream",
     "text": [
      "\n",
      "def example_function(param1, param2):\n",
      "    \"\"\"This is a docstring.\"\"\"\n",
      "    return (param1, param2)\n",
      "\n"
     ]
    }
   ],
   "source": [
    "print(y)"
   ]
  },
  {
   "cell_type": "code",
   "execution_count": 221,
   "id": "3251a2ed-d026-4b79-bcd5-8336a615a477",
   "metadata": {},
   "outputs": [
    {
     "name": "stdout",
     "output_type": "stream",
     "text": [
      "\n",
      "def example_function(param1, param2):\n",
      "    \"\"\"This is a docstring.\"\"\"\n",
      "    return (param1, param2)\n",
      "\n"
     ]
    }
   ],
   "source": [
    "print(x)"
   ]
  },
  {
   "cell_type": "code",
   "execution_count": 222,
   "id": "94a91601-b61e-42f5-ad98-efcc486228a1",
   "metadata": {},
   "outputs": [],
   "source": [
    "import ast\n",
    "\n",
    "class StringTransformer(ast.NodeTransformer):\n",
    "    def visit_Str(self, node):\n",
    "        # This method will visit every string in the code.\n",
    "        if \"\\n\" in node.s:\n",
    "            # Prepare the string by escaping triple quotes and backslashes\n",
    "            escaped_s = node.s.replace('\\\\', '\\\\\\\\').replace('\"\"\"', '\\\\\"\"\"')\n",
    "            # Interpret escape sequences\n",
    "            interpreted_s = escaped_s.encode('utf-8').decode('unicode_escape')\n",
    "            # Enclose in triple quotes\n",
    "            new_s = f'\"\"\"{interpreted_s}\"\"\"'\n",
    "        else:\n",
    "            # Escape double quotes and backslashes for single-line strings\n",
    "            escaped_s = node.s.replace('\\\\', '\\\\\\\\').replace('\"', '\\\\\"')\n",
    "            new_s = f'\"{escaped_s}\"'\n",
    "\n",
    "        return ast.Str(s=new_s)"
   ]
  },
  {
   "cell_type": "code",
   "execution_count": 270,
   "id": "830c30df-38a9-4296-9b7f-925762f4aeba",
   "metadata": {},
   "outputs": [
    {
     "name": "stdout",
     "output_type": "stream",
     "text": [
      "\n",
      "def example_function(param1, param2):\n",
      "    '''This is a docstring.'''\n",
      "    return (param1, param2)\n",
      "\n",
      "\n"
     ]
    }
   ],
   "source": [
    "import astor\n",
    "# Sample code\n",
    "code = \"\\ndef example_function(param1, param2):\\n    '''This is a docstring.'''\\n    return (param1, param2)\\n\"\"\"\n",
    "\n",
    "import io\n",
    "\n",
    "# Create a StringIO object\n",
    "output = io.StringIO()\n",
    "\n",
    "# Use the file argument in print to direct output to the StringIO object\n",
    "print(code, file=output)\n",
    "\n",
    "# Retrieve the content of the StringIO object\n",
    "captured_output = output.getvalue()\n",
    "\n",
    "# Don't forget to close the StringIO object when you're done\n",
    "output.close()\n",
    "\n",
    "# captured_output now contains the string 'Hello, world!\\n'\n",
    "print(captured_output)\n"
   ]
  },
  {
   "cell_type": "code",
   "execution_count": 266,
   "id": "50341231-0984-4db7-938c-a20eeeb83d5b",
   "metadata": {},
   "outputs": [
    {
     "name": "stdout",
     "output_type": "stream",
     "text": [
      "\n",
      "def example_function(param1, param2):\n",
      "    \"\"\"This is a docstring.\"\"\"\n",
      "    return (param1, param2)\n",
      "\n"
     ]
    }
   ],
   "source": [
    "print(code)"
   ]
  },
  {
   "cell_type": "code",
   "execution_count": 267,
   "id": "69bfaffe-a88f-48cf-9c80-9f8191b9c811",
   "metadata": {},
   "outputs": [],
   "source": [
    "test_code = \"\"\"\n",
    "def example_function(param1, param2):\n",
    "    '''This is a docstring.'''\n",
    "    return (param1, param2)\n",
    "\"\"\""
   ]
  },
  {
   "cell_type": "code",
   "execution_count": 268,
   "id": "0a2b4d43-8bb3-485a-8dfd-99b88936fa9d",
   "metadata": {},
   "outputs": [
    {
     "name": "stdout",
     "output_type": "stream",
     "text": [
      "\n",
      "def example_function(param1, param2):\n",
      "    '''This is a docstring.'''\n",
      "    return (param1, param2)\n",
      "\n"
     ]
    }
   ],
   "source": [
    "print(test_code)"
   ]
  },
  {
   "cell_type": "code",
   "execution_count": 271,
   "id": "150ca5df-3c0f-4f32-a966-b720e6890c4d",
   "metadata": {},
   "outputs": [],
   "source": [
    "x='\\ndef example_function(param1, param2):\\n    \"\"\"This is a docstring.\"\"\"\\n    return (param1, param2)\\n'"
   ]
  },
  {
   "cell_type": "code",
   "execution_count": 272,
   "id": "f92ecafb-34c6-456b-9540-81c4c2c8dbc0",
   "metadata": {},
   "outputs": [
    {
     "data": {
      "text/plain": [
       "\"\\ndef example_function(param1, param2):\\n    '''This is a docstring.'''\\n    return (param1, param2)\\n\""
      ]
     },
     "execution_count": 272,
     "metadata": {},
     "output_type": "execute_result"
    }
   ],
   "source": [
    "x.replace('\"\"\"',\"'''\")"
   ]
  },
  {
   "cell_type": "code",
   "execution_count": 273,
   "id": "6000871f-42d9-49ba-81ef-e98ab81a0db8",
   "metadata": {},
   "outputs": [],
   "source": [
    "x='\\ndef example_function(param1, param2):\\n    return (param1, param2)\\n'"
   ]
  },
  {
   "cell_type": "code",
   "execution_count": 274,
   "id": "4ad41384-b70c-45ca-b6db-04cb37e610c7",
   "metadata": {},
   "outputs": [
    {
     "name": "stdout",
     "output_type": "stream",
     "text": [
      "\n",
      "def example_function(param1, param2):\n",
      "    return (param1, param2)\n",
      "\n"
     ]
    }
   ],
   "source": [
    "print(x)"
   ]
  },
  {
   "cell_type": "code",
   "execution_count": 287,
   "id": "b5ebb289-a943-434f-b755-c8a3fb9891f6",
   "metadata": {},
   "outputs": [],
   "source": [
    "y=    \"\"\"Formats Python code using the autopep8 and black libraries.\n",
    "\n",
    "    This function takes a string of Python code as input, applies formatting with autopep8 and black, and returns the resulting formatted code.\n",
    "\n",
    "    Args:\n",
    "        code (str): The Python code to be formatted.\n",
    "\n",
    "    Raises:\n",
    "        None\n",
    "\n",
    "    Returns:\n",
    "        str: The formatted Python code.\n",
    "\n",
    "    \"\"\"\n"
   ]
  },
  {
   "cell_type": "code",
   "execution_count": 300,
   "id": "61b98675-e1cd-41b9-848f-a7dc51372f7d",
   "metadata": {},
   "outputs": [
    {
     "data": {
      "text/plain": [
       "'Formats Python code using the autopep8 and black libraries.      This\\nfunction takes a string of Python code as input, applies formatting\\nwith autopep8 and black, and returns the resulting formatted code.\\nArgs:         code (str): The Python code to be formatted.\\nRaises:         None      Returns:         str: The formatted Python\\ncode.'"
      ]
     },
     "execution_count": 300,
     "metadata": {},
     "output_type": "execute_result"
    }
   ],
   "source": [
    "import textwrap\n",
    "textwrap.fill(y)"
   ]
  },
  {
   "cell_type": "code",
   "execution_count": 295,
   "id": "57c1327e-54fa-4dfa-9cfa-022de2e433bf",
   "metadata": {},
   "outputs": [
    {
     "data": {
      "text/plain": [
       "'Formats Python code using the autopep8 and black libraries.      This\\nfunction takes a string of Python code as input, applies formatting\\nwith autopep8 and black, and returns the resulting formatted code.\\nArgs:         code (str): The Python code to be formatted.\\nRaises:         None      Returns:         str: The formatted Python\\ncode.'"
      ]
     },
     "execution_count": 295,
     "metadata": {},
     "output_type": "execute_result"
    }
   ],
   "source": [
    "textwrap.fill(,width=70)"
   ]
  },
  {
   "cell_type": "code",
   "execution_count": 283,
   "id": "ea8cfc8f-1444-466a-b53a-42bf190b9787",
   "metadata": {},
   "outputs": [
    {
     "name": "stdout",
     "output_type": "stream",
     "text": [
      "\n",
      "def example_function(param1, param2):\n",
      "    return (param1, param2)\n",
      "\n"
     ]
    }
   ],
   "source": [
    "print(x)"
   ]
  },
  {
   "cell_type": "code",
   "execution_count": 284,
   "id": "163cfcd9-8aa5-4bf0-859c-c6fac4e071a7",
   "metadata": {},
   "outputs": [
    {
     "name": "stdout",
     "output_type": "stream",
     "text": [
      "\n",
      "    def example_function(param1, param2):\n",
      "        return (param1, param2)\n",
      "\n"
     ]
    }
   ],
   "source": [
    "print(y)"
   ]
  },
  {
   "cell_type": "code",
   "execution_count": 286,
   "id": "2f564c23-a65a-4250-bd3d-0b4fe38dace5",
   "metadata": {},
   "outputs": [
    {
     "name": "stdout",
     "output_type": "stream",
     "text": [
      "\n",
      "def example_function(param1, param2):\n",
      "    '''This is a docstring.'''\n",
      "    return (param1, param2)\n"
     ]
    }
   ],
   "source": [
    "import libcst as cst\n",
    "import textwrap\n",
    "\n",
    "def convert_multiline_libcst(*, code: str) -> str:\n",
    "    \"\"\"Convert multiline strings to a canonical form using LibCST.\n",
    "\n",
    "    Args:\n",
    "        code (str): The Python source code to convert.\n",
    "    \"\"\"\n",
    "\n",
    "    class MultilineStringTransformer(cst.CSTTransformer):\n",
    "        def leave_SimpleString(self, original_node, updated_node):\n",
    "            # Check if string is multiline\n",
    "            if '\\n' in updated_node.value:\n",
    "                # Handle triple quotes in strings\n",
    "                if '\"\"\"' in updated_node.value or \"'''\" in updated_node.value:\n",
    "                    # Use the other form of triple quotes if one is found in the string\n",
    "                    quote_type = \"'''\" if '\"\"\"' in updated_node.value else '\"\"\"'\n",
    "                else:\n",
    "                    # Default to triple double quotes\n",
    "                    quote_type = '\"\"\"'\n",
    "                \n",
    "                # Create a new multiline string node\n",
    "                new_value = textwrap.dedent(updated_node.value).strip()\n",
    "                new_value = f\"{quote_type}{new_value}{quote_type}\"\n",
    "                return updated_node.with_changes(value=new_value)\n",
    "            return updated_node\n",
    "\n",
    "    # Parse the source code into a LibCST Module\n",
    "    tree = cst.parse_module(code)\n",
    "\n",
    "    # Transform the CST\n",
    "    wrapper = cst.MetadataWrapper(tree)\n",
    "    transformed_tree = wrapper.visit(MultilineStringTransformer())\n",
    "\n",
    "    # Convert the CST back into a code string\n",
    "    return transformed_tree.code\n",
    "\n",
    "# Example usage\n",
    "code = \"\\ndef example_function(param1, param2):\\n    '''This is a docstring.'''\\n    return (param1, param2)\"\n",
    "\n",
    "converted_code = convert_multiline_libcst(code=code)\n",
    "print(converted_code)\n"
   ]
  },
  {
   "cell_type": "code",
   "execution_count": 305,
   "id": "fcf92252-eadd-4ee6-ae6d-b9e2e2a61956",
   "metadata": {},
   "outputs": [
    {
     "name": "stdout",
     "output_type": "stream",
     "text": [
      "Formats Python code using the autopep8 and black libraries. This\n",
      "function takes a string of Python code as input, applies formatting with\n",
      "autopep8 and black, and returns the resulting formatted code.\n",
      "\n",
      "Args:     code (str): The Python code to be formatted.  Raises:     None\n",
      "Returns:     str: The formatted Python code.\n"
     ]
    }
   ],
   "source": [
    "import textwrap\n",
    "\n",
    "def reformat_docstring(docstring: str, max_width: int = 72) -> str:\n",
    "    \"\"\"\n",
    "    Reformat a docstring to adhere to PEP 257 conventions.\n",
    "\n",
    "    This function ensures that the docstring has a one-line summary separated\n",
    "    by a blank line from any further explanatory text. It wraps the text so\n",
    "    that no line exceeds the specified maximum width.\n",
    "\n",
    "    Args:\n",
    "        docstring (str): The original docstring to reformat.\n",
    "        max_width (int): The maximum width for any line in the docstring.\n",
    "\n",
    "    Returns:\n",
    "        str: The reformatted docstring.\n",
    "    \"\"\"\n",
    "    lines = docstring.strip().split('\\n')\n",
    "    if not lines:\n",
    "        return ''\n",
    "\n",
    "    # Process the first line separately as the summary.\n",
    "    summary_line = lines[0].strip()\n",
    "    wrapped_summary = textwrap.fill(summary_line, max_width)\n",
    "\n",
    "    # Process the rest of the docstring.\n",
    "    rest = '\\n'.join(lines[1:]).strip()\n",
    "    wrapped_rest = textwrap.fill(rest, max_width)\n",
    "\n",
    "    # Combine the summary and the rest with a blank line in between if there is more detail to add.\n",
    "    if wrapped_rest:\n",
    "        return f'{wrapped_summary}\\n\\n{wrapped_rest}'\n",
    "    else:\n",
    "        return wrapped_summary\n",
    "\n",
    "# Example usage\n",
    "original_docstring = \"\"\"\\\n",
    "Formats Python code using the autopep8 and black libraries. This function takes a string of Python code as input, applies formatting with autopep8 and black, and returns the resulting formatted code.\n",
    "\n",
    "Args:\n",
    "    code (str): The Python code to be formatted.\n",
    "\n",
    "Raises:\n",
    "    None\n",
    "\n",
    "Returns:\n",
    "    str: The formatted Python code.\n",
    "\"\"\"\n",
    "\n",
    "reformatted_docstring = reformat_docstring(original_docstring, 72)\n",
    "print(reformatted_docstring)\n"
   ]
  },
  {
   "cell_type": "code",
   "execution_count": null,
   "id": "b23725d1-0521-4222-85b5-4f64dc4f58ef",
   "metadata": {},
   "outputs": [],
   "source": []
  },
  {
   "cell_type": "code",
   "execution_count": null,
   "id": "5424d798-2b1e-40e4-8c6c-aac8f2f31882",
   "metadata": {},
   "outputs": [],
   "source": []
  }
 ],
 "metadata": {
  "kernelspec": {
   "display_name": "Python 3 (ipykernel)",
   "language": "python",
   "name": "python3"
  },
  "language_info": {
   "codemirror_mode": {
    "name": "ipython",
    "version": 3
   },
   "file_extension": ".py",
   "mimetype": "text/x-python",
   "name": "python",
   "nbconvert_exporter": "python",
   "pygments_lexer": "ipython3",
   "version": "3.11.5"
  }
 },
 "nbformat": 4,
 "nbformat_minor": 5
}
