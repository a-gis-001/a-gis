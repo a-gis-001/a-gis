{
 "cells": [
  {
   "cell_type": "code",
   "execution_count": 40,
   "id": "c4fdd0c4-74be-4a37-83b3-e28293845980",
   "metadata": {},
   "outputs": [],
   "source": [
    "import ollama\n",
    "import numpy as np"
   ]
  },
  {
   "cell_type": "code",
   "execution_count": 95,
   "id": "974cd0df-59aa-4883-8421-a33ad9082f11",
   "metadata": {},
   "outputs": [],
   "source": [
    "c1=\"\"\"\n",
    "def linear_interpolate(x0, y0, x1, y1, x):\n",
    "    if x1 == x0:\n",
    "        raise ValueError(\"x0 and x1 cannot be the same value\")\n",
    "    return y0 + (y1 - y0) * ((x - x0) / (x1 - x0))\n",
    "\"\"\"\n",
    "c2=\"\"\"\n",
    "def lin1(initial_x_coordinate, initial_y_coordinate, final_x_coordinate, final_y_coordinate, interpolation_x_coordinate):\n",
    "    if final_x_coordinate == initial_x_coordinate:\n",
    "        raise ValueError(\"initial_x_coordinate and final_x_coordinate cannot be the same value\")\n",
    "    return initial_y_coordinate + (final_y_coordinate - initial_y_coordinate) * ((interpolation_x_coordinate - initial_x_coordinate) / (final_x_coordinate - initial_x_coordinate))\n",
    "\"\"\"\n",
    "c3=\"\"\"\n",
    "def cubic_spline_interpolate(x_values, y_values, x_interp):\n",
    "    import numpy as np\n",
    "    \n",
    "    def cubic_spline_coefficients(x_values, y_values):\n",
    "        n = len(x_values) - 1\n",
    "        h = [x_values[i + 1] - x_values[i] for i in range(n)]\n",
    "        alpha = [3 * (y_values[i + 1] - y_values[i]) / h[i] - 3 * (y_values[i] - y_values[i - 1]) / h[i - 1] for i in range(1, n)]\n",
    "    \n",
    "        l = [1] + [0] * n\n",
    "        mu = [0] * n\n",
    "        z = [0] * (n + 1)\n",
    "    \n",
    "        for i in range(1, n):\n",
    "            l[i] = 2 * (x_values[i + 1] - x_values[i - 1]) - h[i - 1] * mu[i - 1]\n",
    "            mu[i] = h[i] / l[i]\n",
    "            z[i] = (alpha[i - 1] - h[i - 1] * z[i - 1]) / l[i]\n",
    "    \n",
    "        l[n] = 1\n",
    "        z[n] = 0\n",
    "    \n",
    "        b = [0] * n\n",
    "        c = [0] * (n + 1)\n",
    "        d = [0] * n\n",
    "        c[n] = 0\n",
    "    \n",
    "        for j in range(n - 1, -1, -1):\n",
    "            c[j] = z[j] - mu[j] * c[j + 1]\n",
    "            b[j] = (y_values[j + 1] - y_values[j]) / h[j] - h[j] * (c[j + 1] + 2 * c[j]) / 3\n",
    "            d[j] = (c[j + 1] - c[j]) / (3 * h[j])\n",
    "    \n",
    "        return b, c, d\n",
    "    \n",
    "    b, c, d = cubic_spline_coefficients(x_values, y_values)\n",
    "    n = len(x_values) - 1\n",
    "\n",
    "    def spline(x):\n",
    "        for i in range(n):\n",
    "            if x_values[i] <= x <= x_values[i + 1]:\n",
    "                dx = x - x_values[i]\n",
    "                return y_values[i] + b[i] * dx + c[i] * dx**2 + d[i] * dx**3\n",
    "        return None\n",
    "\n",
    "    return np.array([spline(x) for x in x_interp])\n",
    "\"\"\"\n",
    "c4=\"\"\"\n",
    "def linear_interpolate(x_list,y_list,x):\n",
    "    return 0.5*(x_list[0]+x_list[1])    \n",
    "\"\"\""
   ]
  },
  {
   "cell_type": "code",
   "execution_count": 96,
   "id": "0bf55686-f3cc-46d8-8622-e5d70ed2f56a",
   "metadata": {},
   "outputs": [],
   "source": [
    "z1=ollama.embeddings(model='mxbai-embed-large', prompt=c1)['embedding']\n",
    "z2=ollama.embeddings(model='mxbai-embed-large', prompt=c2)['embedding']\n",
    "z3=ollama.embeddings(model='mxbai-embed-large', prompt=c3)['embedding']\n",
    "z4=ollama.embeddings(model='mxbai-embed-large', prompt=c4)['embedding']"
   ]
  },
  {
   "cell_type": "code",
   "execution_count": 97,
   "id": "1ff10cda-c459-4b50-8ed6-96be606ca1ff",
   "metadata": {},
   "outputs": [],
   "source": [
    "z1/=np.sqrt(np.dot(z1,z1))\n",
    "z2/=np.sqrt(np.dot(z2,z2))\n",
    "z3/=np.sqrt(np.dot(z3,z3))\n",
    "z4/=np.sqrt(np.dot(z4,z4))"
   ]
  },
  {
   "cell_type": "code",
   "execution_count": 98,
   "id": "83b394d7-fa88-49c6-b8e2-810132f10e72",
   "metadata": {},
   "outputs": [
    {
     "name": "stdout",
     "output_type": "stream",
     "text": [
      "0.87 0.69 0.83\n",
      "0.66 0.72\n",
      "0.67\n"
     ]
    }
   ],
   "source": [
    "print(\"{:.2g} {:.2g} {:.2g}\".format(np.dot(z1,z2),np.dot(z1,z3),np.dot(z1,z4)))\n",
    "print(\"{:.2g} {:.2g}\".format(np.dot(z2,z3),np.dot(z2,z4)))\n",
    "print(\"{:.2g}\".format(np.dot(z3,z4)))"
   ]
  },
  {
   "cell_type": "code",
   "execution_count": 61,
   "id": "bfbb6959-8405-46d1-8bce-b46b661e2dc3",
   "metadata": {},
   "outputs": [],
   "source": [
    "import matplotlib.pyplot as plt"
   ]
  },
  {
   "cell_type": "code",
   "execution_count": 63,
   "id": "a6cd2756-f064-488e-bbb3-18e4605f5138",
   "metadata": {},
   "outputs": [
    {
     "data": {
      "text/plain": [
       "[<matplotlib.lines.Line2D at 0x1185d1c90>]"
      ]
     },
     "execution_count": 63,
     "metadata": {},
     "output_type": "execute_result"
    },
    {
     "data": {
      "image/png": "[encoded data removed]",
      "text/plain": [
       "<Figure size 640x480 with 1 Axes>"
      ]
     },
     "metadata": {},
     "output_type": "display_data"
    }
   ],
   "source": [
    "plt.plot(z2*z1)"
   ]
  },
  {
   "cell_type": "code",
   "execution_count": 130,
   "id": "becc5a5c-2f5a-4bcd-a7cc-cee0462679a6",
   "metadata": {},
   "outputs": [
    {
     "name": "stderr",
     "output_type": "stream",
     "text": [
      "/opt/homebrew/Caskroom/miniconda/base/lib/python3.11/site-packages/huggingface_hub/file_download.py:1132: FutureWarning: `resume_download` is deprecated and will be removed in version 1.0.0. Downloads always resume when possible. If you want to force a new download, use `force_download=True`.\n",
      "  warnings.warn(\n"
     ]
    },
    {
     "data": {
      "application/vnd.jupyter.widget-view+json": {
       "model_id": "4426d969f46e4c0caab5f25f61d472ba",
       "version_major": 2,
       "version_minor": 0
      },
      "text/plain": [
       "vocab.json:   0%|          | 0.00/899k [00:00<?, ?B/s]"
      ]
     },
     "metadata": {},
     "output_type": "display_data"
    },
    {
     "data": {
      "application/vnd.jupyter.widget-view+json": {
       "model_id": "0aedf15713ff447286f44633b229a343",
       "version_major": 2,
       "version_minor": 0
      },
      "text/plain": [
       "merges.txt:   0%|          | 0.00/456k [00:00<?, ?B/s]"
      ]
     },
     "metadata": {},
     "output_type": "display_data"
    },
    {
     "data": {
      "application/vnd.jupyter.widget-view+json": {
       "model_id": "b66abf562a694b01b0006f13a0ef9c50",
       "version_major": 2,
       "version_minor": 0
      },
      "text/plain": [
       "tokenizer.json:   0%|          | 0.00/1.36M [00:00<?, ?B/s]"
      ]
     },
     "metadata": {},
     "output_type": "display_data"
    },
    {
     "data": {
      "application/vnd.jupyter.widget-view+json": {
       "model_id": "bc1e49ed38dc48848225e295af3c9041",
       "version_major": 2,
       "version_minor": 0
      },
      "text/plain": [
       "config.json:   0%|          | 0.00/694 [00:00<?, ?B/s]"
      ]
     },
     "metadata": {},
     "output_type": "display_data"
    },
    {
     "data": {
      "application/vnd.jupyter.widget-view+json": {
       "model_id": "71dda8168fec4f7b82200635fb4aeafd",
       "version_major": 2,
       "version_minor": 0
      },
      "text/plain": [
       "pytorch_model.bin:   0%|          | 0.00/597M [00:00<?, ?B/s]"
      ]
     },
     "metadata": {},
     "output_type": "display_data"
    },
    {
     "name": "stderr",
     "output_type": "stream",
     "text": [
      "Input ids are automatically padded from 89 to 512 to be a multiple of `config.attention_window`: 512\n",
      "Input ids are automatically padded from 44 to 512 to be a multiple of `config.attention_window`: 512\n"
     ]
    },
    {
     "name": "stdout",
     "output_type": "stream",
     "text": [
      "Similarity: 0.9750500321388245\n"
     ]
    }
   ],
   "source": [
    "from transformers import RobertaTokenizer, RobertaModel,LongformerTokenizer,LongformerModel\n",
    "import torch\n",
    "from sklearn.metrics.pairwise import cosine_similarity\n",
    "\n",
    "# Initialize tokenizer and model\n",
    "tokenizer = RobertaTokenizer.from_pretrained('microsoft/codebert-base')\n",
    "model = RobertaModel.from_pretrained('microsoft/codebert-base')\n",
    "\n",
    "# Initialize tokenizer and model\n",
    "tokenizer = LongformerTokenizer.from_pretrained('allenai/longformer-base-4096')\n",
    "model = LongformerModel.from_pretrained('allenai/longformer-base-4096')\n",
    "\n",
    "\n",
    "def get_embedding(code):\n",
    "    inputs = tokenizer(code, return_tensors='pt')\n",
    "    outputs = model(**inputs)\n",
    "    return outputs.last_hidden_state.mean(dim=1)\n",
    "\n",
    "def get_pooled_embedding(code, max_length=512):\n",
    "    inputs = tokenizer(code, return_tensors='pt', truncation=True, max_length=max_length)\n",
    "    outputs = model(**inputs)\n",
    "    attention_mask = inputs['attention_mask']\n",
    "    embeddings = outputs.last_hidden_state\n",
    "    \n",
    "    # Apply attention mask to ignore padding tokens\n",
    "    mask_expanded = attention_mask.unsqueeze(-1).expand(embeddings.size()).float()\n",
    "    \n",
    "    # Sum embeddings and attention mask\n",
    "    sum_embeddings = torch.sum(embeddings * mask_expanded, dim=1)\n",
    "    sum_mask = torch.clamp(mask_expanded.sum(dim=1), min=1e-9)\n",
    "    \n",
    "    # Compute mean pooled embedding\n",
    "    pooled_embedding = sum_embeddings / sum_mask\n",
    "    return pooled_embedding\n",
    "\n",
    "# Example functions\n",
    "func1 = \"\"\"\n",
    "def add(a, b):\n",
    "    return a + b\n",
    "\"\"\"\n",
    "\n",
    "func2 = \"\"\"\n",
    "def sum_numbers(x, y):\n",
    "    return x + y\n",
    "\"\"\"\n",
    "\n",
    "# Get embeddings\n",
    "embedding1 = get_pooled_embedding(c1)\n",
    "embedding2 = get_pooled_embedding(c4)\n",
    "\n",
    "# Calculate cosine similarity\n",
    "similarity = cosine_similarity(embedding1.detach().numpy(), embedding2.detach().numpy())\n",
    "print(f'Similarity: {similarity[0][0]}')\n"
   ]
  },
  {
   "cell_type": "code",
   "execution_count": 135,
   "id": "c0c5c5f0-7adf-4aad-b2f5-93894f59f38d",
   "metadata": {},
   "outputs": [
    {
     "name": "stderr",
     "output_type": "stream",
     "text": [
      "/opt/homebrew/Caskroom/miniconda/base/lib/python3.11/site-packages/huggingface_hub/file_download.py:1132: FutureWarning: `resume_download` is deprecated and will be removed in version 1.0.0. Downloads always resume when possible. If you want to force a new download, use `force_download=True`.\n",
      "  warnings.warn(\n"
     ]
    },
    {
     "name": "stdout",
     "output_type": "stream",
     "text": [
      "similarity 0.96444744\n",
      "tree_similarity 1.0\n",
      "Combined similarity score: 0.96\n"
     ]
    }
   ],
   "source": [
    "from transformers import LongformerTokenizer, LongformerModel\n",
    "import torch\n",
    "from sklearn.metrics.pairwise import cosine_similarity\n",
    "import ast\n",
    "from zss import simple_distance, Node\n",
    "\n",
    "# Initialize tokenizer and model\n",
    "tokenizer = LongformerTokenizer.from_pretrained('allenai/longformer-base-4096')\n",
    "model = LongformerModel.from_pretrained('allenai/longformer-base-4096')\n",
    "\n",
    "def get_embedding(code, max_length=4096):\n",
    "    inputs = tokenizer(code, return_tensors='pt', truncation=True, max_length=max_length)\n",
    "    outputs = model(**inputs)\n",
    "    attention_mask = inputs['attention_mask']\n",
    "    embeddings = outputs.last_hidden_state\n",
    "    mask_expanded = attention_mask.unsqueeze(-1).expand(embeddings.size()).float()\n",
    "    sum_embeddings = torch.sum(embeddings * mask_expanded, dim=1)\n",
    "    sum_mask = torch.clamp(mask_expanded.sum(dim=1), min=1e-9)\n",
    "    pooled_embedding = sum_embeddings / sum_mask\n",
    "    return pooled_embedding\n",
    "\n",
    "def ast_to_tree(node):\n",
    "    if isinstance(node, ast.AST):\n",
    "        node_name = type(node).__name__\n",
    "        tree_node = Node(node_name)\n",
    "        for field, value in ast.iter_fields(node):\n",
    "            child = ast_to_tree(value)\n",
    "            if child:\n",
    "                tree_node.addkid(child)\n",
    "        return tree_node\n",
    "    elif isinstance(node, list):\n",
    "        list_node = Node(\"list\")\n",
    "        for item in node:\n",
    "            child = ast_to_tree(item)\n",
    "            if child:\n",
    "                list_node.addkid(child)\n",
    "        return list_node\n",
    "    return None\n",
    "\n",
    "def sigmoid(x):\n",
    "    return 1 / (1 + x)\n",
    "\n",
    "def compare_functions(func1, func2):\n",
    "    # Get embeddings\n",
    "    embedding1 = get_embedding(func1)\n",
    "    embedding2 = get_embedding(func2)\n",
    "    \n",
    "    # Calculate cosine similarity\n",
    "    similarity = cosine_similarity(embedding1.detach().numpy(), embedding2.detach().numpy())[0][0]\n",
    "    print('similarity', similarity)\n",
    "    \n",
    "    # Parse functions into ASTs\n",
    "    tree1 = ast_to_tree(ast.parse(func1))\n",
    "    tree2 = ast_to_tree(ast.parse(func2))\n",
    "    \n",
    "    # Calculate tree edit distance\n",
    "    tree_similarity = sigmoid(simple_distance(tree1, tree2))\n",
    "    print('tree_similarity', tree_similarity)\n",
    "    \n",
    "    # Combine similarity scores (you may need to adjust weights based on your preference)\n",
    "    combined_similarity = similarity * tree_similarity\n",
    "    \n",
    "    return combined_similarity\n",
    "\n",
    "# Example functions\n",
    "c1 = \"\"\"\n",
    "def linear_interpolate(x0, y0, x1, y1, x):\n",
    "    if x1 == x0:\n",
    "        raise ValueError(\"x0 and x1 cannot be the same value\")\n",
    "    return y0 + (y1 - y0) * ((x - x0) / (x1 - x0))\n",
    "\"\"\"\n",
    "\n",
    "c4 = \"\"\"\n",
    "def linear_interpolate(x_list, y_list, x):\n",
    "    return 0.5 * (x_list[0] + x_list[1])\n",
    "\"\"\"\n",
    "\n",
    "# Compare functions\n",
    "similarity_score = compare_functions(c1, c2)\n",
    "print(f'Combined similarity score: {similarity_score:.2f}')\n"
   ]
  },
  {
   "cell_type": "code",
   "execution_count": 141,
   "id": "109ae9a2-8571-4976-9fc9-3778c24935e1",
   "metadata": {},
   "outputs": [
    {
     "name": "stdout",
     "output_type": "stream",
     "text": [
      "Unexpected exception formatting exception. Falling back to standard exception\n"
     ]
    },
    {
     "name": "stderr",
     "output_type": "stream",
     "text": [
      "Traceback (most recent call last):\n",
      "  File \"/opt/homebrew/Caskroom/miniconda/base/lib/python3.11/site-packages/clang/cindex.py\", line 3928, in register_function\n",
      "    if Config.library_file:\n",
      "           ^^^^^^^^^^^^^^^^^\n",
      "  File \"/opt/homebrew/Caskroom/miniconda/base/lib/python3.11/ctypes/__init__.py\", line 389, in __getattr__\n",
      "    func = self.__getitem__(name)\n",
      "           ^^^^^^^^^^^^^^^^^^^^^^\n",
      "  File \"/opt/homebrew/Caskroom/miniconda/base/lib/python3.11/ctypes/__init__.py\", line 394, in __getitem__\n",
      "    func = self._FuncPtr((name_or_ordinal, self))\n",
      "           ^^^^^^^^^^^^^^^^^^^^^^^^^^^^^^^^^^^^^^\n",
      "AttributeError: dlsym(0x9248a420, clang_CXXMethod_isCopyAssignmentOperator): symbol not found\n",
      "\n",
      "During handling of the above exception, another exception occurred:\n",
      "\n",
      "Traceback (most recent call last):\n",
      "  File \"/opt/homebrew/Caskroom/miniconda/base/lib/python3.11/site-packages/IPython/core/interactiveshell.py\", line 3508, in run_code\n",
      "    exec(code_obj, self.user_global_ns, self.user_ns)\n",
      "  File \"/var/folders/gd/ns6g1ncd7kgbxglpynczvlznxpq4sw/T/ipykernel_24857/4286935142.py\", line 5, in <module>\n",
      "    index = clang.cindex.Index.create()\n",
      "            ^^^^^^^^^^^^^^^^^^^^^^^^^^^\n",
      "  File \"/opt/homebrew/Caskroom/miniconda/base/lib/python3.11/site-packages/clang/cindex.py\", line 2967, in create\n",
      "    To parse source from the filesystem, the filename of the file to parse\n",
      "                 ^^^^^^^^\n",
      "  File \"/opt/homebrew/Caskroom/miniconda/base/lib/python3.11/site-packages/clang/cindex.py\", line 193, in __get__\n",
      "    \"Encountered undefined TranslationUnit save error \"\n",
      "    ^^^^^^^^^^^^^^^^^^^^^^\n",
      "  File \"/opt/homebrew/Caskroom/miniconda/base/lib/python3.11/site-packages/clang/cindex.py\", line 4019, in lib\n",
      "  File \"/opt/homebrew/Caskroom/miniconda/base/lib/python3.11/site-packages/clang/cindex.py\", line 3959, in register_functions\n",
      "  File \"/opt/homebrew/Caskroom/miniconda/base/lib/python3.11/site-packages/clang/cindex.py\", line 3956, in register\n",
      "    raise LibclangError(msg)\n",
      "       ^^^^^^^^^^^^^^^^^^^^^^\n",
      "  File \"/opt/homebrew/Caskroom/miniconda/base/lib/python3.11/site-packages/clang/cindex.py\", line 3936, in register_function\n",
      "    file = \"libclang.dylib\"\n",
      "clang.cindex.LibclangError: dlsym(0x9248a420, clang_CXXMethod_isCopyAssignmentOperator): symbol not found. Please ensure that your python bindings are compatible with your libclang.so version.\n",
      "\n",
      "During handling of the above exception, another exception occurred:\n",
      "\n",
      "Traceback (most recent call last):\n",
      "  File \"/opt/homebrew/Caskroom/miniconda/base/lib/python3.11/site-packages/IPython/core/interactiveshell.py\", line 2105, in showtraceback\n",
      "    stb = self.InteractiveTB.structured_traceback(\n",
      "          ^^^^^^^^^^^^^^^^^^^^^^^^^^^^^^^^^^^^^^^^\n",
      "  File \"/opt/homebrew/Caskroom/miniconda/base/lib/python3.11/site-packages/IPython/core/ultratb.py\", line 1396, in structured_traceback\n",
      "    return FormattedTB.structured_traceback(\n",
      "           ^^^^^^^^^^^^^^^^^^^^^^^^^^^^^^^^^\n",
      "  File \"/opt/homebrew/Caskroom/miniconda/base/lib/python3.11/site-packages/IPython/core/ultratb.py\", line 1287, in structured_traceback\n",
      "    return VerboseTB.structured_traceback(\n",
      "           ^^^^^^^^^^^^^^^^^^^^^^^^^^^^^^^\n",
      "  File \"/opt/homebrew/Caskroom/miniconda/base/lib/python3.11/site-packages/IPython/core/ultratb.py\", line 1140, in structured_traceback\n",
      "    formatted_exception = self.format_exception_as_a_whole(etype, evalue, etb, number_of_lines_of_context,\n",
      "                          ^^^^^^^^^^^^^^^^^^^^^^^^^^^^^^^^^^^^^^^^^^^^^^^^^^^^^^^^^^^^^^^^^^^^^^^^^^^^^^^^\n",
      "  File \"/opt/homebrew/Caskroom/miniconda/base/lib/python3.11/site-packages/IPython/core/ultratb.py\", line 1055, in format_exception_as_a_whole\n",
      "    frames.append(self.format_record(record))\n",
      "                  ^^^^^^^^^^^^^^^^^^^^^^^^^^\n",
      "  File \"/opt/homebrew/Caskroom/miniconda/base/lib/python3.11/site-packages/IPython/core/ultratb.py\", line 955, in format_record\n",
      "    frame_info.lines, Colors, self.has_colors, lvals\n",
      "    ^^^^^^^^^^^^^^^^\n",
      "  File \"/opt/homebrew/Caskroom/miniconda/base/lib/python3.11/site-packages/IPython/core/ultratb.py\", line 778, in lines\n",
      "    return self._sd.lines\n",
      "           ^^^^^^^^^^^^^^\n",
      "  File \"/opt/homebrew/Caskroom/miniconda/base/lib/python3.11/site-packages/stack_data/utils.py\", line 145, in cached_property_wrapper\n",
      "    value = obj.__dict__[self.func.__name__] = self.func(obj)\n",
      "                                               ^^^^^^^^^^^^^^\n",
      "  File \"/opt/homebrew/Caskroom/miniconda/base/lib/python3.11/site-packages/stack_data/core.py\", line 734, in lines\n",
      "    pieces = self.included_pieces\n",
      "             ^^^^^^^^^^^^^^^^^^^^\n",
      "  File \"/opt/homebrew/Caskroom/miniconda/base/lib/python3.11/site-packages/stack_data/utils.py\", line 145, in cached_property_wrapper\n",
      "    value = obj.__dict__[self.func.__name__] = self.func(obj)\n",
      "                                               ^^^^^^^^^^^^^^\n",
      "  File \"/opt/homebrew/Caskroom/miniconda/base/lib/python3.11/site-packages/stack_data/core.py\", line 681, in included_pieces\n",
      "    pos = scope_pieces.index(self.executing_piece)\n",
      "                             ^^^^^^^^^^^^^^^^^^^^\n",
      "  File \"/opt/homebrew/Caskroom/miniconda/base/lib/python3.11/site-packages/stack_data/utils.py\", line 145, in cached_property_wrapper\n",
      "    value = obj.__dict__[self.func.__name__] = self.func(obj)\n",
      "                                               ^^^^^^^^^^^^^^\n",
      "  File \"/opt/homebrew/Caskroom/miniconda/base/lib/python3.11/site-packages/stack_data/core.py\", line 660, in executing_piece\n",
      "    return only(\n",
      "           ^^^^^\n",
      "  File \"/opt/homebrew/Caskroom/miniconda/base/lib/python3.11/site-packages/executing/executing.py\", line 116, in only\n",
      "    raise NotOneValueFound('Expected one value, found 0')\n",
      "executing.executing.NotOneValueFound: Expected one value, found 0\n"
     ]
    }
   ],
   "source": [
    "import clang.cindex\n",
    "\n",
    "# Initialize Clang\n",
    "clang.cindex.Config.set_library_file('/Library/Developer/CommandLineTools/usr/lib/libclang.dylib')\n",
    "index = clang.cindex.Index.create()\n",
    "\n",
    "# Parse the C++ code\n",
    "code = \"\"\"\n",
    "int main() {\n",
    "    int a = 10;\n",
    "    int b = 20;\n",
    "    int c = a + b;\n",
    "    return 0;\n",
    "}\n",
    "\"\"\"\n",
    "translation_unit = index.parse('example.cpp', args=['-std=c++11'], unsaved_files=[('example.cpp', code)])\n",
    "\n",
    "# Walk the AST\n",
    "def walk_ast(node, indent=0):\n",
    "    print(' ' * indent + str(node.spelling) + ' ' + str(node.kind))\n",
    "    for child in node.get_children():\n",
    "        walk_ast(child, indent + 2)\n",
    "\n",
    "walk_ast(translation_unit.cursor)\n"
   ]
  },
  {
   "cell_type": "code",
   "execution_count": 2,
   "id": "3dcf2142-c90f-48b1-8b3a-9b352846b697",
   "metadata": {},
   "outputs": [
    {
     "ename": "Exception",
     "evalue": "library file must be set before before using any other functionalities in libclang.",
     "output_type": "error",
     "traceback": [
      "\u001b[0;31m---------------------------------------------------------------------------\u001b[0m",
      "\u001b[0;31mException\u001b[0m                                 Traceback (most recent call last)",
      "Cell \u001b[0;32mIn[2], line 4\u001b[0m\n\u001b[1;32m      1\u001b[0m \u001b[38;5;28;01mimport\u001b[39;00m \u001b[38;5;21;01mclang\u001b[39;00m\u001b[38;5;21;01m.\u001b[39;00m\u001b[38;5;21;01mcindex\u001b[39;00m\n\u001b[1;32m      3\u001b[0m \u001b[38;5;66;03m# Set the correct path to libclang.dylib\u001b[39;00m\n\u001b[0;32m----> 4\u001b[0m \u001b[43mclang\u001b[49m\u001b[38;5;241;43m.\u001b[39;49m\u001b[43mcindex\u001b[49m\u001b[38;5;241;43m.\u001b[39;49m\u001b[43mConfig\u001b[49m\u001b[38;5;241;43m.\u001b[39;49m\u001b[43mset_library_file\u001b[49m\u001b[43m(\u001b[49m\u001b[38;5;124;43m'\u001b[39;49m\u001b[38;5;124;43m/opt/homebrew/opt/llvm/lib/libclang.dylib\u001b[39;49m\u001b[38;5;124;43m'\u001b[39;49m\u001b[43m)\u001b[49m\n\u001b[1;32m      6\u001b[0m \u001b[38;5;66;03m# Initialize Clang Index\u001b[39;00m\n\u001b[1;32m      7\u001b[0m index \u001b[38;5;241m=\u001b[39m clang\u001b[38;5;241m.\u001b[39mcindex\u001b[38;5;241m.\u001b[39mIndex\u001b[38;5;241m.\u001b[39mcreate()\n",
      "File \u001b[0;32m/opt/homebrew/Caskroom/miniconda/base/lib/python3.11/site-packages/clang/cindex.py:3887\u001b[0m, in \u001b[0;36mConfig.set_library_file\u001b[0;34m(filename)\u001b[0m\n\u001b[1;32m   3885\u001b[0m \u001b[38;5;250m\u001b[39m\u001b[38;5;124;03m\"\"\"Set the exact location of libclang\"\"\"\u001b[39;00m\n\u001b[1;32m   3886\u001b[0m \u001b[38;5;28;01mif\u001b[39;00m Config\u001b[38;5;241m.\u001b[39mloaded:\n\u001b[0;32m-> 3887\u001b[0m     \u001b[38;5;28;01mraise\u001b[39;00m \u001b[38;5;167;01mException\u001b[39;00m(\n\u001b[1;32m   3888\u001b[0m         \u001b[38;5;124m\"\u001b[39m\u001b[38;5;124mlibrary file must be set before before using \u001b[39m\u001b[38;5;124m\"\u001b[39m\n\u001b[1;32m   3889\u001b[0m         \u001b[38;5;124m\"\u001b[39m\u001b[38;5;124many other functionalities in libclang.\u001b[39m\u001b[38;5;124m\"\u001b[39m\n\u001b[1;32m   3890\u001b[0m     )\n\u001b[1;32m   3892\u001b[0m Config\u001b[38;5;241m.\u001b[39mlibrary_file \u001b[38;5;241m=\u001b[39m fspath(filename)\n",
      "\u001b[0;31mException\u001b[0m: library file must be set before before using any other functionalities in libclang."
     ]
    }
   ],
   "source": [
    "import clang.cindex\n",
    "\n",
    "# Set the correct path to libclang.dylib\n",
    "clang.cindex.Config.set_library_file('/opt/homebrew/opt/llvm/lib/libclang.dylib')\n",
    "\n",
    "# Initialize Clang Index\n",
    "index = clang.cindex.Index.create()\n",
    "\n",
    "# C++ code to parse\n",
    "code = \"\"\"\n",
    "int main() {\n",
    "    int a = 10;\n",
    "    int b = 20;\n",
    "    int c = a + b;\n",
    "    return 0;\n",
    "}\n",
    "\"\"\"\n",
    "\n",
    "# Parse the C++ code\n",
    "translation_unit = index.parse('example.cpp', args=['-std=c++11'], unsaved_files=[('example.cpp', code)])\n",
    "\n",
    "# Function to walk and print the AST\n",
    "def walk_ast(node, indent=0):\n",
    "    print(' ' * indent + str(node.spelling) + ' ' + str(node.kind))\n",
    "    for child in node.get_children():\n",
    "        walk_ast(child, indent + 2)\n",
    "\n",
    "# Walk and print the AST starting from the translation unit cursor\n",
    "walk_ast(translation_unit.cursor)\n"
   ]
  },
  {
   "cell_type": "code",
   "execution_count": 1,
   "id": "956aaf8d-d492-4b1d-804a-234063f67cce",
   "metadata": {},
   "outputs": [
    {
     "ename": "TranslationUnitLoadError",
     "evalue": "Error parsing translation unit.",
     "output_type": "error",
     "traceback": [
      "\u001b[0;31m---------------------------------------------------------------------------\u001b[0m",
      "\u001b[0;31mTranslationUnitLoadError\u001b[0m                  Traceback (most recent call last)",
      "Cell \u001b[0;32mIn[1], line 11\u001b[0m\n\u001b[1;32m      9\u001b[0m \u001b[38;5;66;03m# Parse the C++ file\u001b[39;00m\n\u001b[1;32m     10\u001b[0m file_path \u001b[38;5;241m=\u001b[39m \u001b[38;5;124m'\u001b[39m\u001b[38;5;124mexample.cpp\u001b[39m\u001b[38;5;124m'\u001b[39m  \u001b[38;5;66;03m# Path to your C++ file\u001b[39;00m\n\u001b[0;32m---> 11\u001b[0m translation_unit \u001b[38;5;241m=\u001b[39m \u001b[43mindex\u001b[49m\u001b[38;5;241;43m.\u001b[39;49m\u001b[43mparse\u001b[49m\u001b[43m(\u001b[49m\u001b[43mfile_path\u001b[49m\u001b[43m,\u001b[49m\u001b[43m \u001b[49m\u001b[43margs\u001b[49m\u001b[38;5;241;43m=\u001b[39;49m\u001b[43m[\u001b[49m\u001b[38;5;124;43m'\u001b[39;49m\u001b[38;5;124;43m-std=c++11\u001b[39;49m\u001b[38;5;124;43m'\u001b[39;49m\u001b[43m]\u001b[49m\u001b[43m)\u001b[49m\n\u001b[1;32m     13\u001b[0m \u001b[38;5;66;03m# Function to extract function code\u001b[39;00m\n\u001b[1;32m     14\u001b[0m \u001b[38;5;28;01mdef\u001b[39;00m \u001b[38;5;21mget_function_code\u001b[39m(source, start_line, start_col, end_line, end_col):\n",
      "File \u001b[0;32m/opt/homebrew/Caskroom/miniconda/base/lib/python3.11/site-packages/clang/cindex.py:2899\u001b[0m, in \u001b[0;36mIndex.parse\u001b[0;34m(self, path, args, unsaved_files, options)\u001b[0m\n\u001b[1;32m   2886\u001b[0m \u001b[38;5;28;01mdef\u001b[39;00m \u001b[38;5;21mparse\u001b[39m(\u001b[38;5;28mself\u001b[39m, path, args\u001b[38;5;241m=\u001b[39m\u001b[38;5;28;01mNone\u001b[39;00m, unsaved_files\u001b[38;5;241m=\u001b[39m\u001b[38;5;28;01mNone\u001b[39;00m, options\u001b[38;5;241m=\u001b[39m\u001b[38;5;241m0\u001b[39m):\n\u001b[1;32m   2887\u001b[0m \u001b[38;5;250m    \u001b[39m\u001b[38;5;124;03m\"\"\"Load the translation unit from the given source code file by running\u001b[39;00m\n\u001b[1;32m   2888\u001b[0m \u001b[38;5;124;03m    clang and generating the AST before loading. Additional command line\u001b[39;00m\n\u001b[1;32m   2889\u001b[0m \u001b[38;5;124;03m    parameters can be passed to clang via the args parameter.\u001b[39;00m\n\u001b[0;32m   (...)\u001b[0m\n\u001b[1;32m   2897\u001b[0m \u001b[38;5;124;03m    will be raised.\u001b[39;00m\n\u001b[1;32m   2898\u001b[0m \u001b[38;5;124;03m    \"\"\"\u001b[39;00m\n\u001b[0;32m-> 2899\u001b[0m     \u001b[38;5;28;01mreturn\u001b[39;00m \u001b[43mTranslationUnit\u001b[49m\u001b[38;5;241;43m.\u001b[39;49m\u001b[43mfrom_source\u001b[49m\u001b[43m(\u001b[49m\u001b[43mpath\u001b[49m\u001b[43m,\u001b[49m\u001b[43m \u001b[49m\u001b[43margs\u001b[49m\u001b[43m,\u001b[49m\u001b[43m \u001b[49m\u001b[43munsaved_files\u001b[49m\u001b[43m,\u001b[49m\u001b[43m \u001b[49m\u001b[43moptions\u001b[49m\u001b[43m,\u001b[49m\u001b[43m \u001b[49m\u001b[38;5;28;43mself\u001b[39;49m\u001b[43m)\u001b[49m\n",
      "File \u001b[0;32m/opt/homebrew/Caskroom/miniconda/base/lib/python3.11/site-packages/clang/cindex.py:3019\u001b[0m, in \u001b[0;36mTranslationUnit.from_source\u001b[0;34m(cls, filename, args, unsaved_files, options, index)\u001b[0m\n\u001b[1;32m   3008\u001b[0m ptr \u001b[38;5;241m=\u001b[39m conf\u001b[38;5;241m.\u001b[39mlib\u001b[38;5;241m.\u001b[39mclang_parseTranslationUnit(\n\u001b[1;32m   3009\u001b[0m     index,\n\u001b[1;32m   3010\u001b[0m     fspath(filename) \u001b[38;5;28;01mif\u001b[39;00m filename \u001b[38;5;129;01mis\u001b[39;00m \u001b[38;5;129;01mnot\u001b[39;00m \u001b[38;5;28;01mNone\u001b[39;00m \u001b[38;5;28;01melse\u001b[39;00m \u001b[38;5;28;01mNone\u001b[39;00m,\n\u001b[0;32m   (...)\u001b[0m\n\u001b[1;32m   3015\u001b[0m     options,\n\u001b[1;32m   3016\u001b[0m )\n\u001b[1;32m   3018\u001b[0m \u001b[38;5;28;01mif\u001b[39;00m \u001b[38;5;129;01mnot\u001b[39;00m ptr:\n\u001b[0;32m-> 3019\u001b[0m     \u001b[38;5;28;01mraise\u001b[39;00m TranslationUnitLoadError(\u001b[38;5;124m\"\u001b[39m\u001b[38;5;124mError parsing translation unit.\u001b[39m\u001b[38;5;124m\"\u001b[39m)\n\u001b[1;32m   3021\u001b[0m \u001b[38;5;28;01mreturn\u001b[39;00m \u001b[38;5;28mcls\u001b[39m(ptr, index\u001b[38;5;241m=\u001b[39mindex)\n",
      "\u001b[0;31mTranslationUnitLoadError\u001b[0m: Error parsing translation unit."
     ]
    }
   ],
   "source": [
    "import clang.cindex\n",
    "\n",
    "# Set the path to libclang\n",
    "clang.cindex.Config.set_library_file('/opt/homebrew/opt/llvm/lib/libclang.dylib')\n",
    "\n",
    "# Initialize Clang Index\n",
    "index = clang.cindex.Index.create()\n",
    "\n",
    "# Parse the C++ file\n",
    "file_path = 'example.cpp'  # Path to your C++ file\n",
    "translation_unit = index.parse(file_path, args=['-std=c++11'])\n",
    "\n",
    "# Function to extract function code\n",
    "def get_function_code(source, start_line, start_col, end_line, end_col):\n",
    "    lines = source.splitlines()\n",
    "    function_lines = lines[start_line-1:end_line]\n",
    "    function_lines[0] = function_lines[0][start_col-1:]\n",
    "    function_lines[-1] = function_lines[-1][:end_col-1]\n",
    "    return '\\n'.join(function_lines)\n",
    "\n",
    "# Read the source code\n",
    "with open(file_path, 'r') as file:\n",
    "    source_code = file.read()\n",
    "\n",
    "# Function to walk the AST and extract function definitions\n",
    "def walk_ast(node, source_code):\n",
    "    if node.kind == clang.cindex.CursorKind.FUNCTION_DECL:\n",
    "        start = node.extent.start\n",
    "        end = node.extent.end\n",
    "        function_code = get_function_code(source_code, start.line, start.column, end.line, end.column)\n",
    "        print(f'Function: {node.spelling}\\n{function_code}\\n')\n",
    "\n",
    "    for child in node.get_children():\n",
    "        walk_ast(child, source_code)\n",
    "\n",
    "# Walk the AST starting from the translation unit cursor\n",
    "walk_ast(translation_unit.cursor, source_code)\n"
   ]
  },
  {
   "cell_type": "code",
   "execution_count": 3,
   "id": "f9ab7d03-2c14-444e-b825-a647de8490bc",
   "metadata": {},
   "outputs": [
    {
     "name": "stderr",
     "output_type": "stream",
     "text": [
      "usage: ipykernel_launcher.py [-h]\n",
      "ipykernel_launcher.py: error: unrecognized arguments: -f /Users/ww5/Library/Jupyter/runtime/kernel-720b7cd9-2abe-4101-a27b-3c2743b0e952.json\n"
     ]
    },
    {
     "ename": "SystemExit",
     "evalue": "2",
     "output_type": "error",
     "traceback": [
      "An exception has occurred, use %tb to see the full traceback.\n",
      "\u001b[0;31mSystemExit\u001b[0m\u001b[0;31m:\u001b[0m 2\n"
     ]
    },
    {
     "name": "stderr",
     "output_type": "stream",
     "text": [
      "/opt/homebrew/Caskroom/miniconda/base/lib/python3.11/site-packages/IPython/core/interactiveshell.py:3516: UserWarning: To exit: use 'exit', 'quit', or Ctrl-D.\n",
      "  warn(\"To exit: use 'exit', 'quit', or Ctrl-D.\", stacklevel=1)\n"
     ]
    }
   ],
   "source": [
    "import subprocess\n",
    "import argparse\n",
    "import ollama\n",
    "\n",
    "def get_git_log():\n",
    "    result = subprocess.run(['git', 'log', '-p',], capture_output=True, text=True)\n",
    "    if result.returncode != 0:\n",
    "        raise Exception(\"Error running git log -p\")\n",
    "    return result.stdout\n",
    "\n",
    "def split_into_chunks(text, chunk_size=1000):\n",
    "    lines = text.splitlines()\n",
    "    chunks = []\n",
    "    current_chunk = []\n",
    "    current_size = 0\n",
    "    for line in lines:\n",
    "        current_chunk.append(line)\n",
    "        current_size += len(line)\n",
    "        if current_size >= chunk_size:\n",
    "            chunks.append('\\n'.join(current_chunk))\n",
    "            current_chunk = []\n",
    "            current_size = 0\n",
    "    if current_chunk:\n",
    "        chunks.append('\\n'.join(current_chunk))\n",
    "    return chunks\n",
    "\n",
    "def analyze_chunk_with_ollama(chunk):\n",
    "    prompt = f\"Analyze the following code for potential memory defects:\\n\\n{chunk}\\n\\nAre there any memory defects in the code above? Please explain.\"\n",
    "    response = ollama.chat(model=\"deepseek-coder:33b\", messages=[{\"role\": \"user\", \"content\": prompt}])\n",
    "    return response['choices'][0]['message']['content']\n",
    "\n",
    "def analyze_git_log_for_memory_defects():\n",
    "    git_log = get_git_log()\n",
    "    chunks = split_into_chunks(git_log)\n",
    "    all_results = []\n",
    "    for chunk in chunks:\n",
    "        try:\n",
    "            result = analyze_chunk_with_ollama(chunk)\n",
    "            all_results.append(result)\n",
    "        except Exception as e:\n",
    "            print(f\"Error analyzing chunk: {e}\")\n",
    "    return all_results\n",
    "\n",
    "def main():\n",
    "    parser = argparse.ArgumentParser(description='Analyze git log for potential memory defects.')\n",
    "    args = parser.parse_args()\n",
    "    \n",
    "    results = analyze_git_log_for_memory_defects()\n",
    "    for result in results:\n",
    "        print(result)\n",
    "\n",
    "if __name__ == '__main__':\n",
    "    main()\n"
   ]
  },
  {
   "cell_type": "code",
   "execution_count": null,
   "id": "349bbbce-4825-4264-bc00-22cbeb605756",
   "metadata": {},
   "outputs": [],
   "source": []
  }
 ],
 "metadata": {
  "kernelspec": {
   "display_name": "Python 3 (ipykernel)",
   "language": "python",
   "name": "python3"
  },
  "language_info": {
   "codemirror_mode": {
    "name": "ipython",
    "version": 3
   },
   "file_extension": ".py",
   "mimetype": "text/x-python",
   "name": "python",
   "nbconvert_exporter": "python",
   "pygments_lexer": "ipython3",
   "version": "3.11.5"
  }
 },
 "nbformat": 4,
 "nbformat_minor": 5
}
