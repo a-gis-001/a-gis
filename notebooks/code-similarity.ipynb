{
 "cells": [
  {
   "cell_type": "code",
   "execution_count": 51,
   "id": "93ac2589-0e75-42ea-bf92-e2c4b4b1d69e",
   "metadata": {},
   "outputs": [],
   "source": [
    "import A_GIS\n",
    "import tqdm\n",
    "import numpy\n",
    "import pathlib"
   ]
  },
  {
   "cell_type": "code",
   "execution_count": 68,
   "id": "6d78cde3-84b4-44f1-ba47-c10a11d38044",
   "metadata": {},
   "outputs": [
    {
     "name": "stdout",
     "output_type": "stream",
     "text": [
      "326\n"
     ]
    }
   ],
   "source": [
    "x=A_GIS.File.glob(paths=\"../source/A_GIS\",patterns=\"*.py\")\n",
    "print(len(x.files))"
   ]
  },
  {
   "cell_type": "code",
   "execution_count": 69,
   "id": "2d59bde0-177c-4bb9-902d-a7b2bf4018b9",
   "metadata": {
    "scrolled": true
   },
   "outputs": [
    {
     "name": "stderr",
     "output_type": "stream",
     "text": [
      "  0%|                                                                                               | 0/326 [00:00<?, ?it/s]"
     ]
    },
    {
     "name": "stdout",
     "output_type": "stream",
     "text": [
      "A_GIS.Ai.Chatbot._send_chat_groq\n"
     ]
    },
    {
     "name": "stderr",
     "output_type": "stream",
     "text": [
      "  1%|▊                                                                                      | 3/326 [00:00<01:24,  3.83it/s]"
     ]
    },
    {
     "name": "stdout",
     "output_type": "stream",
     "text": [
      "A_GIS.Ai.Chatbot._send_chat_ollama\n"
     ]
    },
    {
     "name": "stderr",
     "output_type": "stream",
     "text": [
      "  1%|█                                                                                      | 4/326 [00:01<01:43,  3.10it/s]"
     ]
    },
    {
     "name": "stdout",
     "output_type": "stream",
     "text": [
      "A_GIS.Ai.Chatbot._send_chat_openai\n"
     ]
    },
    {
     "name": "stderr",
     "output_type": "stream",
     "text": [
      "  2%|█▎                                                                                     | 5/326 [00:01<02:04,  2.59it/s]"
     ]
    },
    {
     "name": "stdout",
     "output_type": "stream",
     "text": [
      "A_GIS.Ai.Chatbot.chat\n"
     ]
    },
    {
     "name": "stderr",
     "output_type": "stream",
     "text": [
      "  2%|█▌                                                                                     | 6/326 [00:02<02:35,  2.06it/s]"
     ]
    },
    {
     "name": "stdout",
     "output_type": "stream",
     "text": [
      "A_GIS.Ai.Chatbot.get_info\n"
     ]
    },
    {
     "name": "stderr",
     "output_type": "stream",
     "text": [
      "  2%|█▊                                                                                     | 7/326 [00:03<03:45,  1.41it/s]"
     ]
    },
    {
     "name": "stdout",
     "output_type": "stream",
     "text": [
      "A_GIS.Ai.Chatbot.init\n"
     ]
    },
    {
     "name": "stderr",
     "output_type": "stream",
     "text": [
      "  2%|██▏                                                                                    | 8/326 [00:04<03:21,  1.58it/s]"
     ]
    },
    {
     "name": "stdout",
     "output_type": "stream",
     "text": [
      "A_GIS.Ai.Chatbot.list_models\n"
     ]
    },
    {
     "name": "stderr",
     "output_type": "stream",
     "text": [
      "  3%|██▍                                                                                    | 9/326 [00:04<03:07,  1.69it/s]"
     ]
    },
    {
     "name": "stdout",
     "output_type": "stream",
     "text": [
      "A_GIS.Ai.Llm._helpers.download_model_files\n"
     ]
    },
    {
     "name": "stderr",
     "output_type": "stream",
     "text": [
      "  4%|███▏                                                                                  | 12/326 [00:05<01:49,  2.86it/s]"
     ]
    },
    {
     "name": "stdout",
     "output_type": "stream",
     "text": [
      "A_GIS.Ai.Llm._helpers.get_download_links\n"
     ]
    },
    {
     "name": "stderr",
     "output_type": "stream",
     "text": [
      "  4%|███▍                                                                                  | 13/326 [00:05<02:00,  2.61it/s]"
     ]
    },
    {
     "name": "stdout",
     "output_type": "stream",
     "text": [
      "A_GIS.Ai.Llm._helpers.get_output_folder\n"
     ]
    },
    {
     "name": "stderr",
     "output_type": "stream",
     "text": [
      "  4%|███▋                                                                                  | 14/326 [00:06<02:04,  2.52it/s]"
     ]
    },
    {
     "name": "stdout",
     "output_type": "stream",
     "text": [
      "A_GIS.Ai.Llm._helpers.parse_download_cli_args\n"
     ]
    },
    {
     "name": "stderr",
     "output_type": "stream",
     "text": [
      "  5%|███▉                                                                                  | 15/326 [00:06<02:06,  2.45it/s]"
     ]
    },
    {
     "name": "stdout",
     "output_type": "stream",
     "text": [
      "A_GIS.Ai.Llm._helpers.sanitize_model_and_branch_names\n"
     ]
    },
    {
     "name": "stderr",
     "output_type": "stream",
     "text": [
      "  5%|████▏                                                                                 | 16/326 [00:06<02:08,  2.41it/s]"
     ]
    },
    {
     "name": "stdout",
     "output_type": "stream",
     "text": [
      "A_GIS.Ai.Llm._helpers.start_download_threads\n"
     ]
    },
    {
     "name": "stderr",
     "output_type": "stream",
     "text": [
      "  5%|████▍                                                                                 | 17/326 [00:07<02:31,  2.04it/s]"
     ]
    },
    {
     "name": "stdout",
     "output_type": "stream",
     "text": [
      "A_GIS.Ai.Llm.download\n"
     ]
    },
    {
     "name": "stderr",
     "output_type": "stream",
     "text": [
      "  6%|████▋                                                                                 | 18/326 [00:08<02:35,  1.98it/s]"
     ]
    },
    {
     "name": "stdout",
     "output_type": "stream",
     "text": [
      "A_GIS.Cli.distill\n"
     ]
    },
    {
     "name": "stderr",
     "output_type": "stream",
     "text": [
      "  7%|█████▊                                                                                | 22/326 [00:08<01:18,  3.85it/s]"
     ]
    },
    {
     "name": "stdout",
     "output_type": "stream",
     "text": [
      "A_GIS.Cli.get_console_width\n"
     ]
    },
    {
     "name": "stderr",
     "output_type": "stream",
     "text": [
      "  7%|██████                                                                                | 23/326 [00:09<01:28,  3.44it/s]"
     ]
    },
    {
     "name": "stdout",
     "output_type": "stream",
     "text": [
      "A_GIS.Cli.get_git_status\n"
     ]
    },
    {
     "name": "stderr",
     "output_type": "stream",
     "text": [
      "  7%|██████▎                                                                               | 24/326 [00:09<01:38,  3.08it/s]"
     ]
    },
    {
     "name": "stdout",
     "output_type": "stream",
     "text": [
      "A_GIS.Cli.get_name_and_path\n"
     ]
    },
    {
     "name": "stderr",
     "output_type": "stream",
     "text": [
      "  8%|██████▌                                                                               | 25/326 [00:09<01:49,  2.75it/s]"
     ]
    },
    {
     "name": "stdout",
     "output_type": "stream",
     "text": [
      "A_GIS.Cli.register\n"
     ]
    },
    {
     "name": "stderr",
     "output_type": "stream",
     "text": [
      "  8%|██████▊                                                                               | 26/326 [00:10<01:53,  2.64it/s]"
     ]
    },
    {
     "name": "stdout",
     "output_type": "stream",
     "text": [
      "A_GIS.Cli.run_git\n"
     ]
    },
    {
     "name": "stderr",
     "output_type": "stream",
     "text": [
      "  8%|███████                                                                               | 27/326 [00:10<02:01,  2.46it/s]"
     ]
    },
    {
     "name": "stdout",
     "output_type": "stream",
     "text": [
      "A_GIS.Cli.update_and_show_git_status\n"
     ]
    },
    {
     "name": "stderr",
     "output_type": "stream",
     "text": [
      "  9%|███████▍                                                                              | 28/326 [00:11<02:03,  2.42it/s]"
     ]
    },
    {
     "name": "stdout",
     "output_type": "stream",
     "text": [
      "A_GIS.Code.CommitMessage.generate\n"
     ]
    },
    {
     "name": "stderr",
     "output_type": "stream",
     "text": [
      "  9%|███████▉                                                                              | 30/326 [00:11<01:35,  3.10it/s]"
     ]
    },
    {
     "name": "stdout",
     "output_type": "stream",
     "text": [
      "A_GIS.Code.Docstring.check_short_description\n"
     ]
    },
    {
     "name": "stderr",
     "output_type": "stream",
     "text": [
      " 10%|████████▉                                                                             | 34/326 [00:12<00:59,  4.87it/s]"
     ]
    },
    {
     "name": "stdout",
     "output_type": "stream",
     "text": [
      "A_GIS.Code.Docstring.clean\n"
     ]
    },
    {
     "name": "stderr",
     "output_type": "stream",
     "text": [
      " 11%|█████████▏                                                                            | 35/326 [00:12<01:11,  4.07it/s]"
     ]
    },
    {
     "name": "stdout",
     "output_type": "stream",
     "text": [
      "A_GIS.Code.Docstring.clean.tests\n"
     ]
    },
    {
     "name": "stderr",
     "output_type": "stream",
     "text": [
      " 11%|█████████▍                                                                            | 36/326 [00:13<01:28,  3.29it/s]"
     ]
    },
    {
     "name": "stdout",
     "output_type": "stream",
     "text": [
      "A_GIS.Code.Docstring.fix_short_description\n"
     ]
    },
    {
     "name": "stderr",
     "output_type": "stream",
     "text": [
      " 11%|█████████▊                                                                            | 37/326 [00:13<01:34,  3.06it/s]"
     ]
    },
    {
     "name": "stdout",
     "output_type": "stream",
     "text": [
      "A_GIS.Code.Docstring.generate\n"
     ]
    },
    {
     "name": "stderr",
     "output_type": "stream",
     "text": [
      " 12%|██████████                                                                            | 38/326 [00:13<01:38,  2.92it/s]"
     ]
    },
    {
     "name": "stdout",
     "output_type": "stream",
     "text": [
      "A_GIS.Code.Docstring.generate\n"
     ]
    },
    {
     "name": "stderr",
     "output_type": "stream",
     "text": [
      " 12%|██████████▎                                                                           | 39/326 [00:14<01:45,  2.71it/s]"
     ]
    },
    {
     "name": "stdout",
     "output_type": "stream",
     "text": [
      "A_GIS.Code.Docstring.init\n"
     ]
    },
    {
     "name": "stderr",
     "output_type": "stream",
     "text": [
      " 12%|██████████▌                                                                           | 40/326 [00:14<01:49,  2.60it/s]"
     ]
    },
    {
     "name": "stdout",
     "output_type": "stream",
     "text": [
      "A_GIS.Code.Docstring.reformat\n"
     ]
    },
    {
     "name": "stderr",
     "output_type": "stream",
     "text": [
      " 13%|██████████▊                                                                           | 41/326 [00:15<01:52,  2.53it/s]"
     ]
    },
    {
     "name": "stdout",
     "output_type": "stream",
     "text": [
      "A_GIS.Code.Docstring.reformat.tests\n"
     ]
    },
    {
     "name": "stderr",
     "output_type": "stream",
     "text": [
      " 13%|███████████▎                                                                          | 43/326 [00:15<01:27,  3.24it/s]"
     ]
    },
    {
     "name": "stdout",
     "output_type": "stream",
     "text": [
      "A_GIS.Code.Docstring.to_string\n"
     ]
    },
    {
     "name": "stderr",
     "output_type": "stream",
     "text": [
      " 13%|███████████▌                                                                          | 44/326 [00:16<01:36,  2.92it/s]"
     ]
    },
    {
     "name": "stdout",
     "output_type": "stream",
     "text": [
      "A_GIS.Code.Tree.get\n"
     ]
    },
    {
     "name": "stderr",
     "output_type": "stream",
     "text": [
      " 15%|████████████▋                                                                         | 48/326 [00:16<00:56,  4.96it/s]"
     ]
    },
    {
     "name": "stdout",
     "output_type": "stream",
     "text": [
      "A_GIS.Code.Tree.init\n"
     ]
    },
    {
     "name": "stderr",
     "output_type": "stream",
     "text": [
      " 15%|████████████▉                                                                         | 49/326 [00:16<01:07,  4.11it/s]"
     ]
    },
    {
     "name": "stdout",
     "output_type": "stream",
     "text": [
      "A_GIS.Code.Tree.init_from_file\n"
     ]
    },
    {
     "name": "stderr",
     "output_type": "stream",
     "text": [
      " 15%|█████████████▏                                                                        | 50/326 [00:17<01:17,  3.54it/s]"
     ]
    },
    {
     "name": "stdout",
     "output_type": "stream",
     "text": [
      "A_GIS.Code.Tree.print\n"
     ]
    },
    {
     "name": "stderr",
     "output_type": "stream",
     "text": [
      " 16%|█████████████▍                                                                        | 51/326 [00:17<01:30,  3.03it/s]"
     ]
    },
    {
     "name": "stdout",
     "output_type": "stream",
     "text": [
      "A_GIS.Code.Tree.recurse\n"
     ]
    },
    {
     "name": "stderr",
     "output_type": "stream",
     "text": [
      " 16%|█████████████▋                                                                        | 52/326 [00:18<01:39,  2.76it/s]"
     ]
    },
    {
     "name": "stdout",
     "output_type": "stream",
     "text": [
      "A_GIS.Code.Tree.to_json\n"
     ]
    },
    {
     "name": "stderr",
     "output_type": "stream",
     "text": [
      " 16%|█████████████▉                                                                        | 53/326 [00:18<01:44,  2.62it/s]"
     ]
    },
    {
     "name": "stdout",
     "output_type": "stream",
     "text": [
      "A_GIS.Code.Tree.to_string\n"
     ]
    },
    {
     "name": "stderr",
     "output_type": "stream",
     "text": [
      " 17%|██████████████▏                                                                       | 54/326 [00:19<01:48,  2.52it/s]"
     ]
    },
    {
     "name": "stdout",
     "output_type": "stream",
     "text": [
      "A_GIS.Code.Tree.update\n"
     ]
    },
    {
     "name": "stderr",
     "output_type": "stream",
     "text": [
      " 17%|██████████████▌                                                                       | 55/326 [00:19<01:56,  2.33it/s]"
     ]
    },
    {
     "name": "stdout",
     "output_type": "stream",
     "text": [
      "A_GIS.Code.Tree.update_path_to_package\n"
     ]
    },
    {
     "name": "stderr",
     "output_type": "stream",
     "text": [
      " 17%|██████████████▊                                                                       | 56/326 [00:20<02:00,  2.24it/s]"
     ]
    },
    {
     "name": "stdout",
     "output_type": "stream",
     "text": [
      "A_GIS.Code.Unit.Example.generate\n"
     ]
    },
    {
     "name": "stderr",
     "output_type": "stream",
     "text": [
      " 18%|███████████████▎                                                                      | 58/326 [00:20<01:32,  2.90it/s]"
     ]
    },
    {
     "name": "stdout",
     "output_type": "stream",
     "text": [
      "A_GIS.Code.Unit.Example.generate\n"
     ]
    },
    {
     "name": "stderr",
     "output_type": "stream",
     "text": [
      " 18%|███████████████▌                                                                      | 59/326 [00:21<01:42,  2.60it/s]"
     ]
    },
    {
     "name": "stdout",
     "output_type": "stream",
     "text": [
      "A_GIS.Code.Unit.Name.check\n"
     ]
    },
    {
     "name": "stderr",
     "output_type": "stream",
     "text": [
      " 19%|████████████████▎                                                                     | 62/326 [00:21<01:08,  3.87it/s]"
     ]
    },
    {
     "name": "stdout",
     "output_type": "stream",
     "text": [
      "A_GIS.Code.Unit.Name.fix\n"
     ]
    },
    {
     "name": "stderr",
     "output_type": "stream",
     "text": [
      " 19%|████████████████▌                                                                     | 63/326 [00:22<01:16,  3.46it/s]"
     ]
    },
    {
     "name": "stdout",
     "output_type": "stream",
     "text": [
      "A_GIS.Code.Unit.Name.fix.tests\n"
     ]
    },
    {
     "name": "stderr",
     "output_type": "stream",
     "text": [
      " 20%|████████████████▉                                                                     | 64/326 [00:22<01:22,  3.17it/s]"
     ]
    },
    {
     "name": "stdout",
     "output_type": "stream",
     "text": [
      "A_GIS.Code.Unit.Name.generate\n"
     ]
    },
    {
     "name": "stderr",
     "output_type": "stream",
     "text": [
      " 20%|█████████████████▏                                                                    | 65/326 [00:23<01:41,  2.58it/s]"
     ]
    },
    {
     "name": "stdout",
     "output_type": "stream",
     "text": [
      "A_GIS.Code.Unit.Name.init_from_path\n"
     ]
    },
    {
     "name": "stderr",
     "output_type": "stream",
     "text": [
      " 20%|█████████████████▍                                                                    | 66/326 [00:23<01:49,  2.37it/s]"
     ]
    },
    {
     "name": "stdout",
     "output_type": "stream",
     "text": [
      "A_GIS.Code.Unit.Name.is_path\n"
     ]
    },
    {
     "name": "stderr",
     "output_type": "stream",
     "text": [
      " 21%|█████████████████▋                                                                    | 67/326 [00:25<03:08,  1.38it/s]"
     ]
    },
    {
     "name": "stdout",
     "output_type": "stream",
     "text": [
      "A_GIS.Code.Unit.Name.to_path\n"
     ]
    },
    {
     "name": "stderr",
     "output_type": "stream",
     "text": [
      " 21%|█████████████████▉                                                                    | 68/326 [00:25<02:49,  1.53it/s]"
     ]
    },
    {
     "name": "stdout",
     "output_type": "stream",
     "text": [
      "A_GIS.Code.Unit.Test.generate\n"
     ]
    },
    {
     "name": "stderr",
     "output_type": "stream",
     "text": [
      " 21%|██████████████████▍                                                                   | 70/326 [00:26<02:00,  2.12it/s]"
     ]
    },
    {
     "name": "stdout",
     "output_type": "stream",
     "text": [
      "A_GIS.Code.Unit._check_body_block\n"
     ]
    },
    {
     "name": "stderr",
     "output_type": "stream",
     "text": [
      " 22%|███████████████████▎                                                                  | 73/326 [00:26<01:18,  3.24it/s]"
     ]
    },
    {
     "name": "stdout",
     "output_type": "stream",
     "text": [
      "A_GIS.Code.Unit._check_imports\n"
     ]
    },
    {
     "name": "stderr",
     "output_type": "stream",
     "text": [
      " 23%|███████████████████▌                                                                  | 74/326 [00:26<01:25,  2.94it/s]"
     ]
    },
    {
     "name": "stdout",
     "output_type": "stream",
     "text": [
      "A_GIS.Code.Unit._has_imports\n"
     ]
    },
    {
     "name": "stderr",
     "output_type": "stream",
     "text": [
      " 23%|███████████████████▊                                                                  | 75/326 [00:27<01:42,  2.45it/s]"
     ]
    },
    {
     "name": "stdout",
     "output_type": "stream",
     "text": [
      "A_GIS.Code.Unit._parse_first_pass\n"
     ]
    },
    {
     "name": "stderr",
     "output_type": "stream",
     "text": [
      " 23%|████████████████████                                                                  | 76/326 [00:28<01:51,  2.25it/s]"
     ]
    },
    {
     "name": "stdout",
     "output_type": "stream",
     "text": [
      "A_GIS.Code.Unit._process_args_name_code\n"
     ]
    },
    {
     "name": "stderr",
     "output_type": "stream",
     "text": [
      " 24%|████████████████████▎                                                                 | 77/326 [00:28<01:50,  2.25it/s]"
     ]
    },
    {
     "name": "stdout",
     "output_type": "stream",
     "text": [
      "A_GIS.Code.Unit._wrap_single_block\n"
     ]
    },
    {
     "name": "stderr",
     "output_type": "stream",
     "text": [
      " 24%|████████████████████▌                                                                 | 78/326 [00:29<01:49,  2.26it/s]"
     ]
    },
    {
     "name": "stdout",
     "output_type": "stream",
     "text": [
      "A_GIS.Code.Unit.absorb\n"
     ]
    },
    {
     "name": "stderr",
     "output_type": "stream",
     "text": [
      " 24%|████████████████████▊                                                                 | 79/326 [00:29<01:49,  2.26it/s]"
     ]
    },
    {
     "name": "stdout",
     "output_type": "stream",
     "text": [
      "A_GIS.Code.Unit.calculate_embedding\n"
     ]
    },
    {
     "name": "stderr",
     "output_type": "stream",
     "text": [
      " 25%|█████████████████████▎                                                                | 81/326 [00:29<01:24,  2.89it/s]"
     ]
    },
    {
     "name": "stdout",
     "output_type": "stream",
     "text": [
      "A_GIS.Code.Unit.check\n"
     ]
    },
    {
     "name": "stderr",
     "output_type": "stream",
     "text": [
      " 25%|█████████████████████▋                                                                | 82/326 [00:30<01:40,  2.43it/s]"
     ]
    },
    {
     "name": "stdout",
     "output_type": "stream",
     "text": [
      "A_GIS.Code.Unit.get\n"
     ]
    },
    {
     "name": "stderr",
     "output_type": "stream",
     "text": [
      " 26%|██████████████████████▏                                                               | 84/326 [00:31<01:21,  2.98it/s]"
     ]
    },
    {
     "name": "stdout",
     "output_type": "stream",
     "text": [
      "A_GIS.Code.Unit.get_git_status\n"
     ]
    },
    {
     "name": "stderr",
     "output_type": "stream",
     "text": [
      " 26%|██████████████████████▍                                                               | 85/326 [00:32<01:58,  2.04it/s]"
     ]
    },
    {
     "name": "stdout",
     "output_type": "stream",
     "text": [
      "A_GIS.Code.Unit.move\n"
     ]
    },
    {
     "name": "stderr",
     "output_type": "stream",
     "text": [
      " 26%|██████████████████████▋                                                               | 86/326 [00:33<02:38,  1.52it/s]"
     ]
    },
    {
     "name": "stdout",
     "output_type": "stream",
     "text": [
      "A_GIS.Code.Unit.read\n"
     ]
    },
    {
     "name": "stderr",
     "output_type": "stream",
     "text": [
      " 27%|██████████████████████▉                                                               | 87/326 [00:33<02:23,  1.66it/s]"
     ]
    },
    {
     "name": "stdout",
     "output_type": "stream",
     "text": [
      "A_GIS.Code.Unit.recommend\n"
     ]
    },
    {
     "name": "stderr",
     "output_type": "stream",
     "text": [
      " 27%|██████████████████████▉                                                               | 87/326 [00:34<01:33,  2.56it/s]\n"
     ]
    },
    {
     "ename": "KeyboardInterrupt",
     "evalue": "",
     "output_type": "error",
     "traceback": [
      "\u001b[31m---------------------------------------------------------------------------\u001b[39m",
      "\u001b[31mKeyboardInterrupt\u001b[39m                         Traceback (most recent call last)",
      "\u001b[36mCell\u001b[39m\u001b[36m \u001b[39m\u001b[32mIn[69]\u001b[39m\u001b[32m, line 9\u001b[39m\n\u001b[32m      6\u001b[39m \u001b[38;5;28mprint\u001b[39m(name)\n\u001b[32m      7\u001b[39m distill=A_GIS.Code.distill(code=code)\n\u001b[32m      8\u001b[39m data[name] = {\n\u001b[32m----> \u001b[39m\u001b[32m9\u001b[39m     \u001b[33m'\u001b[39m\u001b[33membedding\u001b[39m\u001b[33m'\u001b[39m: \u001b[43mA_GIS\u001b[49m\u001b[43m.\u001b[49m\u001b[43mCode\u001b[49m\u001b[43m.\u001b[49m\u001b[43mcalculate_embedding\u001b[49m\u001b[43m(\u001b[49m\u001b[43mcode\u001b[49m\u001b[43m=\u001b[49m\u001b[43mdistill\u001b[49m\u001b[43m)\u001b[49m,\n\u001b[32m     10\u001b[39m     \u001b[33m'\u001b[39m\u001b[33mcode\u001b[39m\u001b[33m'\u001b[39m:code,\n\u001b[32m     11\u001b[39m     \u001b[33m'\u001b[39m\u001b[33mdistill\u001b[39m\u001b[33m'\u001b[39m: distill,\n\u001b[32m     12\u001b[39m     \u001b[33m'\u001b[39m\u001b[33mpath\u001b[39m\u001b[33m'\u001b[39m: path\n\u001b[32m     13\u001b[39m   }\n",
      "\u001b[36mFile \u001b[39m\u001b[32m~/a-gis/source/A_GIS/Code/calculate_embedding/__init__.py:37\u001b[39m, in \u001b[36mcalculate_embedding\u001b[39m\u001b[34m(code, reference, compare, model, instruction)\u001b[39m\n\u001b[32m     34\u001b[39m \u001b[38;5;66;03m# Ensure model_max_length is a reasonable value\u001b[39;00m\n\u001b[32m     35\u001b[39m max_length = \u001b[38;5;28mmin\u001b[39m(tokenizer.model_max_length, \u001b[32m8192\u001b[39m)  \u001b[38;5;66;03m# Cap at 8192 tokens max\u001b[39;00m\n\u001b[32m---> \u001b[39m\u001b[32m37\u001b[39m embedder = \u001b[43mtransformers\u001b[49m\u001b[43m.\u001b[49m\u001b[43mAutoModel\u001b[49m\u001b[43m.\u001b[49m\u001b[43mfrom_pretrained\u001b[49m\u001b[43m(\u001b[49m\u001b[43mmodel\u001b[49m\u001b[43m,\u001b[49m\u001b[43m \u001b[49m\u001b[43mtrust_remote_code\u001b[49m\u001b[43m=\u001b[49m\u001b[38;5;28;43;01mTrue\u001b[39;49;00m\u001b[43m)\u001b[49m\u001b[43m.\u001b[49m\u001b[43mto\u001b[49m\u001b[43m(\u001b[49m\u001b[43mdevice\u001b[49m\u001b[43m)\u001b[49m\n\u001b[32m     39\u001b[39m \u001b[38;5;28;01mdef\u001b[39;00m\u001b[38;5;250m \u001b[39m\u001b[34mget_embedding\u001b[39m(text):\n\u001b[32m     40\u001b[39m     \u001b[38;5;28;01mif\u001b[39;00m \u001b[33m\"\u001b[39m\u001b[33minstructor\u001b[39m\u001b[33m\"\u001b[39m \u001b[38;5;129;01min\u001b[39;00m model.lower():\n",
      "\u001b[36mFile \u001b[39m\u001b[32m~/a-gis/venv/lib/python3.13/site-packages/transformers/modeling_utils.py:3162\u001b[39m, in \u001b[36mPreTrainedModel.to\u001b[39m\u001b[34m(self, *args, **kwargs)\u001b[39m\n\u001b[32m   3157\u001b[39m     \u001b[38;5;28;01mif\u001b[39;00m dtype_present_in_args:\n\u001b[32m   3158\u001b[39m         \u001b[38;5;28;01mraise\u001b[39;00m \u001b[38;5;167;01mValueError\u001b[39;00m(\n\u001b[32m   3159\u001b[39m             \u001b[33m\"\u001b[39m\u001b[33mYou cannot cast a GPTQ model in a new `dtype`. Make sure to load the model using `from_pretrained` using the desired\u001b[39m\u001b[33m\"\u001b[39m\n\u001b[32m   3160\u001b[39m             \u001b[33m\"\u001b[39m\u001b[33m `dtype` by passing the correct `torch_dtype` argument.\u001b[39m\u001b[33m\"\u001b[39m\n\u001b[32m   3161\u001b[39m         )\n\u001b[32m-> \u001b[39m\u001b[32m3162\u001b[39m \u001b[38;5;28;01mreturn\u001b[39;00m \u001b[38;5;28;43msuper\u001b[39;49m\u001b[43m(\u001b[49m\u001b[43m)\u001b[49m\u001b[43m.\u001b[49m\u001b[43mto\u001b[49m\u001b[43m(\u001b[49m\u001b[43m*\u001b[49m\u001b[43margs\u001b[49m\u001b[43m,\u001b[49m\u001b[43m \u001b[49m\u001b[43m*\u001b[49m\u001b[43m*\u001b[49m\u001b[43mkwargs\u001b[49m\u001b[43m)\u001b[49m\n",
      "\u001b[36mFile \u001b[39m\u001b[32m~/a-gis/venv/lib/python3.13/site-packages/torch/nn/modules/module.py:1343\u001b[39m, in \u001b[36mModule.to\u001b[39m\u001b[34m(self, *args, **kwargs)\u001b[39m\n\u001b[32m   1340\u001b[39m         \u001b[38;5;28;01melse\u001b[39;00m:\n\u001b[32m   1341\u001b[39m             \u001b[38;5;28;01mraise\u001b[39;00m\n\u001b[32m-> \u001b[39m\u001b[32m1343\u001b[39m \u001b[38;5;28;01mreturn\u001b[39;00m \u001b[38;5;28;43mself\u001b[39;49m\u001b[43m.\u001b[49m\u001b[43m_apply\u001b[49m\u001b[43m(\u001b[49m\u001b[43mconvert\u001b[49m\u001b[43m)\u001b[49m\n",
      "\u001b[36mFile \u001b[39m\u001b[32m~/a-gis/venv/lib/python3.13/site-packages/torch/nn/modules/module.py:903\u001b[39m, in \u001b[36mModule._apply\u001b[39m\u001b[34m(self, fn, recurse)\u001b[39m\n\u001b[32m    901\u001b[39m \u001b[38;5;28;01mif\u001b[39;00m recurse:\n\u001b[32m    902\u001b[39m     \u001b[38;5;28;01mfor\u001b[39;00m module \u001b[38;5;129;01min\u001b[39;00m \u001b[38;5;28mself\u001b[39m.children():\n\u001b[32m--> \u001b[39m\u001b[32m903\u001b[39m         \u001b[43mmodule\u001b[49m\u001b[43m.\u001b[49m\u001b[43m_apply\u001b[49m\u001b[43m(\u001b[49m\u001b[43mfn\u001b[49m\u001b[43m)\u001b[49m\n\u001b[32m    905\u001b[39m \u001b[38;5;28;01mdef\u001b[39;00m\u001b[38;5;250m \u001b[39m\u001b[34mcompute_should_use_set_data\u001b[39m(tensor, tensor_applied):\n\u001b[32m    906\u001b[39m     \u001b[38;5;28;01mif\u001b[39;00m torch._has_compatible_shallow_copy_type(tensor, tensor_applied):\n\u001b[32m    907\u001b[39m         \u001b[38;5;66;03m# If the new tensor has compatible tensor type as the existing tensor,\u001b[39;00m\n\u001b[32m    908\u001b[39m         \u001b[38;5;66;03m# the current behavior is to change the tensor in-place using `.data =`,\u001b[39;00m\n\u001b[32m   (...)\u001b[39m\u001b[32m    913\u001b[39m         \u001b[38;5;66;03m# global flag to let the user control whether they want the future\u001b[39;00m\n\u001b[32m    914\u001b[39m         \u001b[38;5;66;03m# behavior of overwriting the existing tensor or not.\u001b[39;00m\n",
      "\u001b[36mFile \u001b[39m\u001b[32m~/a-gis/venv/lib/python3.13/site-packages/torch/nn/modules/module.py:903\u001b[39m, in \u001b[36mModule._apply\u001b[39m\u001b[34m(self, fn, recurse)\u001b[39m\n\u001b[32m    901\u001b[39m \u001b[38;5;28;01mif\u001b[39;00m recurse:\n\u001b[32m    902\u001b[39m     \u001b[38;5;28;01mfor\u001b[39;00m module \u001b[38;5;129;01min\u001b[39;00m \u001b[38;5;28mself\u001b[39m.children():\n\u001b[32m--> \u001b[39m\u001b[32m903\u001b[39m         \u001b[43mmodule\u001b[49m\u001b[43m.\u001b[49m\u001b[43m_apply\u001b[49m\u001b[43m(\u001b[49m\u001b[43mfn\u001b[49m\u001b[43m)\u001b[49m\n\u001b[32m    905\u001b[39m \u001b[38;5;28;01mdef\u001b[39;00m\u001b[38;5;250m \u001b[39m\u001b[34mcompute_should_use_set_data\u001b[39m(tensor, tensor_applied):\n\u001b[32m    906\u001b[39m     \u001b[38;5;28;01mif\u001b[39;00m torch._has_compatible_shallow_copy_type(tensor, tensor_applied):\n\u001b[32m    907\u001b[39m         \u001b[38;5;66;03m# If the new tensor has compatible tensor type as the existing tensor,\u001b[39;00m\n\u001b[32m    908\u001b[39m         \u001b[38;5;66;03m# the current behavior is to change the tensor in-place using `.data =`,\u001b[39;00m\n\u001b[32m   (...)\u001b[39m\u001b[32m    913\u001b[39m         \u001b[38;5;66;03m# global flag to let the user control whether they want the future\u001b[39;00m\n\u001b[32m    914\u001b[39m         \u001b[38;5;66;03m# behavior of overwriting the existing tensor or not.\u001b[39;00m\n",
      "\u001b[36mFile \u001b[39m\u001b[32m~/a-gis/venv/lib/python3.13/site-packages/torch/nn/modules/module.py:965\u001b[39m, in \u001b[36mModule._apply\u001b[39m\u001b[34m(self, fn, recurse)\u001b[39m\n\u001b[32m    962\u001b[39m     out_param = Parameter(param_applied, param.requires_grad)\n\u001b[32m    963\u001b[39m     \u001b[38;5;28mself\u001b[39m._parameters[key] = out_param\n\u001b[32m--> \u001b[39m\u001b[32m965\u001b[39m \u001b[38;5;28;01mif\u001b[39;00m param_grad \u001b[38;5;129;01mis\u001b[39;00m \u001b[38;5;129;01mnot\u001b[39;00m \u001b[38;5;28;01mNone\u001b[39;00m:\n\u001b[32m    966\u001b[39m     \u001b[38;5;28;01mwith\u001b[39;00m torch.no_grad():\n\u001b[32m    967\u001b[39m         grad_applied = fn(param_grad)\n",
      "\u001b[31mKeyboardInterrupt\u001b[39m: "
     ]
    }
   ],
   "source": [
    "data={}\n",
    "for path in tqdm.tqdm(x.files):\n",
    "    code=A_GIS.File.read(file=path)\n",
    "    if A_GIS.Code.is_function(code=code):\n",
    "        name=A_GIS.Code.Unit.Name.init_from_path(path=pathlib.Path(path))\n",
    "        print(name)\n",
    "        distill=A_GIS.Code.distill(code=code)\n",
    "        data[name] = {\n",
    "            'embedding': A_GIS.Code.calculate_embedding(code=distill),\n",
    "            'code':code,\n",
    "            'distill': distill,\n",
    "            'path': path\n",
    "          }"
   ]
  },
  {
   "cell_type": "code",
   "execution_count": 61,
   "id": "4e0a0187-9fe5-4169-ac22-2b6df2b87c20",
   "metadata": {},
   "outputs": [
    {
     "name": "stdout",
     "output_type": "stream",
     "text": [
      "(10.902662216284071, 'A_GIS.Ai.Chatbot._send_chat_groq', 'A_GIS.Ai.Chatbot._send_chat_openai')\n",
      "(10.902662216284071, 'A_GIS.Ai.Chatbot._send_chat_openai', 'A_GIS.Ai.Chatbot._send_chat_groq')\n",
      "(18.13366973283617, 'A_GIS.Code.Unit._check_body_block', 'A_GIS.Code.Unit._check_imports')\n",
      "(18.13366973283617, 'A_GIS.Code.Unit._check_imports', 'A_GIS.Code.Unit._check_body_block')\n",
      "(15.469226719286334, 'A_GIS.Dev.Metrics.Defects.get_report_script', 'A_GIS.Dev.Metrics.Defects.get_report_style')\n",
      "(15.469226719286334, 'A_GIS.Dev.Metrics.Defects.get_report_style', 'A_GIS.Dev.Metrics.Defects.get_report_script')\n",
      "(14.658060187640379, 'A_GIS.Dev.Metrics._extract_scl', 'A_GIS.Dev.Metrics._extract_sdl')\n",
      "(14.658060187640379, 'A_GIS.Dev.Metrics._extract_sdl', 'A_GIS.Dev.Metrics._extract_scl')\n",
      "(19.58549126656448, 'A_GIS.File.read', 'A_GIS.File.write')\n",
      "(19.58549126656448, 'A_GIS.File.write', 'A_GIS.File.read')\n",
      "(11.326859980656442, 'A_GIS.Text.get_after_tag', 'A_GIS.Text.get_before_tag')\n",
      "(11.326859980656442, 'A_GIS.Text.get_before_tag', 'A_GIS.Text.get_after_tag')\n",
      "(18.850219982764724, 'A_GIS.Time.convert_to_datetime', 'A_GIS.Time.convert_to_string')\n",
      "(18.850219982764724, 'A_GIS.Time.convert_to_string', 'A_GIS.Time.convert_to_datetime')\n"
     ]
    }
   ],
   "source": [
    "for k1,v1 in data.items():\n",
    "    r=[]\n",
    "    for k2,v2 in data.items():    \n",
    "        s=A_GIS.Math.calculate_angle_between_vectors( a=v1['embedding'].code_embedding, b=v2['embedding'].code_embedding ).signed_angle\n",
    "        r.append((s,k1,k2))\n",
    "    r.sort()\n",
    "    for a in r[1:3]:\n",
    "        if numpy.abs(a[0])<20:\n",
    "            print(a)"
   ]
  },
  {
   "cell_type": "code",
   "execution_count": 60,
   "id": "8fba5eb1-89d4-43d2-9b4e-6243ea78c539",
   "metadata": {},
   "outputs": [
    {
     "name": "stdout",
     "output_type": "stream",
     "text": [
      "def _download_and_hash_image(image_info, store_path, leave_progress_bar=False):\n",
      "    import hashlib\n",
      "    import A_GIS.File.download\n",
      "    import A_GIS.File.make_directory\n",
      "    import os\n",
      "    import pathlib\n",
      "    import shutil\n",
      "    path = None\n",
      "    hash = None\n",
      "    error = None\n",
      "    try:\n",
      "        with A_GIS.File.make_directory(scoped_delete=True) as temp_dir:\n",
      "            filename = pathlib.Path(os.path.basename(image_info['link']))\n",
      "            A_GIS.File.download(url=image_info['url'], output_folder=temp_dir.path, filename=filename, start_from_scratch=False, leave_progress_bar=leave_progress_bar)\n",
      "            old_filename = temp_dir.path / filename\n",
      "            hash = A_GIS.File.hash(file=old_filename)\n",
      "            ext = filename.suffix\n",
      "            store_dir = pathlib.Path(store_path).parent\n",
      "            images_dir = store_dir / 'images'\n",
      "            images_dir.mkdir(exist_ok=True)\n",
      "            new_filename = images_dir / (hash + ext)\n",
      "            shutil.move(old_filename, new_filename)\n",
      "            path = str(new_filename.relative_to(store_dir))\n",
      "    except Exception as e:\n",
      "        error = str(e)\n",
      "    return ({'link': image_info['link'], 'url': image_info['url'], 'path': path, 'hash': hash}, error)\n"
     ]
    }
   ],
   "source": [
    "print(data['A_GIS.Dev.Metrics._download_and_hash_image']['distill'])"
   ]
  },
  {
   "cell_type": "code",
   "execution_count": 4,
   "id": "707de5af-b0da-4ab0-b29a-6bb69addb9a7",
   "metadata": {},
   "outputs": [],
   "source": [
    "loader = GenericLoader.from_filesystem(\n",
    "    \"../source/A_GIS\",\n",
    "    glob=\"**/*\",\n",
    "    suffixes=[\".py\"],\n",
    "    exclude=[\"**/non-utf8-encoding.py\"],\n",
    "    parser=LanguageParser(language=Language.PYTHON, parser_threshold=500),\n",
    ")"
   ]
  },
  {
   "cell_type": "code",
   "execution_count": 5,
   "id": "0e592c5d-2e69-44af-8e18-166ee3876df9",
   "metadata": {},
   "outputs": [
    {
     "data": {
      "text/plain": [
       "341"
      ]
     },
     "execution_count": 5,
     "metadata": {},
     "output_type": "execute_result"
    }
   ],
   "source": [
    "documents = loader.load()\n",
    "len(documents)"
   ]
  },
  {
   "cell_type": "code",
   "execution_count": 7,
   "id": "6838e954-8cd2-458f-890b-8ef3e988a8ed",
   "metadata": {},
   "outputs": [
    {
     "data": {
      "text/plain": [
       "499"
      ]
     },
     "execution_count": 7,
     "metadata": {},
     "output_type": "execute_result"
    }
   ],
   "source": [
    "from langchain_text_splitters import RecursiveCharacterTextSplitter\n",
    "\n",
    "python_splitter = RecursiveCharacterTextSplitter.from_language(\n",
    "    language=Language.PYTHON, chunk_size=2000, chunk_overlap=200\n",
    ")\n",
    "texts = python_splitter.split_documents(documents)\n",
    "len(texts)"
   ]
  },
  {
   "cell_type": "code",
   "execution_count": 16,
   "id": "6c5c3f09-d9fc-4c30-b4a0-4491ec2f9640",
   "metadata": {},
   "outputs": [
    {
     "name": "stderr",
     "output_type": "stream",
     "text": [
      "Processing batches:   0%|                                                                             | 0/3 [00:00<?, ?it/s]\n"
     ]
    },
    {
     "ename": "ValueError",
     "evalue": "Error raised by inference API HTTP code: 500, {\"error\":\"llama runner process has terminated: GGML_ASSERT(ctx-\\u003ekv[key_id].get_type() != GGUF_TYPE_STRING) failed\"}",
     "output_type": "error",
     "traceback": [
      "\u001b[31m---------------------------------------------------------------------------\u001b[39m",
      "\u001b[31mValueError\u001b[39m                                Traceback (most recent call last)",
      "\u001b[36mCell\u001b[39m\u001b[36m \u001b[39m\u001b[32mIn[16]\u001b[39m\u001b[32m, line 29\u001b[39m\n\u001b[32m     27\u001b[39m \u001b[38;5;66;03m# Process in batches\u001b[39;00m\n\u001b[32m     28\u001b[39m \u001b[38;5;28;01mfor\u001b[39;00m batch \u001b[38;5;129;01min\u001b[39;00m tqdm(batches, desc=\u001b[33m\"\u001b[39m\u001b[33mProcessing batches\u001b[39m\u001b[33m\"\u001b[39m):\n\u001b[32m---> \u001b[39m\u001b[32m29\u001b[39m     \u001b[43mdb\u001b[49m\u001b[43m.\u001b[49m\u001b[43madd_documents\u001b[49m\u001b[43m(\u001b[49m\u001b[43mbatch\u001b[49m\u001b[43m)\u001b[49m  \u001b[38;5;66;03m# Now using correctly formatted `Document` objects\u001b[39;00m\n\u001b[32m     31\u001b[39m \u001b[38;5;66;03m# Create retriever\u001b[39;00m\n\u001b[32m     32\u001b[39m retriever = db.as_retriever()\n",
      "\u001b[36mFile \u001b[39m\u001b[32m~/a-gis/venv/lib/python3.13/site-packages/langchain_core/vectorstores/base.py:287\u001b[39m, in \u001b[36mVectorStore.add_documents\u001b[39m\u001b[34m(self, documents, **kwargs)\u001b[39m\n\u001b[32m    285\u001b[39m     texts = [doc.page_content \u001b[38;5;28;01mfor\u001b[39;00m doc \u001b[38;5;129;01min\u001b[39;00m documents]\n\u001b[32m    286\u001b[39m     metadatas = [doc.metadata \u001b[38;5;28;01mfor\u001b[39;00m doc \u001b[38;5;129;01min\u001b[39;00m documents]\n\u001b[32m--> \u001b[39m\u001b[32m287\u001b[39m     \u001b[38;5;28;01mreturn\u001b[39;00m \u001b[38;5;28;43mself\u001b[39;49m\u001b[43m.\u001b[49m\u001b[43madd_texts\u001b[49m\u001b[43m(\u001b[49m\u001b[43mtexts\u001b[49m\u001b[43m,\u001b[49m\u001b[43m \u001b[49m\u001b[43mmetadatas\u001b[49m\u001b[43m,\u001b[49m\u001b[43m \u001b[49m\u001b[43m*\u001b[49m\u001b[43m*\u001b[49m\u001b[43mkwargs\u001b[49m\u001b[43m)\u001b[49m\n\u001b[32m    288\u001b[39m msg = (\n\u001b[32m    289\u001b[39m     \u001b[33mf\u001b[39m\u001b[33m\"\u001b[39m\u001b[33m`add_documents` and `add_texts` has not been implemented \u001b[39m\u001b[33m\"\u001b[39m\n\u001b[32m    290\u001b[39m     \u001b[33mf\u001b[39m\u001b[33m\"\u001b[39m\u001b[33mfor \u001b[39m\u001b[38;5;132;01m{\u001b[39;00m\u001b[38;5;28mself\u001b[39m.\u001b[34m__class__\u001b[39m.\u001b[34m__name__\u001b[39m\u001b[38;5;132;01m}\u001b[39;00m\u001b[33m \u001b[39m\u001b[33m\"\u001b[39m\n\u001b[32m    291\u001b[39m )\n\u001b[32m    292\u001b[39m \u001b[38;5;28;01mraise\u001b[39;00m \u001b[38;5;167;01mNotImplementedError\u001b[39;00m(msg)\n",
      "\u001b[36mFile \u001b[39m\u001b[32m~/a-gis/venv/lib/python3.13/site-packages/langchain_chroma/vectorstores.py:532\u001b[39m, in \u001b[36mChroma.add_texts\u001b[39m\u001b[34m(self, texts, metadatas, ids, **kwargs)\u001b[39m\n\u001b[32m    530\u001b[39m texts = \u001b[38;5;28mlist\u001b[39m(texts)\n\u001b[32m    531\u001b[39m \u001b[38;5;28;01mif\u001b[39;00m \u001b[38;5;28mself\u001b[39m._embedding_function \u001b[38;5;129;01mis\u001b[39;00m \u001b[38;5;129;01mnot\u001b[39;00m \u001b[38;5;28;01mNone\u001b[39;00m:\n\u001b[32m--> \u001b[39m\u001b[32m532\u001b[39m     embeddings = \u001b[38;5;28;43mself\u001b[39;49m\u001b[43m.\u001b[49m\u001b[43m_embedding_function\u001b[49m\u001b[43m.\u001b[49m\u001b[43membed_documents\u001b[49m\u001b[43m(\u001b[49m\u001b[43mtexts\u001b[49m\u001b[43m)\u001b[49m\n\u001b[32m    533\u001b[39m \u001b[38;5;28;01mif\u001b[39;00m metadatas:\n\u001b[32m    534\u001b[39m     \u001b[38;5;66;03m# fill metadatas with empty dicts if somebody\u001b[39;00m\n\u001b[32m    535\u001b[39m     \u001b[38;5;66;03m# did not specify metadata for all texts\u001b[39;00m\n\u001b[32m    536\u001b[39m     length_diff = \u001b[38;5;28mlen\u001b[39m(texts) - \u001b[38;5;28mlen\u001b[39m(metadatas)\n",
      "\u001b[36mFile \u001b[39m\u001b[32m~/a-gis/venv/lib/python3.13/site-packages/langchain_community/embeddings/ollama.py:214\u001b[39m, in \u001b[36mOllamaEmbeddings.embed_documents\u001b[39m\u001b[34m(self, texts)\u001b[39m\n\u001b[32m    205\u001b[39m \u001b[38;5;250m\u001b[39m\u001b[33;03m\"\"\"Embed documents using an Ollama deployed embedding model.\u001b[39;00m\n\u001b[32m    206\u001b[39m \n\u001b[32m    207\u001b[39m \u001b[33;03mArgs:\u001b[39;00m\n\u001b[32m   (...)\u001b[39m\u001b[32m    211\u001b[39m \u001b[33;03m    List of embeddings, one for each text.\u001b[39;00m\n\u001b[32m    212\u001b[39m \u001b[33;03m\"\"\"\u001b[39;00m\n\u001b[32m    213\u001b[39m instruction_pairs = [\u001b[33mf\u001b[39m\u001b[33m\"\u001b[39m\u001b[38;5;132;01m{\u001b[39;00m\u001b[38;5;28mself\u001b[39m.embed_instruction\u001b[38;5;132;01m}\u001b[39;00m\u001b[38;5;132;01m{\u001b[39;00mtext\u001b[38;5;132;01m}\u001b[39;00m\u001b[33m\"\u001b[39m \u001b[38;5;28;01mfor\u001b[39;00m text \u001b[38;5;129;01min\u001b[39;00m texts]\n\u001b[32m--> \u001b[39m\u001b[32m214\u001b[39m embeddings = \u001b[38;5;28;43mself\u001b[39;49m\u001b[43m.\u001b[49m\u001b[43m_embed\u001b[49m\u001b[43m(\u001b[49m\u001b[43minstruction_pairs\u001b[49m\u001b[43m)\u001b[49m\n\u001b[32m    215\u001b[39m \u001b[38;5;28;01mreturn\u001b[39;00m embeddings\n",
      "\u001b[36mFile \u001b[39m\u001b[32m~/a-gis/venv/lib/python3.13/site-packages/langchain_community/embeddings/ollama.py:202\u001b[39m, in \u001b[36mOllamaEmbeddings._embed\u001b[39m\u001b[34m(self, input)\u001b[39m\n\u001b[32m    200\u001b[39m \u001b[38;5;28;01melse\u001b[39;00m:\n\u001b[32m    201\u001b[39m     iter_ = \u001b[38;5;28minput\u001b[39m\n\u001b[32m--> \u001b[39m\u001b[32m202\u001b[39m \u001b[38;5;28;01mreturn\u001b[39;00m [\u001b[38;5;28;43mself\u001b[39;49m\u001b[43m.\u001b[49m\u001b[43m_process_emb_response\u001b[49m\u001b[43m(\u001b[49m\u001b[43mprompt\u001b[49m\u001b[43m)\u001b[49m \u001b[38;5;28;01mfor\u001b[39;00m prompt \u001b[38;5;129;01min\u001b[39;00m iter_]\n",
      "\u001b[36mFile \u001b[39m\u001b[32m~/a-gis/venv/lib/python3.13/site-packages/langchain_community/embeddings/ollama.py:176\u001b[39m, in \u001b[36mOllamaEmbeddings._process_emb_response\u001b[39m\u001b[34m(self, input)\u001b[39m\n\u001b[32m    173\u001b[39m     \u001b[38;5;28;01mraise\u001b[39;00m \u001b[38;5;167;01mValueError\u001b[39;00m(\u001b[33mf\u001b[39m\u001b[33m\"\u001b[39m\u001b[33mError raised by inference endpoint: \u001b[39m\u001b[38;5;132;01m{\u001b[39;00me\u001b[38;5;132;01m}\u001b[39;00m\u001b[33m\"\u001b[39m)\n\u001b[32m    175\u001b[39m \u001b[38;5;28;01mif\u001b[39;00m res.status_code != \u001b[32m200\u001b[39m:\n\u001b[32m--> \u001b[39m\u001b[32m176\u001b[39m     \u001b[38;5;28;01mraise\u001b[39;00m \u001b[38;5;167;01mValueError\u001b[39;00m(\n\u001b[32m    177\u001b[39m         \u001b[33m\"\u001b[39m\u001b[33mError raised by inference API HTTP code: \u001b[39m\u001b[38;5;132;01m%s\u001b[39;00m\u001b[33m, \u001b[39m\u001b[38;5;132;01m%s\u001b[39;00m\u001b[33m\"\u001b[39m\n\u001b[32m    178\u001b[39m         % (res.status_code, res.text)\n\u001b[32m    179\u001b[39m     )\n\u001b[32m    180\u001b[39m \u001b[38;5;28;01mtry\u001b[39;00m:\n\u001b[32m    181\u001b[39m     t = res.json()\n",
      "\u001b[31mValueError\u001b[39m: Error raised by inference API HTTP code: 500, {\"error\":\"llama runner process has terminated: GGML_ASSERT(ctx-\\u003ekv[key_id].get_type() != GGUF_TYPE_STRING) failed\"}"
     ]
    }
   ],
   "source": [
    "import os\n",
    "from tqdm import tqdm\n",
    "from langchain_community.embeddings import OllamaEmbeddings\n",
    "from langchain_chroma import Chroma  # Updated import\n",
    "from langchain_core.documents import Document  # Proper document format\n",
    "\n",
    "# Ensure persistence directory exists\n",
    "persist_directory = \"./chromadb\"\n",
    "os.makedirs(persist_directory, exist_ok=True)\n",
    "\n",
    "# Initialize embeddings\n",
    "embeddings = OllamaEmbeddings(model=\"snowflake-arctic-embed2:latest\")\n",
    "\n",
    "# Example list of text documents\n",
    "texts = [\"Document 1\", \"Document 2\", \"Document 3\"]  # Replace with actual text data\n",
    "\n",
    "# Convert texts to LangChain Document objects\n",
    "documents = [Document(page_content=text) for text in texts]\n",
    "\n",
    "# Ensure batch size is at least 1\n",
    "batch_size = max(1, len(documents) // 10)\n",
    "batches = [documents[i:i + batch_size] for i in range(0, len(documents), batch_size)]\n",
    "\n",
    "# Load or initialize ChromaDB\n",
    "db = Chroma(persist_directory=persist_directory, embedding_function=embeddings)\n",
    "\n",
    "# Process in batches\n",
    "for batch in tqdm(batches, desc=\"Processing batches\"):\n",
    "    db.add_documents(batch)  # Now using correctly formatted `Document` objects\n",
    "\n",
    "# Create retriever\n",
    "retriever = db.as_retriever()\n"
   ]
  },
  {
   "cell_type": "code",
   "execution_count": 191,
   "id": "4c6e4da9-d576-4e7d-a986-2b2fb5bf1db6",
   "metadata": {},
   "outputs": [],
   "source": [
    "import ollama\n",
    "def format_docs(docs):\n",
    "    return \"\\n\\n\".join(doc.page_content for doc in docs)\n",
    "\n",
    "def ollama_llm(question,context):\n",
    "    formatted_prompt = f\"Question: {question}\\n\\nContext: {context}\"\n",
    "    response = ollama.chat(model='mixtral',messages=[{'role': 'system', 'content': '''\n",
    "    You are a Python code cataloger expert in the contents of the A_GIS code database. \n",
    "    You respond with the top 5 fully-qualified names of the \n",
    "    A_GIS functions that fit the query.\n",
    "    '''},{'role': 'user', 'content': formatted_prompt}],\n",
    "                            options=ollama.Options(temperature=0.7,mirostat=2)\n",
    "                          )\n",
    "    return response['message']['content']\n",
    "\n",
    "def rag_chain(question):\n",
    "    retrieved_docs = retriever.invoke(question)\n",
    "    formatted_context = format_docs(retrieved_docs)\n",
    "    return ollama_llm(question,formatted_context)"
   ]
  },
  {
   "cell_type": "code",
   "execution_count": 192,
   "id": "ecd318c2-5771-4249-a70a-82c4b4892c25",
   "metadata": {},
   "outputs": [
    {
     "name": "stdout",
     "output_type": "stream",
     "text": [
      " Based on the provided context, here are the top 5 fully-qualified names of functions in the A\\_GIS code database that could be related to formatting code to A\\_GIS standards:\n",
      "\n",
      "1. A\\_GIS.Code.\\_distill\\_imports\n",
      "2. A\\_GIS.File.read\n",
      "3. A\\_GIS.Code.Tree.get\n",
      "4. A\\_GIS.Code.Tree.update\\_path\\_to\\_package\n",
      "5. A\\_GIS.Code.format (note: this function is not explicitly shown in the provided context, but it's mentioned in the documentation string of A\\_GIS.Code.\\_distill\\_imports, so I included it as a potential match)\n"
     ]
    }
   ],
   "source": [
    "x=rag_chain(\"An existing function to format code to A_GIS standards\")\n",
    "print(x)"
   ]
  },
  {
   "cell_type": "code",
   "execution_count": 202,
   "id": "ce67c6e8-d6e4-4c29-b4bc-2c635085e594",
   "metadata": {},
   "outputs": [
    {
     "name": "stdout",
     "output_type": "stream",
     "text": [
      "[Document(page_content='def from_samples(*, realizations):\\n    \"\"\"Calculate correlation coefficient from samples.\"\"\"\\n    import numpy\\n    import A_GIS.Math.CorrelationMatrix.init_from_numpy\\n\\n    matrix = numpy.corrcoef(realizations, rowvar=False)\\n    return A_GIS.Math.CorrelationMatrix.init_from_numpy(matrix=matrix)', metadata={'language': 'python', 'source': 'source/A_GIS/Math/CorrelationMatrix/from_samples/__init__.py'}), Document(page_content='import typing\\n\\ndef init(*, size: int = 1, values: typing.Optional[typing.List[float]] = []):\\n    \"\"\"\\n    Return a correlation matrix data class from the upper triangular values.\\n\\n    This function initializes a `_CorrMatrix` data class with a specified size and set of values.\\n    The values are expected to represent the upper triangular part of the matrix.\\n\\n    Args:\\n        size (int): The size of the correlation matrix. Defaults to 1.\\n        values (Optional[List[float]]): A list of float values to initialize the matrix. Must represent the upper triangular part of the matrix. If None, initializes with zeros.\\n\\n    Returns:\\n        _CorrMatrix: An instance of the `_CorrMatrix` data class.\\n\\n    Raises:\\n        ValueError: If the number of values provided does not match the expected count for the upper triangular part of the matrix.\\n\\n    Example:\\n        # Example of initializing a 3x3 correlation matrix\\n        matrix = new(size=3, values=[0.1, 0.2, 0.3])\\n\\n    \"\"\"\\n    import dataclasses\\n    import typing\\n\\n    @dataclasses.dataclass\\n    class _CorrMatrix:\\n        size: int\\n        values: typing.List[float]\\n\\n        def __post_init__(self):\\n            import numpy\\n            import A_GIS.Math.CorrelationMatrix.to_numpy\\n\\n            nv = len(self.values)\\n            nc = self.size * (self.size - 1) / 2\\n            if nv != nc:\\n                raise ValueError(\\n                    f\"Invalid number of values {nv} for the correlation coefficients for the matrix size={self.size}. Should be {nc}.\"\\n                )\\n\\n            corr = A_GIS.Math.CorrelationMatrix.to_numpy(upper_tri=self)\\n            eigenvalues = numpy.linalg.eigvals(corr)\\n            if numpy.any(eigenvalues < 0):\\n                raise ValueError(\\n                    f\"The matrix is not positive semidefinite eigenvalues={eigenvalues}.\"\\n                )\\n\\n        def __repr__(self):\\n            return f\"A_GIS.Math.CorrelationMatrix.init(size={size},values={values})\"\\n\\n    return _CorrMatrix(size, values)', metadata={'language': 'python', 'source': 'source/A_GIS/Math/CorrelationMatrix/init/__init__.py'}), Document(page_content='def guess_name(*, path: type[\"pathlib.Path\"]):\\n    \"\"\"Guesses a package name for a given path based on its parent directory structure.\\n\\n    The function attempts to find the root directory corresponding to the provided path,\\n    then calculates a package name by joining all parts of the relative path from the root\\'s\\n    parent directory down to the provided path. If the provided path is a file, it will be\\n    used as the base for the calculation and its parent directory will be used instead.\\n\\n    Args:\\n        path (pathlib.Path): The path to guess the package name from.\\n\\n    Raises:\\n        ValueError: If the root corresponding to the provided path could not be found.\\n\\n    Returns:\\n        str: A package name string created by joining parts of the relative path from the\\n             root\\'s parent directory down to the provided path, separated by dots.\\n    \"\"\"\\n\\n    import A_GIS.Code.find_root\\n    import pathlib\\n\\n    root = A_GIS.Code.find_root(path=path)\\n    if root is None:\\n        raise ValueError(\\n            f\"The root corresponding to path={path} could not be found!\"\\n        )\\n\\n    root = root.resolve().parent\\n    subdir = pathlib.Path(path).resolve().relative_to(root)\\n    if subdir.is_file():\\n        subdir = subdir.parent\\n    return \".\".join(subdir.parts)', metadata={'language': 'python', 'source': 'source/A_GIS/Code/guess_name/__init__.py'}), Document(page_content='def init(*, name=\"triangular\", **kwargs):\\n    \"\"\"\\n    Initialize a new distribution by name.\\n    \"\"\"\\n    import A_GIS.Math.Distribution.Triangular.init\\n\\n    if type == \"triangular\":\\n        return A_GIS.Math.Distribution.Triangular.init(**kwargs)\\n    else:\\n        raise ValueError(f\"{type} unknown\")', metadata={'language': 'python', 'source': 'source/A_GIS/Math/Distribution/init/__init__.py'})]\n"
     ]
    },
    {
     "ename": "AttributeError",
     "evalue": "'VectorStoreRetriever' object has no attribute 'document_store'",
     "output_type": "error",
     "traceback": [
      "\u001b[0;31m---------------------------------------------------------------------------\u001b[0m",
      "\u001b[0;31mAttributeError\u001b[0m                            Traceback (most recent call last)",
      "Cell \u001b[0;32mIn[202], line 11\u001b[0m\n\u001b[1;32m      8\u001b[0m     \u001b[38;5;66;03m# Correctly unpack search_results based on its actual structure\u001b[39;00m\n\u001b[1;32m      9\u001b[0m     \u001b[38;5;28;01mreturn\u001b[39;00m [(retriever\u001b[38;5;241m.\u001b[39mdocument_store\u001b[38;5;241m.\u001b[39mget_document(doc_id), score) \u001b[38;5;28;01mfor\u001b[39;00m doc_id, score, \u001b[38;5;241m*\u001b[39m_ \u001b[38;5;129;01min\u001b[39;00m search_results]\n\u001b[0;32m---> 11\u001b[0m retrieved_docs_with_scores \u001b[38;5;241m=\u001b[39m \u001b[43minvoke_with_scores\u001b[49m\u001b[43m(\u001b[49m\u001b[43mretriever\u001b[49m\u001b[43m,\u001b[49m\u001b[43m \u001b[49m\u001b[38;5;124;43m\"\u001b[39;49m\u001b[38;5;124;43mformat code\u001b[39;49m\u001b[38;5;124;43m\"\u001b[39;49m\u001b[43m)\u001b[49m\n\u001b[1;32m     12\u001b[0m \u001b[38;5;28;01mfor\u001b[39;00m doc, score \u001b[38;5;129;01min\u001b[39;00m retrieved_docs_with_scores:\n\u001b[1;32m     13\u001b[0m     \u001b[38;5;28mprint\u001b[39m(\u001b[38;5;124mf\u001b[39m\u001b[38;5;124m\"\u001b[39m\u001b[38;5;124mDocument: \u001b[39m\u001b[38;5;132;01m{\u001b[39;00mdoc\u001b[38;5;132;01m}\u001b[39;00m\u001b[38;5;124m, Similarity Score: \u001b[39m\u001b[38;5;132;01m{\u001b[39;00mscore\u001b[38;5;132;01m}\u001b[39;00m\u001b[38;5;124m\"\u001b[39m)\n",
      "Cell \u001b[0;32mIn[202], line 9\u001b[0m, in \u001b[0;36minvoke_with_scores\u001b[0;34m(retriever, query)\u001b[0m\n\u001b[1;32m      7\u001b[0m \u001b[38;5;28mprint\u001b[39m(search_results)  \u001b[38;5;66;03m# Temporarily print to debug\u001b[39;00m\n\u001b[1;32m      8\u001b[0m \u001b[38;5;66;03m# Correctly unpack search_results based on its actual structure\u001b[39;00m\n\u001b[0;32m----> 9\u001b[0m \u001b[38;5;28;01mreturn\u001b[39;00m \u001b[43m[\u001b[49m\u001b[43m(\u001b[49m\u001b[43mretriever\u001b[49m\u001b[38;5;241;43m.\u001b[39;49m\u001b[43mdocument_store\u001b[49m\u001b[38;5;241;43m.\u001b[39;49m\u001b[43mget_document\u001b[49m\u001b[43m(\u001b[49m\u001b[43mdoc_id\u001b[49m\u001b[43m)\u001b[49m\u001b[43m,\u001b[49m\u001b[43m \u001b[49m\u001b[43mscore\u001b[49m\u001b[43m)\u001b[49m\u001b[43m \u001b[49m\u001b[38;5;28;43;01mfor\u001b[39;49;00m\u001b[43m \u001b[49m\u001b[43mdoc_id\u001b[49m\u001b[43m,\u001b[49m\u001b[43m \u001b[49m\u001b[43mscore\u001b[49m\u001b[43m,\u001b[49m\u001b[43m \u001b[49m\u001b[38;5;241;43m*\u001b[39;49m\u001b[43m_\u001b[49m\u001b[43m \u001b[49m\u001b[38;5;129;43;01min\u001b[39;49;00m\u001b[43m \u001b[49m\u001b[43msearch_results\u001b[49m\u001b[43m]\u001b[49m\n",
      "Cell \u001b[0;32mIn[202], line 9\u001b[0m, in \u001b[0;36m<listcomp>\u001b[0;34m(.0)\u001b[0m\n\u001b[1;32m      7\u001b[0m \u001b[38;5;28mprint\u001b[39m(search_results)  \u001b[38;5;66;03m# Temporarily print to debug\u001b[39;00m\n\u001b[1;32m      8\u001b[0m \u001b[38;5;66;03m# Correctly unpack search_results based on its actual structure\u001b[39;00m\n\u001b[0;32m----> 9\u001b[0m \u001b[38;5;28;01mreturn\u001b[39;00m [(\u001b[43mretriever\u001b[49m\u001b[38;5;241;43m.\u001b[39;49m\u001b[43mdocument_store\u001b[49m\u001b[38;5;241m.\u001b[39mget_document(doc_id), score) \u001b[38;5;28;01mfor\u001b[39;00m doc_id, score, \u001b[38;5;241m*\u001b[39m_ \u001b[38;5;129;01min\u001b[39;00m search_results]\n",
      "\u001b[0;31mAttributeError\u001b[0m: 'VectorStoreRetriever' object has no attribute 'document_store'"
     ]
    }
   ],
   "source": [
    "def invoke_with_scores(retriever, query):\n",
    "    # Generate a query vector for your query\n",
    "    query_vector = retriever.vectorstore.embeddings.embed_query(query)\n",
    "    # Perform the search; this method and its parameters might differ\n",
    "    search_results = retriever.vectorstore.search(query_vector, search_type='similarity')\n",
    "    # Inspect search_results to understand its structure\n",
    "    print(search_results)  # Temporarily print to debug\n",
    "    # Correctly unpack search_results based on its actual structure\n",
    "    return [(retriever.document_store.get_document(doc_id), score) for doc_id, score, *_ in search_results]\n",
    "\n",
    "retrieved_docs_with_scores = invoke_with_scores(retriever, \"format code\")\n",
    "for doc, score in retrieved_docs_with_scores:\n",
    "    print(f\"Document: {doc}, Similarity Score: {score}\")\n"
   ]
  },
  {
   "cell_type": "code",
   "execution_count": null,
   "id": "b3b773df-6dc6-4ee0-9beb-4c6ce5984c19",
   "metadata": {},
   "outputs": [],
   "source": []
  },
  {
   "cell_type": "code",
   "execution_count": 206,
   "id": "0e42d0ad-184a-47ed-8ab7-95367fd9d42e",
   "metadata": {},
   "outputs": [],
   "source": [
    "def invoke_with_scores(retriever, query):\n",
    "    # Assuming this function correctly generates a query vector\n",
    "    query_vector = retriever.vectorstore.embeddings.embed_query(query)\n",
    "    # Perform the search; adjust parameters as needed\n",
    "    search_results = retriever.vectorstore.search(query_vector, search_type='similarity')\n",
    "    # Directly use search results if they include document content or references\n",
    "    return search_results  # Adjust this based on the actual format of search_results\n",
    "\n",
    "retrieved_docs = invoke_with_scores(retriever, \"format code\")"
   ]
  },
  {
   "cell_type": "code",
   "execution_count": 211,
   "id": "4430d006-0508-417e-b8d1-5b28d32e5835",
   "metadata": {},
   "outputs": [
    {
     "ename": "KeyboardInterrupt",
     "evalue": "",
     "output_type": "error",
     "traceback": [
      "\u001b[0;31m---------------------------------------------------------------------------\u001b[0m",
      "\u001b[0;31mKeyboardInterrupt\u001b[0m                         Traceback (most recent call last)",
      "Cell \u001b[0;32mIn[211], line 18\u001b[0m\n\u001b[1;32m     15\u001b[0m     \u001b[38;5;28;01mreturn\u001b[39;00m \u001b[38;5;28mlist\u001b[39m(\u001b[38;5;28mzip\u001b[39m(documents, scores))\n\u001b[1;32m     17\u001b[0m \u001b[38;5;66;03m# Assume 'retrieved_docs' is the list of documents returned by your retrieval function\u001b[39;00m\n\u001b[0;32m---> 18\u001b[0m retrieved_docs_with_scores \u001b[38;5;241m=\u001b[39m \u001b[43mcalculate_similarity_scores\u001b[49m\u001b[43m(\u001b[49m\u001b[43mretriever\u001b[49m\u001b[43m,\u001b[49m\u001b[43m \u001b[49m\u001b[38;5;124;43m\"\u001b[39;49m\u001b[38;5;124;43mformat code\u001b[39;49m\u001b[38;5;124;43m\"\u001b[39;49m\u001b[43m,\u001b[49m\u001b[43m \u001b[49m\u001b[43mretrieved_docs\u001b[49m\u001b[43m)\u001b[49m\n\u001b[1;32m     20\u001b[0m \u001b[38;5;28;01mfor\u001b[39;00m doc, score \u001b[38;5;129;01min\u001b[39;00m retrieved_docs_with_scores:\n\u001b[1;32m     21\u001b[0m     \u001b[38;5;28mprint\u001b[39m(\u001b[38;5;124mf\u001b[39m\u001b[38;5;124m\"\u001b[39m\u001b[38;5;124mDocument: \u001b[39m\u001b[38;5;132;01m{\u001b[39;00mdoc\u001b[38;5;241m.\u001b[39mpage_content[:\u001b[38;5;241m100\u001b[39m]\u001b[38;5;132;01m}\u001b[39;00m\u001b[38;5;124m... Similarity Score: \u001b[39m\u001b[38;5;132;01m{\u001b[39;00mscore\u001b[38;5;132;01m}\u001b[39;00m\u001b[38;5;124m\"\u001b[39m)\n",
      "Cell \u001b[0;32mIn[211], line 9\u001b[0m, in \u001b[0;36mcalculate_similarity_scores\u001b[0;34m(retriever, query, documents)\u001b[0m\n\u001b[1;32m      6\u001b[0m query_vector \u001b[38;5;241m=\u001b[39m np\u001b[38;5;241m.\u001b[39masarray(retriever\u001b[38;5;241m.\u001b[39mvectorstore\u001b[38;5;241m.\u001b[39membeddings\u001b[38;5;241m.\u001b[39membed_query(query))\u001b[38;5;241m.\u001b[39mreshape(\u001b[38;5;241m1\u001b[39m, \u001b[38;5;241m-\u001b[39m\u001b[38;5;241m1\u001b[39m)  \u001b[38;5;66;03m# Reshape for cosine_similarity\u001b[39;00m\n\u001b[1;32m      8\u001b[0m \u001b[38;5;66;03m# Embed each document\u001b[39;00m\n\u001b[0;32m----> 9\u001b[0m doc_vectors \u001b[38;5;241m=\u001b[39m np\u001b[38;5;241m.\u001b[39marray(\u001b[43m[\u001b[49m\u001b[43mretriever\u001b[49m\u001b[38;5;241;43m.\u001b[39;49m\u001b[43mvectorstore\u001b[49m\u001b[38;5;241;43m.\u001b[39;49m\u001b[43membeddings\u001b[49m\u001b[38;5;241;43m.\u001b[39;49m\u001b[43membed_documents\u001b[49m\u001b[43m(\u001b[49m\u001b[43mdoc\u001b[49m\u001b[38;5;241;43m.\u001b[39;49m\u001b[43mpage_content\u001b[49m\u001b[43m)\u001b[49m\u001b[43m \u001b[49m\u001b[38;5;28;43;01mfor\u001b[39;49;00m\u001b[43m \u001b[49m\u001b[43mdoc\u001b[49m\u001b[43m \u001b[49m\u001b[38;5;129;43;01min\u001b[39;49;00m\u001b[43m \u001b[49m\u001b[43mdocuments\u001b[49m\u001b[43m]\u001b[49m)\n\u001b[1;32m     11\u001b[0m \u001b[38;5;66;03m# Calculate cosine similarity\u001b[39;00m\n\u001b[1;32m     12\u001b[0m scores \u001b[38;5;241m=\u001b[39m cosine_similarity(query_vector, doc_vectors)\u001b[38;5;241m.\u001b[39mflatten()\n",
      "Cell \u001b[0;32mIn[211], line 9\u001b[0m, in \u001b[0;36m<listcomp>\u001b[0;34m(.0)\u001b[0m\n\u001b[1;32m      6\u001b[0m query_vector \u001b[38;5;241m=\u001b[39m np\u001b[38;5;241m.\u001b[39masarray(retriever\u001b[38;5;241m.\u001b[39mvectorstore\u001b[38;5;241m.\u001b[39membeddings\u001b[38;5;241m.\u001b[39membed_query(query))\u001b[38;5;241m.\u001b[39mreshape(\u001b[38;5;241m1\u001b[39m, \u001b[38;5;241m-\u001b[39m\u001b[38;5;241m1\u001b[39m)  \u001b[38;5;66;03m# Reshape for cosine_similarity\u001b[39;00m\n\u001b[1;32m      8\u001b[0m \u001b[38;5;66;03m# Embed each document\u001b[39;00m\n\u001b[0;32m----> 9\u001b[0m doc_vectors \u001b[38;5;241m=\u001b[39m np\u001b[38;5;241m.\u001b[39marray([\u001b[43mretriever\u001b[49m\u001b[38;5;241;43m.\u001b[39;49m\u001b[43mvectorstore\u001b[49m\u001b[38;5;241;43m.\u001b[39;49m\u001b[43membeddings\u001b[49m\u001b[38;5;241;43m.\u001b[39;49m\u001b[43membed_documents\u001b[49m\u001b[43m(\u001b[49m\u001b[43mdoc\u001b[49m\u001b[38;5;241;43m.\u001b[39;49m\u001b[43mpage_content\u001b[49m\u001b[43m)\u001b[49m \u001b[38;5;28;01mfor\u001b[39;00m doc \u001b[38;5;129;01min\u001b[39;00m documents])\n\u001b[1;32m     11\u001b[0m \u001b[38;5;66;03m# Calculate cosine similarity\u001b[39;00m\n\u001b[1;32m     12\u001b[0m scores \u001b[38;5;241m=\u001b[39m cosine_similarity(query_vector, doc_vectors)\u001b[38;5;241m.\u001b[39mflatten()\n",
      "File \u001b[0;32m~/a-gis/venv/lib/python3.11/site-packages/langchain_community/embeddings/ollama.py:204\u001b[0m, in \u001b[0;36mOllamaEmbeddings.embed_documents\u001b[0;34m(self, texts)\u001b[0m\n\u001b[1;32m    195\u001b[0m \u001b[38;5;250m\u001b[39m\u001b[38;5;124;03m\"\"\"Embed documents using an Ollama deployed embedding model.\u001b[39;00m\n\u001b[1;32m    196\u001b[0m \n\u001b[1;32m    197\u001b[0m \u001b[38;5;124;03mArgs:\u001b[39;00m\n\u001b[0;32m   (...)\u001b[0m\n\u001b[1;32m    201\u001b[0m \u001b[38;5;124;03m    List of embeddings, one for each text.\u001b[39;00m\n\u001b[1;32m    202\u001b[0m \u001b[38;5;124;03m\"\"\"\u001b[39;00m\n\u001b[1;32m    203\u001b[0m instruction_pairs \u001b[38;5;241m=\u001b[39m [\u001b[38;5;124mf\u001b[39m\u001b[38;5;124m\"\u001b[39m\u001b[38;5;132;01m{\u001b[39;00m\u001b[38;5;28mself\u001b[39m\u001b[38;5;241m.\u001b[39membed_instruction\u001b[38;5;132;01m}\u001b[39;00m\u001b[38;5;132;01m{\u001b[39;00mtext\u001b[38;5;132;01m}\u001b[39;00m\u001b[38;5;124m\"\u001b[39m \u001b[38;5;28;01mfor\u001b[39;00m text \u001b[38;5;129;01min\u001b[39;00m texts]\n\u001b[0;32m--> 204\u001b[0m embeddings \u001b[38;5;241m=\u001b[39m \u001b[38;5;28;43mself\u001b[39;49m\u001b[38;5;241;43m.\u001b[39;49m\u001b[43m_embed\u001b[49m\u001b[43m(\u001b[49m\u001b[43minstruction_pairs\u001b[49m\u001b[43m)\u001b[49m\n\u001b[1;32m    205\u001b[0m \u001b[38;5;28;01mreturn\u001b[39;00m embeddings\n",
      "File \u001b[0;32m~/a-gis/venv/lib/python3.11/site-packages/langchain_community/embeddings/ollama.py:192\u001b[0m, in \u001b[0;36mOllamaEmbeddings._embed\u001b[0;34m(self, input)\u001b[0m\n\u001b[1;32m    190\u001b[0m \u001b[38;5;28;01melse\u001b[39;00m:\n\u001b[1;32m    191\u001b[0m     iter_ \u001b[38;5;241m=\u001b[39m \u001b[38;5;28minput\u001b[39m\n\u001b[0;32m--> 192\u001b[0m \u001b[38;5;28;01mreturn\u001b[39;00m \u001b[43m[\u001b[49m\u001b[38;5;28;43mself\u001b[39;49m\u001b[38;5;241;43m.\u001b[39;49m\u001b[43m_process_emb_response\u001b[49m\u001b[43m(\u001b[49m\u001b[43mprompt\u001b[49m\u001b[43m)\u001b[49m\u001b[43m \u001b[49m\u001b[38;5;28;43;01mfor\u001b[39;49;00m\u001b[43m \u001b[49m\u001b[43mprompt\u001b[49m\u001b[43m \u001b[49m\u001b[38;5;129;43;01min\u001b[39;49;00m\u001b[43m \u001b[49m\u001b[43miter_\u001b[49m\u001b[43m]\u001b[49m\n",
      "File \u001b[0;32m~/a-gis/venv/lib/python3.11/site-packages/langchain_community/embeddings/ollama.py:192\u001b[0m, in \u001b[0;36m<listcomp>\u001b[0;34m(.0)\u001b[0m\n\u001b[1;32m    190\u001b[0m \u001b[38;5;28;01melse\u001b[39;00m:\n\u001b[1;32m    191\u001b[0m     iter_ \u001b[38;5;241m=\u001b[39m \u001b[38;5;28minput\u001b[39m\n\u001b[0;32m--> 192\u001b[0m \u001b[38;5;28;01mreturn\u001b[39;00m [\u001b[38;5;28;43mself\u001b[39;49m\u001b[38;5;241;43m.\u001b[39;49m\u001b[43m_process_emb_response\u001b[49m\u001b[43m(\u001b[49m\u001b[43mprompt\u001b[49m\u001b[43m)\u001b[49m \u001b[38;5;28;01mfor\u001b[39;00m prompt \u001b[38;5;129;01min\u001b[39;00m iter_]\n",
      "File \u001b[0;32m~/a-gis/venv/lib/python3.11/site-packages/langchain_community/embeddings/ollama.py:157\u001b[0m, in \u001b[0;36mOllamaEmbeddings._process_emb_response\u001b[0;34m(self, input)\u001b[0m\n\u001b[1;32m    152\u001b[0m headers \u001b[38;5;241m=\u001b[39m {\n\u001b[1;32m    153\u001b[0m     \u001b[38;5;124m\"\u001b[39m\u001b[38;5;124mContent-Type\u001b[39m\u001b[38;5;124m\"\u001b[39m: \u001b[38;5;124m\"\u001b[39m\u001b[38;5;124mapplication/json\u001b[39m\u001b[38;5;124m\"\u001b[39m,\n\u001b[1;32m    154\u001b[0m }\n\u001b[1;32m    156\u001b[0m \u001b[38;5;28;01mtry\u001b[39;00m:\n\u001b[0;32m--> 157\u001b[0m     res \u001b[38;5;241m=\u001b[39m \u001b[43mrequests\u001b[49m\u001b[38;5;241;43m.\u001b[39;49m\u001b[43mpost\u001b[49m\u001b[43m(\u001b[49m\n\u001b[1;32m    158\u001b[0m \u001b[43m        \u001b[49m\u001b[38;5;124;43mf\u001b[39;49m\u001b[38;5;124;43m\"\u001b[39;49m\u001b[38;5;132;43;01m{\u001b[39;49;00m\u001b[38;5;28;43mself\u001b[39;49m\u001b[38;5;241;43m.\u001b[39;49m\u001b[43mbase_url\u001b[49m\u001b[38;5;132;43;01m}\u001b[39;49;00m\u001b[38;5;124;43m/api/embeddings\u001b[39;49m\u001b[38;5;124;43m\"\u001b[39;49m\u001b[43m,\u001b[49m\n\u001b[1;32m    159\u001b[0m \u001b[43m        \u001b[49m\u001b[43mheaders\u001b[49m\u001b[38;5;241;43m=\u001b[39;49m\u001b[43mheaders\u001b[49m\u001b[43m,\u001b[49m\n\u001b[1;32m    160\u001b[0m \u001b[43m        \u001b[49m\u001b[43mjson\u001b[49m\u001b[38;5;241;43m=\u001b[39;49m\u001b[43m{\u001b[49m\u001b[38;5;124;43m\"\u001b[39;49m\u001b[38;5;124;43mmodel\u001b[39;49m\u001b[38;5;124;43m\"\u001b[39;49m\u001b[43m:\u001b[49m\u001b[43m \u001b[49m\u001b[38;5;28;43mself\u001b[39;49m\u001b[38;5;241;43m.\u001b[39;49m\u001b[43mmodel\u001b[49m\u001b[43m,\u001b[49m\u001b[43m \u001b[49m\u001b[38;5;124;43m\"\u001b[39;49m\u001b[38;5;124;43mprompt\u001b[39;49m\u001b[38;5;124;43m\"\u001b[39;49m\u001b[43m:\u001b[49m\u001b[43m \u001b[49m\u001b[38;5;28;43minput\u001b[39;49m\u001b[43m,\u001b[49m\u001b[43m \u001b[49m\u001b[38;5;241;43m*\u001b[39;49m\u001b[38;5;241;43m*\u001b[39;49m\u001b[38;5;28;43mself\u001b[39;49m\u001b[38;5;241;43m.\u001b[39;49m\u001b[43m_default_params\u001b[49m\u001b[43m}\u001b[49m\u001b[43m,\u001b[49m\n\u001b[1;32m    161\u001b[0m \u001b[43m    \u001b[49m\u001b[43m)\u001b[49m\n\u001b[1;32m    162\u001b[0m \u001b[38;5;28;01mexcept\u001b[39;00m requests\u001b[38;5;241m.\u001b[39mexceptions\u001b[38;5;241m.\u001b[39mRequestException \u001b[38;5;28;01mas\u001b[39;00m e:\n\u001b[1;32m    163\u001b[0m     \u001b[38;5;28;01mraise\u001b[39;00m \u001b[38;5;167;01mValueError\u001b[39;00m(\u001b[38;5;124mf\u001b[39m\u001b[38;5;124m\"\u001b[39m\u001b[38;5;124mError raised by inference endpoint: \u001b[39m\u001b[38;5;132;01m{\u001b[39;00me\u001b[38;5;132;01m}\u001b[39;00m\u001b[38;5;124m\"\u001b[39m)\n",
      "File \u001b[0;32m~/a-gis/venv/lib/python3.11/site-packages/requests/api.py:115\u001b[0m, in \u001b[0;36mpost\u001b[0;34m(url, data, json, **kwargs)\u001b[0m\n\u001b[1;32m    103\u001b[0m \u001b[38;5;28;01mdef\u001b[39;00m \u001b[38;5;21mpost\u001b[39m(url, data\u001b[38;5;241m=\u001b[39m\u001b[38;5;28;01mNone\u001b[39;00m, json\u001b[38;5;241m=\u001b[39m\u001b[38;5;28;01mNone\u001b[39;00m, \u001b[38;5;241m*\u001b[39m\u001b[38;5;241m*\u001b[39mkwargs):\n\u001b[1;32m    104\u001b[0m \u001b[38;5;250m    \u001b[39m\u001b[38;5;124mr\u001b[39m\u001b[38;5;124;03m\"\"\"Sends a POST request.\u001b[39;00m\n\u001b[1;32m    105\u001b[0m \n\u001b[1;32m    106\u001b[0m \u001b[38;5;124;03m    :param url: URL for the new :class:`Request` object.\u001b[39;00m\n\u001b[0;32m   (...)\u001b[0m\n\u001b[1;32m    112\u001b[0m \u001b[38;5;124;03m    :rtype: requests.Response\u001b[39;00m\n\u001b[1;32m    113\u001b[0m \u001b[38;5;124;03m    \"\"\"\u001b[39;00m\n\u001b[0;32m--> 115\u001b[0m     \u001b[38;5;28;01mreturn\u001b[39;00m \u001b[43mrequest\u001b[49m\u001b[43m(\u001b[49m\u001b[38;5;124;43m\"\u001b[39;49m\u001b[38;5;124;43mpost\u001b[39;49m\u001b[38;5;124;43m\"\u001b[39;49m\u001b[43m,\u001b[49m\u001b[43m \u001b[49m\u001b[43murl\u001b[49m\u001b[43m,\u001b[49m\u001b[43m \u001b[49m\u001b[43mdata\u001b[49m\u001b[38;5;241;43m=\u001b[39;49m\u001b[43mdata\u001b[49m\u001b[43m,\u001b[49m\u001b[43m \u001b[49m\u001b[43mjson\u001b[49m\u001b[38;5;241;43m=\u001b[39;49m\u001b[43mjson\u001b[49m\u001b[43m,\u001b[49m\u001b[43m \u001b[49m\u001b[38;5;241;43m*\u001b[39;49m\u001b[38;5;241;43m*\u001b[39;49m\u001b[43mkwargs\u001b[49m\u001b[43m)\u001b[49m\n",
      "File \u001b[0;32m~/a-gis/venv/lib/python3.11/site-packages/requests/api.py:59\u001b[0m, in \u001b[0;36mrequest\u001b[0;34m(method, url, **kwargs)\u001b[0m\n\u001b[1;32m     55\u001b[0m \u001b[38;5;66;03m# By using the 'with' statement we are sure the session is closed, thus we\u001b[39;00m\n\u001b[1;32m     56\u001b[0m \u001b[38;5;66;03m# avoid leaving sockets open which can trigger a ResourceWarning in some\u001b[39;00m\n\u001b[1;32m     57\u001b[0m \u001b[38;5;66;03m# cases, and look like a memory leak in others.\u001b[39;00m\n\u001b[1;32m     58\u001b[0m \u001b[38;5;28;01mwith\u001b[39;00m sessions\u001b[38;5;241m.\u001b[39mSession() \u001b[38;5;28;01mas\u001b[39;00m session:\n\u001b[0;32m---> 59\u001b[0m     \u001b[38;5;28;01mreturn\u001b[39;00m \u001b[43msession\u001b[49m\u001b[38;5;241;43m.\u001b[39;49m\u001b[43mrequest\u001b[49m\u001b[43m(\u001b[49m\u001b[43mmethod\u001b[49m\u001b[38;5;241;43m=\u001b[39;49m\u001b[43mmethod\u001b[49m\u001b[43m,\u001b[49m\u001b[43m \u001b[49m\u001b[43murl\u001b[49m\u001b[38;5;241;43m=\u001b[39;49m\u001b[43murl\u001b[49m\u001b[43m,\u001b[49m\u001b[43m \u001b[49m\u001b[38;5;241;43m*\u001b[39;49m\u001b[38;5;241;43m*\u001b[39;49m\u001b[43mkwargs\u001b[49m\u001b[43m)\u001b[49m\n",
      "File \u001b[0;32m~/a-gis/venv/lib/python3.11/site-packages/requests/sessions.py:589\u001b[0m, in \u001b[0;36mSession.request\u001b[0;34m(self, method, url, params, data, headers, cookies, files, auth, timeout, allow_redirects, proxies, hooks, stream, verify, cert, json)\u001b[0m\n\u001b[1;32m    584\u001b[0m send_kwargs \u001b[38;5;241m=\u001b[39m {\n\u001b[1;32m    585\u001b[0m     \u001b[38;5;124m\"\u001b[39m\u001b[38;5;124mtimeout\u001b[39m\u001b[38;5;124m\"\u001b[39m: timeout,\n\u001b[1;32m    586\u001b[0m     \u001b[38;5;124m\"\u001b[39m\u001b[38;5;124mallow_redirects\u001b[39m\u001b[38;5;124m\"\u001b[39m: allow_redirects,\n\u001b[1;32m    587\u001b[0m }\n\u001b[1;32m    588\u001b[0m send_kwargs\u001b[38;5;241m.\u001b[39mupdate(settings)\n\u001b[0;32m--> 589\u001b[0m resp \u001b[38;5;241m=\u001b[39m \u001b[38;5;28;43mself\u001b[39;49m\u001b[38;5;241;43m.\u001b[39;49m\u001b[43msend\u001b[49m\u001b[43m(\u001b[49m\u001b[43mprep\u001b[49m\u001b[43m,\u001b[49m\u001b[43m \u001b[49m\u001b[38;5;241;43m*\u001b[39;49m\u001b[38;5;241;43m*\u001b[39;49m\u001b[43msend_kwargs\u001b[49m\u001b[43m)\u001b[49m\n\u001b[1;32m    591\u001b[0m \u001b[38;5;28;01mreturn\u001b[39;00m resp\n",
      "File \u001b[0;32m~/a-gis/venv/lib/python3.11/site-packages/requests/sessions.py:703\u001b[0m, in \u001b[0;36mSession.send\u001b[0;34m(self, request, **kwargs)\u001b[0m\n\u001b[1;32m    700\u001b[0m start \u001b[38;5;241m=\u001b[39m preferred_clock()\n\u001b[1;32m    702\u001b[0m \u001b[38;5;66;03m# Send the request\u001b[39;00m\n\u001b[0;32m--> 703\u001b[0m r \u001b[38;5;241m=\u001b[39m \u001b[43madapter\u001b[49m\u001b[38;5;241;43m.\u001b[39;49m\u001b[43msend\u001b[49m\u001b[43m(\u001b[49m\u001b[43mrequest\u001b[49m\u001b[43m,\u001b[49m\u001b[43m \u001b[49m\u001b[38;5;241;43m*\u001b[39;49m\u001b[38;5;241;43m*\u001b[39;49m\u001b[43mkwargs\u001b[49m\u001b[43m)\u001b[49m\n\u001b[1;32m    705\u001b[0m \u001b[38;5;66;03m# Total elapsed time of the request (approximately)\u001b[39;00m\n\u001b[1;32m    706\u001b[0m elapsed \u001b[38;5;241m=\u001b[39m preferred_clock() \u001b[38;5;241m-\u001b[39m start\n",
      "File \u001b[0;32m~/a-gis/venv/lib/python3.11/site-packages/requests/adapters.py:486\u001b[0m, in \u001b[0;36mHTTPAdapter.send\u001b[0;34m(self, request, stream, timeout, verify, cert, proxies)\u001b[0m\n\u001b[1;32m    483\u001b[0m     timeout \u001b[38;5;241m=\u001b[39m TimeoutSauce(connect\u001b[38;5;241m=\u001b[39mtimeout, read\u001b[38;5;241m=\u001b[39mtimeout)\n\u001b[1;32m    485\u001b[0m \u001b[38;5;28;01mtry\u001b[39;00m:\n\u001b[0;32m--> 486\u001b[0m     resp \u001b[38;5;241m=\u001b[39m \u001b[43mconn\u001b[49m\u001b[38;5;241;43m.\u001b[39;49m\u001b[43murlopen\u001b[49m\u001b[43m(\u001b[49m\n\u001b[1;32m    487\u001b[0m \u001b[43m        \u001b[49m\u001b[43mmethod\u001b[49m\u001b[38;5;241;43m=\u001b[39;49m\u001b[43mrequest\u001b[49m\u001b[38;5;241;43m.\u001b[39;49m\u001b[43mmethod\u001b[49m\u001b[43m,\u001b[49m\n\u001b[1;32m    488\u001b[0m \u001b[43m        \u001b[49m\u001b[43murl\u001b[49m\u001b[38;5;241;43m=\u001b[39;49m\u001b[43murl\u001b[49m\u001b[43m,\u001b[49m\n\u001b[1;32m    489\u001b[0m \u001b[43m        \u001b[49m\u001b[43mbody\u001b[49m\u001b[38;5;241;43m=\u001b[39;49m\u001b[43mrequest\u001b[49m\u001b[38;5;241;43m.\u001b[39;49m\u001b[43mbody\u001b[49m\u001b[43m,\u001b[49m\n\u001b[1;32m    490\u001b[0m \u001b[43m        \u001b[49m\u001b[43mheaders\u001b[49m\u001b[38;5;241;43m=\u001b[39;49m\u001b[43mrequest\u001b[49m\u001b[38;5;241;43m.\u001b[39;49m\u001b[43mheaders\u001b[49m\u001b[43m,\u001b[49m\n\u001b[1;32m    491\u001b[0m \u001b[43m        \u001b[49m\u001b[43mredirect\u001b[49m\u001b[38;5;241;43m=\u001b[39;49m\u001b[38;5;28;43;01mFalse\u001b[39;49;00m\u001b[43m,\u001b[49m\n\u001b[1;32m    492\u001b[0m \u001b[43m        \u001b[49m\u001b[43massert_same_host\u001b[49m\u001b[38;5;241;43m=\u001b[39;49m\u001b[38;5;28;43;01mFalse\u001b[39;49;00m\u001b[43m,\u001b[49m\n\u001b[1;32m    493\u001b[0m \u001b[43m        \u001b[49m\u001b[43mpreload_content\u001b[49m\u001b[38;5;241;43m=\u001b[39;49m\u001b[38;5;28;43;01mFalse\u001b[39;49;00m\u001b[43m,\u001b[49m\n\u001b[1;32m    494\u001b[0m \u001b[43m        \u001b[49m\u001b[43mdecode_content\u001b[49m\u001b[38;5;241;43m=\u001b[39;49m\u001b[38;5;28;43;01mFalse\u001b[39;49;00m\u001b[43m,\u001b[49m\n\u001b[1;32m    495\u001b[0m \u001b[43m        \u001b[49m\u001b[43mretries\u001b[49m\u001b[38;5;241;43m=\u001b[39;49m\u001b[38;5;28;43mself\u001b[39;49m\u001b[38;5;241;43m.\u001b[39;49m\u001b[43mmax_retries\u001b[49m\u001b[43m,\u001b[49m\n\u001b[1;32m    496\u001b[0m \u001b[43m        \u001b[49m\u001b[43mtimeout\u001b[49m\u001b[38;5;241;43m=\u001b[39;49m\u001b[43mtimeout\u001b[49m\u001b[43m,\u001b[49m\n\u001b[1;32m    497\u001b[0m \u001b[43m        \u001b[49m\u001b[43mchunked\u001b[49m\u001b[38;5;241;43m=\u001b[39;49m\u001b[43mchunked\u001b[49m\u001b[43m,\u001b[49m\n\u001b[1;32m    498\u001b[0m \u001b[43m    \u001b[49m\u001b[43m)\u001b[49m\n\u001b[1;32m    500\u001b[0m \u001b[38;5;28;01mexcept\u001b[39;00m (ProtocolError, \u001b[38;5;167;01mOSError\u001b[39;00m) \u001b[38;5;28;01mas\u001b[39;00m err:\n\u001b[1;32m    501\u001b[0m     \u001b[38;5;28;01mraise\u001b[39;00m \u001b[38;5;167;01mConnectionError\u001b[39;00m(err, request\u001b[38;5;241m=\u001b[39mrequest)\n",
      "File \u001b[0;32m~/a-gis/venv/lib/python3.11/site-packages/urllib3/connectionpool.py:793\u001b[0m, in \u001b[0;36mHTTPConnectionPool.urlopen\u001b[0;34m(self, method, url, body, headers, retries, redirect, assert_same_host, timeout, pool_timeout, release_conn, chunked, body_pos, preload_content, decode_content, **response_kw)\u001b[0m\n\u001b[1;32m    790\u001b[0m response_conn \u001b[38;5;241m=\u001b[39m conn \u001b[38;5;28;01mif\u001b[39;00m \u001b[38;5;129;01mnot\u001b[39;00m release_conn \u001b[38;5;28;01melse\u001b[39;00m \u001b[38;5;28;01mNone\u001b[39;00m\n\u001b[1;32m    792\u001b[0m \u001b[38;5;66;03m# Make the request on the HTTPConnection object\u001b[39;00m\n\u001b[0;32m--> 793\u001b[0m response \u001b[38;5;241m=\u001b[39m \u001b[38;5;28;43mself\u001b[39;49m\u001b[38;5;241;43m.\u001b[39;49m\u001b[43m_make_request\u001b[49m\u001b[43m(\u001b[49m\n\u001b[1;32m    794\u001b[0m \u001b[43m    \u001b[49m\u001b[43mconn\u001b[49m\u001b[43m,\u001b[49m\n\u001b[1;32m    795\u001b[0m \u001b[43m    \u001b[49m\u001b[43mmethod\u001b[49m\u001b[43m,\u001b[49m\n\u001b[1;32m    796\u001b[0m \u001b[43m    \u001b[49m\u001b[43murl\u001b[49m\u001b[43m,\u001b[49m\n\u001b[1;32m    797\u001b[0m \u001b[43m    \u001b[49m\u001b[43mtimeout\u001b[49m\u001b[38;5;241;43m=\u001b[39;49m\u001b[43mtimeout_obj\u001b[49m\u001b[43m,\u001b[49m\n\u001b[1;32m    798\u001b[0m \u001b[43m    \u001b[49m\u001b[43mbody\u001b[49m\u001b[38;5;241;43m=\u001b[39;49m\u001b[43mbody\u001b[49m\u001b[43m,\u001b[49m\n\u001b[1;32m    799\u001b[0m \u001b[43m    \u001b[49m\u001b[43mheaders\u001b[49m\u001b[38;5;241;43m=\u001b[39;49m\u001b[43mheaders\u001b[49m\u001b[43m,\u001b[49m\n\u001b[1;32m    800\u001b[0m \u001b[43m    \u001b[49m\u001b[43mchunked\u001b[49m\u001b[38;5;241;43m=\u001b[39;49m\u001b[43mchunked\u001b[49m\u001b[43m,\u001b[49m\n\u001b[1;32m    801\u001b[0m \u001b[43m    \u001b[49m\u001b[43mretries\u001b[49m\u001b[38;5;241;43m=\u001b[39;49m\u001b[43mretries\u001b[49m\u001b[43m,\u001b[49m\n\u001b[1;32m    802\u001b[0m \u001b[43m    \u001b[49m\u001b[43mresponse_conn\u001b[49m\u001b[38;5;241;43m=\u001b[39;49m\u001b[43mresponse_conn\u001b[49m\u001b[43m,\u001b[49m\n\u001b[1;32m    803\u001b[0m \u001b[43m    \u001b[49m\u001b[43mpreload_content\u001b[49m\u001b[38;5;241;43m=\u001b[39;49m\u001b[43mpreload_content\u001b[49m\u001b[43m,\u001b[49m\n\u001b[1;32m    804\u001b[0m \u001b[43m    \u001b[49m\u001b[43mdecode_content\u001b[49m\u001b[38;5;241;43m=\u001b[39;49m\u001b[43mdecode_content\u001b[49m\u001b[43m,\u001b[49m\n\u001b[1;32m    805\u001b[0m \u001b[43m    \u001b[49m\u001b[38;5;241;43m*\u001b[39;49m\u001b[38;5;241;43m*\u001b[39;49m\u001b[43mresponse_kw\u001b[49m\u001b[43m,\u001b[49m\n\u001b[1;32m    806\u001b[0m \u001b[43m\u001b[49m\u001b[43m)\u001b[49m\n\u001b[1;32m    808\u001b[0m \u001b[38;5;66;03m# Everything went great!\u001b[39;00m\n\u001b[1;32m    809\u001b[0m clean_exit \u001b[38;5;241m=\u001b[39m \u001b[38;5;28;01mTrue\u001b[39;00m\n",
      "File \u001b[0;32m~/a-gis/venv/lib/python3.11/site-packages/urllib3/connectionpool.py:537\u001b[0m, in \u001b[0;36mHTTPConnectionPool._make_request\u001b[0;34m(self, conn, method, url, body, headers, retries, timeout, chunked, response_conn, preload_content, decode_content, enforce_content_length)\u001b[0m\n\u001b[1;32m    535\u001b[0m \u001b[38;5;66;03m# Receive the response from the server\u001b[39;00m\n\u001b[1;32m    536\u001b[0m \u001b[38;5;28;01mtry\u001b[39;00m:\n\u001b[0;32m--> 537\u001b[0m     response \u001b[38;5;241m=\u001b[39m \u001b[43mconn\u001b[49m\u001b[38;5;241;43m.\u001b[39;49m\u001b[43mgetresponse\u001b[49m\u001b[43m(\u001b[49m\u001b[43m)\u001b[49m\n\u001b[1;32m    538\u001b[0m \u001b[38;5;28;01mexcept\u001b[39;00m (BaseSSLError, \u001b[38;5;167;01mOSError\u001b[39;00m) \u001b[38;5;28;01mas\u001b[39;00m e:\n\u001b[1;32m    539\u001b[0m     \u001b[38;5;28mself\u001b[39m\u001b[38;5;241m.\u001b[39m_raise_timeout(err\u001b[38;5;241m=\u001b[39me, url\u001b[38;5;241m=\u001b[39murl, timeout_value\u001b[38;5;241m=\u001b[39mread_timeout)\n",
      "File \u001b[0;32m~/a-gis/venv/lib/python3.11/site-packages/urllib3/connection.py:466\u001b[0m, in \u001b[0;36mHTTPConnection.getresponse\u001b[0;34m(self)\u001b[0m\n\u001b[1;32m    463\u001b[0m \u001b[38;5;28;01mfrom\u001b[39;00m \u001b[38;5;21;01m.\u001b[39;00m\u001b[38;5;21;01mresponse\u001b[39;00m \u001b[38;5;28;01mimport\u001b[39;00m HTTPResponse\n\u001b[1;32m    465\u001b[0m \u001b[38;5;66;03m# Get the response from http.client.HTTPConnection\u001b[39;00m\n\u001b[0;32m--> 466\u001b[0m httplib_response \u001b[38;5;241m=\u001b[39m \u001b[38;5;28;43msuper\u001b[39;49m\u001b[43m(\u001b[49m\u001b[43m)\u001b[49m\u001b[38;5;241;43m.\u001b[39;49m\u001b[43mgetresponse\u001b[49m\u001b[43m(\u001b[49m\u001b[43m)\u001b[49m\n\u001b[1;32m    468\u001b[0m \u001b[38;5;28;01mtry\u001b[39;00m:\n\u001b[1;32m    469\u001b[0m     assert_header_parsing(httplib_response\u001b[38;5;241m.\u001b[39mmsg)\n",
      "File \u001b[0;32m/opt/homebrew/Caskroom/miniconda/base/lib/python3.11/http/client.py:1378\u001b[0m, in \u001b[0;36mHTTPConnection.getresponse\u001b[0;34m(self)\u001b[0m\n\u001b[1;32m   1376\u001b[0m \u001b[38;5;28;01mtry\u001b[39;00m:\n\u001b[1;32m   1377\u001b[0m     \u001b[38;5;28;01mtry\u001b[39;00m:\n\u001b[0;32m-> 1378\u001b[0m         \u001b[43mresponse\u001b[49m\u001b[38;5;241;43m.\u001b[39;49m\u001b[43mbegin\u001b[49m\u001b[43m(\u001b[49m\u001b[43m)\u001b[49m\n\u001b[1;32m   1379\u001b[0m     \u001b[38;5;28;01mexcept\u001b[39;00m \u001b[38;5;167;01mConnectionError\u001b[39;00m:\n\u001b[1;32m   1380\u001b[0m         \u001b[38;5;28mself\u001b[39m\u001b[38;5;241m.\u001b[39mclose()\n",
      "File \u001b[0;32m/opt/homebrew/Caskroom/miniconda/base/lib/python3.11/http/client.py:318\u001b[0m, in \u001b[0;36mHTTPResponse.begin\u001b[0;34m(self)\u001b[0m\n\u001b[1;32m    316\u001b[0m \u001b[38;5;66;03m# read until we get a non-100 response\u001b[39;00m\n\u001b[1;32m    317\u001b[0m \u001b[38;5;28;01mwhile\u001b[39;00m \u001b[38;5;28;01mTrue\u001b[39;00m:\n\u001b[0;32m--> 318\u001b[0m     version, status, reason \u001b[38;5;241m=\u001b[39m \u001b[38;5;28;43mself\u001b[39;49m\u001b[38;5;241;43m.\u001b[39;49m\u001b[43m_read_status\u001b[49m\u001b[43m(\u001b[49m\u001b[43m)\u001b[49m\n\u001b[1;32m    319\u001b[0m     \u001b[38;5;28;01mif\u001b[39;00m status \u001b[38;5;241m!=\u001b[39m CONTINUE:\n\u001b[1;32m    320\u001b[0m         \u001b[38;5;28;01mbreak\u001b[39;00m\n",
      "File \u001b[0;32m/opt/homebrew/Caskroom/miniconda/base/lib/python3.11/http/client.py:279\u001b[0m, in \u001b[0;36mHTTPResponse._read_status\u001b[0;34m(self)\u001b[0m\n\u001b[1;32m    278\u001b[0m \u001b[38;5;28;01mdef\u001b[39;00m \u001b[38;5;21m_read_status\u001b[39m(\u001b[38;5;28mself\u001b[39m):\n\u001b[0;32m--> 279\u001b[0m     line \u001b[38;5;241m=\u001b[39m \u001b[38;5;28mstr\u001b[39m(\u001b[38;5;28mself\u001b[39m\u001b[38;5;241m.\u001b[39mfp\u001b[38;5;241m.\u001b[39mreadline(_MAXLINE \u001b[38;5;241m+\u001b[39m \u001b[38;5;241m1\u001b[39m), \u001b[38;5;124m\"\u001b[39m\u001b[38;5;124miso-8859-1\u001b[39m\u001b[38;5;124m\"\u001b[39m)\n\u001b[1;32m    280\u001b[0m     \u001b[38;5;28;01mif\u001b[39;00m \u001b[38;5;28mlen\u001b[39m(line) \u001b[38;5;241m>\u001b[39m _MAXLINE:\n\u001b[1;32m    281\u001b[0m         \u001b[38;5;28;01mraise\u001b[39;00m LineTooLong(\u001b[38;5;124m\"\u001b[39m\u001b[38;5;124mstatus line\u001b[39m\u001b[38;5;124m\"\u001b[39m)\n",
      "File \u001b[0;32m/opt/homebrew/Caskroom/miniconda/base/lib/python3.11/socket.py:706\u001b[0m, in \u001b[0;36mSocketIO.readinto\u001b[0;34m(self, b)\u001b[0m\n\u001b[1;32m    704\u001b[0m \u001b[38;5;28;01mwhile\u001b[39;00m \u001b[38;5;28;01mTrue\u001b[39;00m:\n\u001b[1;32m    705\u001b[0m     \u001b[38;5;28;01mtry\u001b[39;00m:\n\u001b[0;32m--> 706\u001b[0m         \u001b[38;5;28;01mreturn\u001b[39;00m \u001b[38;5;28;43mself\u001b[39;49m\u001b[38;5;241;43m.\u001b[39;49m\u001b[43m_sock\u001b[49m\u001b[38;5;241;43m.\u001b[39;49m\u001b[43mrecv_into\u001b[49m\u001b[43m(\u001b[49m\u001b[43mb\u001b[49m\u001b[43m)\u001b[49m\n\u001b[1;32m    707\u001b[0m     \u001b[38;5;28;01mexcept\u001b[39;00m timeout:\n\u001b[1;32m    708\u001b[0m         \u001b[38;5;28mself\u001b[39m\u001b[38;5;241m.\u001b[39m_timeout_occurred \u001b[38;5;241m=\u001b[39m \u001b[38;5;28;01mTrue\u001b[39;00m\n",
      "\u001b[0;31mKeyboardInterrupt\u001b[0m: "
     ]
    }
   ],
   "source": [
    "from sklearn.metrics.pairwise import cosine_similarity\n",
    "import numpy as np\n",
    "\n",
    "def calculate_similarity_scores(retriever, query, documents):\n",
    "    # Embed the query\n",
    "    query_vector = np.asarray(retriever.vectorstore.embeddings.embed_query(query)).reshape(1, -1)  # Reshape for cosine_similarity\n",
    "    \n",
    "    # Embed each document\n",
    "    doc_vectors = np.array([retriever.vectorstore.embeddings.embed_documents(doc.page_content) for doc in documents])\n",
    "    \n",
    "    # Calculate cosine similarity\n",
    "    scores = cosine_similarity(query_vector, doc_vectors).flatten()\n",
    "    \n",
    "    # Return documents paired with their similarity scores\n",
    "    return list(zip(documents, scores))\n",
    "\n",
    "# Assume 'retrieved_docs' is the list of documents returned by your retrieval function\n",
    "retrieved_docs_with_scores = calculate_similarity_scores(retriever, \"format code\", retrieved_docs)\n",
    "\n",
    "for doc, score in retrieved_docs_with_scores:\n",
    "    print(f\"Document: {doc.page_content[:100]}... Similarity Score: {score}\")\n"
   ]
  },
  {
   "cell_type": "code",
   "execution_count": 214,
   "id": "eb48f24f-637c-447a-89ca-9d729e3fc371",
   "metadata": {},
   "outputs": [],
   "source": [
    "x='\\ndef example_function(param1, param2):\\n    \"\"\"This is a docstring.\"\"\"\\n    return (param1, param2)\\n'"
   ]
  },
  {
   "cell_type": "code",
   "execution_count": 219,
   "id": "f3da47b9-5d5f-4a4d-b994-24fee6cf8dde",
   "metadata": {},
   "outputs": [],
   "source": [
    "y=x.encode('utf-8').decode('unicode_escape')"
   ]
  },
  {
   "cell_type": "code",
   "execution_count": 12,
   "id": "b34e464f-97f7-4f06-bb9d-97d2aeef72de",
   "metadata": {},
   "outputs": [
    {
     "name": "stdout",
     "output_type": "stream",
     "text": [
      "/Users/ww5/a-gis/source/A_GIS/Ai/Chatbot/_send_chat_groq/__init__.py\n"
     ]
    }
   ],
   "source": [
    "print(y)"
   ]
  },
  {
   "cell_type": "code",
   "execution_count": 13,
   "id": "3251a2ed-d026-4b79-bcd5-8336a615a477",
   "metadata": {},
   "outputs": [
    {
     "name": "stdout",
     "output_type": "stream",
     "text": [
      "Result(files=['/Users/ww5/a-gis/source/A_GIS/Ai/Chatbot/_Chatbot/__init__.py', '/Users/ww5/a-gis/source/A_GIS/Ai/Chatbot/__init__.py', '/Users/ww5/a-gis/source/A_GIS/Ai/Chatbot/_send_chat_groq/__init__.py', '/Users/ww5/a-gis/source/A_GIS/Ai/Chatbot/_send_chat_ollama/__init__.py', '/Users/ww5/a-gis/source/A_GIS/Ai/Chatbot/_send_chat_openai/__init__.py', '/Users/ww5/a-gis/source/A_GIS/Ai/Chatbot/chat/__init__.py', '/Users/ww5/a-gis/source/A_GIS/Ai/Chatbot/get_info/__init__.py', '/Users/ww5/a-gis/source/A_GIS/Ai/Chatbot/init/__init__.py', '/Users/ww5/a-gis/source/A_GIS/Ai/Chatbot/list_models/__init__.py', '/Users/ww5/a-gis/source/A_GIS/Ai/Llm/__init__.py', '/Users/ww5/a-gis/source/A_GIS/Ai/Llm/_helpers/__init__.py', '/Users/ww5/a-gis/source/A_GIS/Ai/Llm/_helpers/download_model_files/__init__.py', '/Users/ww5/a-gis/source/A_GIS/Ai/Llm/_helpers/get_download_links/__init__.py', '/Users/ww5/a-gis/source/A_GIS/Ai/Llm/_helpers/get_output_folder/__init__.py', '/Users/ww5/a-gis/source/A_GIS/Ai/Llm/_helpers/parse_download_cli_args/__init__.py', '/Users/ww5/a-gis/source/A_GIS/Ai/Llm/_helpers/sanitize_model_and_branch_names/__init__.py', '/Users/ww5/a-gis/source/A_GIS/Ai/Llm/_helpers/start_download_threads/__init__.py', '/Users/ww5/a-gis/source/A_GIS/Ai/Llm/download/__init__.py', '/Users/ww5/a-gis/source/A_GIS/Ai/_Provider/__init__.py', '/Users/ww5/a-gis/source/A_GIS/Ai/__init__.py', '/Users/ww5/a-gis/source/A_GIS/Cli/__init__.py', '/Users/ww5/a-gis/source/A_GIS/Cli/distill/__init__.py', '/Users/ww5/a-gis/source/A_GIS/Cli/get_console_width/__init__.py', '/Users/ww5/a-gis/source/A_GIS/Cli/get_git_status/__init__.py', '/Users/ww5/a-gis/source/A_GIS/Cli/get_name_and_path/__init__.py', '/Users/ww5/a-gis/source/A_GIS/Cli/register/__init__.py', '/Users/ww5/a-gis/source/A_GIS/Cli/run_git/__init__.py', '/Users/ww5/a-gis/source/A_GIS/Cli/update_and_show_git_status/__init__.py', '/Users/ww5/a-gis/source/A_GIS/Code/CommitMessage/__init__.py', '/Users/ww5/a-gis/source/A_GIS/Code/CommitMessage/generate/__init__.py', '/Users/ww5/a-gis/source/A_GIS/Code/CommitMessage/generate/__main__.py', '/Users/ww5/a-gis/source/A_GIS/Code/Docstring/_Docstring/__init__.py', '/Users/ww5/a-gis/source/A_GIS/Code/Docstring/__init__.py', '/Users/ww5/a-gis/source/A_GIS/Code/Docstring/check_short_description/__init__.py', '/Users/ww5/a-gis/source/A_GIS/Code/Docstring/clean/__init__.py', '/Users/ww5/a-gis/source/A_GIS/Code/Docstring/clean/tests/__init__.py', '/Users/ww5/a-gis/source/A_GIS/Code/Docstring/fix_short_description/__init__.py', '/Users/ww5/a-gis/source/A_GIS/Code/Docstring/generate/__init__.py', '/Users/ww5/a-gis/source/A_GIS/Code/Docstring/generate/__main__.py', '/Users/ww5/a-gis/source/A_GIS/Code/Docstring/init/__init__.py', '/Users/ww5/a-gis/source/A_GIS/Code/Docstring/reformat/__init__.py', '/Users/ww5/a-gis/source/A_GIS/Code/Docstring/reformat/__main__.py', '/Users/ww5/a-gis/source/A_GIS/Code/Docstring/reformat/tests/__init__.py', '/Users/ww5/a-gis/source/A_GIS/Code/Docstring/to_string/__init__.py', '/Users/ww5/a-gis/source/A_GIS/Code/Tree/_Tree/__init__.py', '/Users/ww5/a-gis/source/A_GIS/Code/Tree/_Visitor/__init__.py', '/Users/ww5/a-gis/source/A_GIS/Code/Tree/__init__.py', '/Users/ww5/a-gis/source/A_GIS/Code/Tree/get/__init__.py', '/Users/ww5/a-gis/source/A_GIS/Code/Tree/init/__init__.py', '/Users/ww5/a-gis/source/A_GIS/Code/Tree/init_from_file/__init__.py', '/Users/ww5/a-gis/source/A_GIS/Code/Tree/print/__init__.py', '/Users/ww5/a-gis/source/A_GIS/Code/Tree/recurse/__init__.py', '/Users/ww5/a-gis/source/A_GIS/Code/Tree/to_json/__init__.py', '/Users/ww5/a-gis/source/A_GIS/Code/Tree/to_string/__init__.py', '/Users/ww5/a-gis/source/A_GIS/Code/Tree/update/__init__.py', '/Users/ww5/a-gis/source/A_GIS/Code/Tree/update_path_to_package/__init__.py', '/Users/ww5/a-gis/source/A_GIS/Code/Unit/Example/__init__.py', '/Users/ww5/a-gis/source/A_GIS/Code/Unit/Example/generate/__init__.py', '/Users/ww5/a-gis/source/A_GIS/Code/Unit/Example/generate/__main__.py', '/Users/ww5/a-gis/source/A_GIS/Code/Unit/Name/__init__.py', '/Users/ww5/a-gis/source/A_GIS/Code/Unit/Name/__main__.py', '/Users/ww5/a-gis/source/A_GIS/Code/Unit/Name/check/__init__.py', '/Users/ww5/a-gis/source/A_GIS/Code/Unit/Name/fix/__init__.py', '/Users/ww5/a-gis/source/A_GIS/Code/Unit/Name/fix/tests/__init__.py', '/Users/ww5/a-gis/source/A_GIS/Code/Unit/Name/generate/__init__.py', '/Users/ww5/a-gis/source/A_GIS/Code/Unit/Name/init_from_path/__init__.py', '/Users/ww5/a-gis/source/A_GIS/Code/Unit/Name/is_path/__init__.py', '/Users/ww5/a-gis/source/A_GIS/Code/Unit/Name/to_path/__init__.py', '/Users/ww5/a-gis/source/A_GIS/Code/Unit/Test/__init__.py', '/Users/ww5/a-gis/source/A_GIS/Code/Unit/Test/generate/__init__.py', '/Users/ww5/a-gis/source/A_GIS/Code/Unit/_Unit/__init__.py', '/Users/ww5/a-gis/source/A_GIS/Code/Unit/__init__.py', '/Users/ww5/a-gis/source/A_GIS/Code/Unit/_check_body_block/__init__.py', '/Users/ww5/a-gis/source/A_GIS/Code/Unit/_check_imports/__init__.py', '/Users/ww5/a-gis/source/A_GIS/Code/Unit/_has_imports/__init__.py', '/Users/ww5/a-gis/source/A_GIS/Code/Unit/_parse_first_pass/__init__.py', '/Users/ww5/a-gis/source/A_GIS/Code/Unit/_process_args_name_code/__init__.py', '/Users/ww5/a-gis/source/A_GIS/Code/Unit/_wrap_single_block/__init__.py', '/Users/ww5/a-gis/source/A_GIS/Code/Unit/absorb/__init__.py', '/Users/ww5/a-gis/source/A_GIS/Code/Unit/absorb/__main__.py', '/Users/ww5/a-gis/source/A_GIS/Code/Unit/calculate_embedding/__init__.py', '/Users/ww5/a-gis/source/A_GIS/Code/Unit/check/__init__.py', '/Users/ww5/a-gis/source/A_GIS/Code/Unit/check/__main__.py', '/Users/ww5/a-gis/source/A_GIS/Code/Unit/get/__init__.py', '/Users/ww5/a-gis/source/A_GIS/Code/Unit/get_git_status/__init__.py', '/Users/ww5/a-gis/source/A_GIS/Code/Unit/move/__init__.py', '/Users/ww5/a-gis/source/A_GIS/Code/Unit/read/__init__.py', '/Users/ww5/a-gis/source/A_GIS/Code/Unit/recommend/__init__.py', '/Users/ww5/a-gis/source/A_GIS/Code/Unit/recommend/__main__.py', '/Users/ww5/a-gis/source/A_GIS/Code/Unit/show_nav_tree/__init__.py', '/Users/ww5/a-gis/source/A_GIS/Code/Unit/substitute_imports/__init__.py', '/Users/ww5/a-gis/source/A_GIS/Code/Unit/to_string/__init__.py', '/Users/ww5/a-gis/source/A_GIS/Code/Unit/to_string/__main__.py', '/Users/ww5/a-gis/source/A_GIS/Code/Unit/touch/__init__.py', '/Users/ww5/a-gis/source/A_GIS/Code/__init__.py', '/Users/ww5/a-gis/source/A_GIS/Code/_distill_imports/__init__.py', '/Users/ww5/a-gis/source/A_GIS/Code/calculate_embedding/__init__.py', '/Users/ww5/a-gis/source/A_GIS/Code/collect_imports/__init__.py', '/Users/ww5/a-gis/source/A_GIS/Code/convert_multiline/__init__.py', '/Users/ww5/a-gis/source/A_GIS/Code/convert_multiline/__main__.py', '/Users/ww5/a-gis/source/A_GIS/Code/distill/__init__.py', '/Users/ww5/a-gis/source/A_GIS/Code/distill/tests/__init__.py', '/Users/ww5/a-gis/source/A_GIS/Code/extract_python/__init__.py', '/Users/ww5/a-gis/source/A_GIS/Code/find_root/__init__.py', '/Users/ww5/a-gis/source/A_GIS/Code/find_root/__main__.py', '/Users/ww5/a-gis/source/A_GIS/Code/generate/__init__.py', '/Users/ww5/a-gis/source/A_GIS/Code/get_schema/__init__.py', '/Users/ww5/a-gis/source/A_GIS/Code/get_source/__init__.py', '/Users/ww5/a-gis/source/A_GIS/Code/guess_name/__init__.py', '/Users/ww5/a-gis/source/A_GIS/Code/guess_type/__init__.py', '/Users/ww5/a-gis/source/A_GIS/Code/highlight/__init__.py', '/Users/ww5/a-gis/source/A_GIS/Code/highlight/__main__.py', '/Users/ww5/a-gis/source/A_GIS/Code/insert_into_function/__init__.py', '/Users/ww5/a-gis/source/A_GIS/Code/is_class/__init__.py', '/Users/ww5/a-gis/source/A_GIS/Code/is_function/__init__.py', '/Users/ww5/a-gis/source/A_GIS/Code/is_package/__init__.py', '/Users/ww5/a-gis/source/A_GIS/Code/is_program/__init__.py', '/Users/ww5/a-gis/source/A_GIS/Code/list/__init__.py', '/Users/ww5/a-gis/source/A_GIS/Code/list/__main__.py', '/Users/ww5/a-gis/source/A_GIS/Code/make_struct/__init__.py', '/Users/ww5/a-gis/source/A_GIS/Code/pack_into_function/__init__.py', '/Users/ww5/a-gis/source/A_GIS/Code/pack_into_function/__main__.py', '/Users/ww5/a-gis/source/A_GIS/Code/parse_docstring/__init__.py', '/Users/ww5/a-gis/source/A_GIS/Code/reformat/__init__.py', '/Users/ww5/a-gis/source/A_GIS/Code/reformat/__main__.py', '/Users/ww5/a-gis/source/A_GIS/Code/rename_function/__init__.py', '/Users/ww5/a-gis/source/A_GIS/Code/rename_function/__main__.py', '/Users/ww5/a-gis/source/A_GIS/Code/replace_docstring/__init__.py', '/Users/ww5/a-gis/source/A_GIS/Code/replace_from_imports/__init__.py', '/Users/ww5/a-gis/source/A_GIS/Code/split/__init__.py', '/Users/ww5/a-gis/source/A_GIS/Code/split/__main__.py', '/Users/ww5/a-gis/source/A_GIS/Conversation/Slack/__init__.py', '/Users/ww5/a-gis/source/A_GIS/Conversation/Slack/_extract_thread/__init__.py', '/Users/ww5/a-gis/source/A_GIS/Conversation/Slack/extract_threads/__init__.py', '/Users/ww5/a-gis/source/A_GIS/Conversation/Slack/extract_threads/__main__.py', '/Users/ww5/a-gis/source/A_GIS/Conversation/Slack/load_data/__init__.py', '/Users/ww5/a-gis/source/A_GIS/Conversation/Slack/load_data/__main__.py', '/Users/ww5/a-gis/source/A_GIS/Conversation/__init__.py', '/Users/ww5/a-gis/source/A_GIS/Data/Format/Json/__init__.py', '/Users/ww5/a-gis/source/A_GIS/Data/Format/Json/load_from_db/__init__.py', '/Users/ww5/a-gis/source/A_GIS/Data/Format/Json/read/__init__.py', '/Users/ww5/a-gis/source/A_GIS/Data/Format/Json/save_to_db/__init__.py', '/Users/ww5/a-gis/source/A_GIS/Data/Format/__init__.py', '/Users/ww5/a-gis/source/A_GIS/Data/Structure/UniqueDeque/__init__.py', '/Users/ww5/a-gis/source/A_GIS/Data/Structure/UniqueDeque/create/__init__.py', '/Users/ww5/a-gis/source/A_GIS/Data/Structure/__init__.py', '/Users/ww5/a-gis/source/A_GIS/Data/__init__.py', '/Users/ww5/a-gis/source/A_GIS/Dev/Metrics/Defects/__init__.py', '/Users/ww5/a-gis/source/A_GIS/Dev/Metrics/Defects/_convert_inline_math/__init__.py', '/Users/ww5/a-gis/source/A_GIS/Dev/Metrics/Defects/_convert_math_blocks/__init__.py', '/Users/ww5/a-gis/source/A_GIS/Dev/Metrics/Defects/_process_issue/__init__.py', '/Users/ww5/a-gis/source/A_GIS/Dev/Metrics/Defects/format_issue/__init__.py', '/Users/ww5/a-gis/source/A_GIS/Dev/Metrics/Defects/get_report/__init__.py', '/Users/ww5/a-gis/source/A_GIS/Dev/Metrics/Defects/get_report_script/__init__.py', '/Users/ww5/a-gis/source/A_GIS/Dev/Metrics/Defects/get_report_style/__init__.py', '/Users/ww5/a-gis/source/A_GIS/Dev/Metrics/__init__.py', '/Users/ww5/a-gis/source/A_GIS/Dev/Metrics/_download_and_hash_image/__init__.py', '/Users/ww5/a-gis/source/A_GIS/Dev/Metrics/_extract_image_urls/__init__.py', '/Users/ww5/a-gis/source/A_GIS/Dev/Metrics/_extract_scl/__init__.py', '/Users/ww5/a-gis/source/A_GIS/Dev/Metrics/_extract_sdl/__init__.py', '/Users/ww5/a-gis/source/A_GIS/Dev/Metrics/_filter_by_label/__init__.py', '/Users/ww5/a-gis/source/A_GIS/Dev/Metrics/_filter_closed_only/__init__.py', '/Users/ww5/a-gis/source/A_GIS/Dev/Metrics/_get_activity_started_at/__init__.py', '/Users/ww5/a-gis/source/A_GIS/Dev/Metrics/_get_completed/__init__.py', '/Users/ww5/a-gis/source/A_GIS/Dev/Metrics/_get_first_mr_created_at/__init__.py', '/Users/ww5/a-gis/source/A_GIS/Dev/Metrics/_get_raw_data_gitlab_sqa/__init__.py', '/Users/ww5/a-gis/source/A_GIS/Dev/Metrics/_get_started_at/__init__.py', '/Users/ww5/a-gis/source/A_GIS/Dev/Metrics/_label_times/__init__.py', '/Users/ww5/a-gis/source/A_GIS/Dev/Metrics/_project_time_to_close/__init__.py', '/Users/ww5/a-gis/source/A_GIS/Dev/Metrics/calculate_halflife/__init__.py', '/Users/ww5/a-gis/source/A_GIS/Dev/Metrics/filter_issues/__init__.py', '/Users/ww5/a-gis/source/A_GIS/Dev/Metrics/filter_issues/tests/__init__.py', '/Users/ww5/a-gis/source/A_GIS/Dev/Metrics/get_closure_stats/__init__.py', '/Users/ww5/a-gis/source/A_GIS/Dev/Metrics/get_dates/__init__.py', '/Users/ww5/a-gis/source/A_GIS/Dev/Metrics/get_dates/tests/__init__.py', '/Users/ww5/a-gis/source/A_GIS/Dev/Metrics/get_raw_data/__init__.py', '/Users/ww5/a-gis/source/A_GIS/Dev/Metrics/plot_halflife/__init__.py', '/Users/ww5/a-gis/source/A_GIS/Dev/Metrics/process_images/__init__.py', '/Users/ww5/a-gis/source/A_GIS/Dev/Metrics/process_issue/__init__.py', '/Users/ww5/a-gis/source/A_GIS/Dev/__init__.py', '/Users/ww5/a-gis/source/A_GIS/Document/__init__.py', '/Users/ww5/a-gis/source/A_GIS/Document/extract_images/__init__.py', '/Users/ww5/a-gis/source/A_GIS/File/Duplicates/__init__.py', '/Users/ww5/a-gis/source/A_GIS/File/Duplicates/delete/__init__.py', '/Users/ww5/a-gis/source/A_GIS/File/Duplicates/identify/__init__.py', '/Users/ww5/a-gis/source/A_GIS/File/Management/__init__.py', '/Users/ww5/a-gis/source/A_GIS/File/Management/get_collection/__init__.py', '/Users/ww5/a-gis/source/A_GIS/File/Management/get_nearest/__init__.py', '/Users/ww5/a-gis/source/A_GIS/File/Management/monitor/__init__.py', '/Users/ww5/a-gis/source/A_GIS/File/Management/prune_deleted/__init__.py', '/Users/ww5/a-gis/source/A_GIS/File/Node/__init__.py', '/Users/ww5/a-gis/source/A_GIS/File/Node/_get_dir_root/__init__.py', '/Users/ww5/a-gis/source/A_GIS/File/Node/classify/__init__.py', '/Users/ww5/a-gis/source/A_GIS/File/Node/generate_dirname/__init__.py', '/Users/ww5/a-gis/source/A_GIS/File/Node/generate_filename/__init__.py', '/Users/ww5/a-gis/source/A_GIS/File/Node/generate_purpose/__init__.py', '/Users/ww5/a-gis/source/A_GIS/File/Node/generate_purpose/__main__.py', '/Users/ww5/a-gis/source/A_GIS/File/Node/get_context/__init__.py', '/Users/ww5/a-gis/source/A_GIS/File/Node/get_root/__init__.py', '/Users/ww5/a-gis/source/A_GIS/File/Node/list_branches/__init__.py', '/Users/ww5/a-gis/source/A_GIS/File/Node/move/__init__.py', '/Users/ww5/a-gis/source/A_GIS/File/_Modification_Handler/__init__.py', '/Users/ww5/a-gis/source/A_GIS/File/_Url/__init__.py', '/Users/ww5/a-gis/source/A_GIS/File/__init__.py', '/Users/ww5/a-gis/source/A_GIS/File/_read_to_text_docx/__init__.py', '/Users/ww5/a-gis/source/A_GIS/File/_read_to_text_pdf/__init__.py', '/Users/ww5/a-gis/source/A_GIS/File/_read_to_text_pptx/__init__.py', '/Users/ww5/a-gis/source/A_GIS/File/delete/__init__.py', '/Users/ww5/a-gis/source/A_GIS/File/download/__init__.py', '/Users/ww5/a-gis/source/A_GIS/File/download/__main__.py', '/Users/ww5/a-gis/source/A_GIS/File/find_and_replace/__init__.py', '/Users/ww5/a-gis/source/A_GIS/File/glob/__init__.py', '/Users/ww5/a-gis/source/A_GIS/File/guess_year/__init__.py', '/Users/ww5/a-gis/source/A_GIS/File/hash/__init__.py', '/Users/ww5/a-gis/source/A_GIS/File/hash/tests/__init__.py', '/Users/ww5/a-gis/source/A_GIS/File/is_subdirectory/__init__.py', '/Users/ww5/a-gis/source/A_GIS/File/is_url/__init__.py', '/Users/ww5/a-gis/source/A_GIS/File/make_directory/__init__.py', '/Users/ww5/a-gis/source/A_GIS/File/make_directory/tests/__init__.py', '/Users/ww5/a-gis/source/A_GIS/File/open/__init__.py', '/Users/ww5/a-gis/source/A_GIS/File/read/__init__.py', '/Users/ww5/a-gis/source/A_GIS/File/read_to_text/__init__.py', '/Users/ww5/a-gis/source/A_GIS/File/read_to_text/__main__.py', '/Users/ww5/a-gis/source/A_GIS/File/should_ignore/__init__.py', '/Users/ww5/a-gis/source/A_GIS/File/show_tree/__init__.py', '/Users/ww5/a-gis/source/A_GIS/File/show_tree/__main__.py', '/Users/ww5/a-gis/source/A_GIS/File/touch/__init__.py', '/Users/ww5/a-gis/source/A_GIS/File/write/__init__.py', '/Users/ww5/a-gis/source/A_GIS/Image/Collection/__init__.py', '/Users/ww5/a-gis/source/A_GIS/Image/Collection/init/__init__.py', '/Users/ww5/a-gis/source/A_GIS/Image/Collection/insert/__init__.py', '/Users/ww5/a-gis/source/A_GIS/Image/Collection/search/__init__.py', '/Users/ww5/a-gis/source/A_GIS/Image/Collection/search/__main__.py', '/Users/ww5/a-gis/source/A_GIS/Image/Encoder/__init__.py', '/Users/ww5/a-gis/source/A_GIS/Image/Encoder/encode/__init__.py', '/Users/ww5/a-gis/source/A_GIS/Image/Encoder/init/__init__.py', '/Users/ww5/a-gis/source/A_GIS/Image/Metadata/__init__.py', '/Users/ww5/a-gis/source/A_GIS/Image/Metadata/get/__init__.py', '/Users/ww5/a-gis/source/A_GIS/Image/Metadata/modify/__init__.py', '/Users/ww5/a-gis/source/A_GIS/Image/Metadata/remove/__init__.py', '/Users/ww5/a-gis/source/A_GIS/Image/Metadata/remove/tests/__init__.py', '/Users/ww5/a-gis/source/A_GIS/Image/Plot/__init__.py', '/Users/ww5/a-gis/source/A_GIS/Image/Plot/decompose/__init__.py', '/Users/ww5/a-gis/source/A_GIS/Image/Plot/extract_caption/__init__.py', '/Users/ww5/a-gis/source/A_GIS/Image/__init__.py', '/Users/ww5/a-gis/source/A_GIS/Image/create_binary/__init__.py', '/Users/ww5/a-gis/source/A_GIS/Image/find_lines/__init__.py', '/Users/ww5/a-gis/source/A_GIS/Image/get_character_scale/__init__.py', '/Users/ww5/a-gis/source/A_GIS/Image/glob/__init__.py', '/Users/ww5/a-gis/source/A_GIS/Image/new/__init__.py', '/Users/ww5/a-gis/source/A_GIS/Image/open/__init__.py', '/Users/ww5/a-gis/source/A_GIS/Image/parse_receipt/__init__.py', '/Users/ww5/a-gis/source/A_GIS/Image/remove_by_mask/__init__.py', '/Users/ww5/a-gis/source/A_GIS/Image/show/__init__.py', '/Users/ww5/a-gis/source/A_GIS/Image/validate/__init__.py', '/Users/ww5/a-gis/source/A_GIS/Log/_Log/__init__.py', '/Users/ww5/a-gis/source/A_GIS/Log/__init__.py', '/Users/ww5/a-gis/source/A_GIS/Log/append/__init__.py', '/Users/ww5/a-gis/source/A_GIS/Log/get_sublogger/__init__.py', '/Users/ww5/a-gis/source/A_GIS/Log/track_function/__init__.py', '/Users/ww5/a-gis/source/A_GIS/Math/CorrelationMatrix/__init__.py', '/Users/ww5/a-gis/source/A_GIS/Math/CorrelationMatrix/from_samples/__init__.py', '/Users/ww5/a-gis/source/A_GIS/Math/CorrelationMatrix/init/__init__.py', '/Users/ww5/a-gis/source/A_GIS/Math/CorrelationMatrix/init_from_numpy/__init__.py', '/Users/ww5/a-gis/source/A_GIS/Math/CorrelationMatrix/to_numpy/__init__.py', '/Users/ww5/a-gis/source/A_GIS/Math/Distribution/Mixture/Weights/__init__.py', '/Users/ww5/a-gis/source/A_GIS/Math/Distribution/Mixture/Weights/get/__init__.py', '/Users/ww5/a-gis/source/A_GIS/Math/Distribution/Mixture/__init__.py', '/Users/ww5/a-gis/source/A_GIS/Math/Distribution/Mixture/get/__init__.py', '/Users/ww5/a-gis/source/A_GIS/Math/Distribution/Triangular/_Triangular/__init__.py', '/Users/ww5/a-gis/source/A_GIS/Math/Distribution/Triangular/__init__.py', '/Users/ww5/a-gis/source/A_GIS/Math/Distribution/Triangular/init/__init__.py', '/Users/ww5/a-gis/source/A_GIS/Math/Distribution/__init__.py', '/Users/ww5/a-gis/source/A_GIS/Math/Distribution/init/__init__.py', '/Users/ww5/a-gis/source/A_GIS/Math/Distribution/plot/__init__.py', '/Users/ww5/a-gis/source/A_GIS/Math/Distribution/sample/__init__.py', '/Users/ww5/a-gis/source/A_GIS/Math/__init__.py', '/Users/ww5/a-gis/source/A_GIS/Math/calculate_angle_between_vectors/__init__.py', '/Users/ww5/a-gis/source/A_GIS/Text/Html/__init__.py', '/Users/ww5/a-gis/source/A_GIS/Text/Html/add_math_render/__init__.py', '/Users/ww5/a-gis/source/A_GIS/Text/Html/embed_images/__init__.py', '/Users/ww5/a-gis/source/A_GIS/Text/Html/get_links/__init__.py', '/Users/ww5/a-gis/source/A_GIS/Text/Markdown/__init__.py', '/Users/ww5/a-gis/source/A_GIS/Text/Markdown/fix_links/__init__.py', '/Users/ww5/a-gis/source/A_GIS/Text/Markdown/get_links/__init__.py', '/Users/ww5/a-gis/source/A_GIS/Text/__init__.py', '/Users/ww5/a-gis/source/A_GIS/Text/add_indent/__init__.py', '/Users/ww5/a-gis/source/A_GIS/Text/add_indent/tests/__init__.py', '/Users/ww5/a-gis/source/A_GIS/Text/apply_patch/__init__.py', '/Users/ww5/a-gis/source/A_GIS/Text/calculate_embedding/__init__.py', '/Users/ww5/a-gis/source/A_GIS/Text/diff/__init__.py', '/Users/ww5/a-gis/source/A_GIS/Text/extract_markdown/__init__.py', '/Users/ww5/a-gis/source/A_GIS/Text/extract_markdown/tests/__init__.py', '/Users/ww5/a-gis/source/A_GIS/Text/find_and_replace/__init__.py', '/Users/ww5/a-gis/source/A_GIS/Text/get_after_tag/__init__.py', '/Users/ww5/a-gis/source/A_GIS/Text/get_before_tag/__init__.py', '/Users/ww5/a-gis/source/A_GIS/Text/get_between_tags/__init__.py', '/Users/ww5/a-gis/source/A_GIS/Text/get_indent/__init__.py', '/Users/ww5/a-gis/source/A_GIS/Text/get_patch/__init__.py', '/Users/ww5/a-gis/source/A_GIS/Text/get_root_word/__init__.py', '/Users/ww5/a-gis/source/A_GIS/Text/hash/__init__.py', '/Users/ww5/a-gis/source/A_GIS/Text/insert_block_placeholders/__init__.py', '/Users/ww5/a-gis/source/A_GIS/Text/reconstitute_blocks/__init__.py', '/Users/ww5/a-gis/source/A_GIS/Text/reconstitute_blocks/tests/__init__.py', '/Users/ww5/a-gis/source/A_GIS/Text/recreate_sentence/__init__.py', '/Users/ww5/a-gis/source/A_GIS/Text/reformat/__init__.py', '/Users/ww5/a-gis/source/A_GIS/Text/remove_indent/__init__.py', '/Users/ww5/a-gis/source/A_GIS/Text/replace_block/__init__.py', '/Users/ww5/a-gis/source/A_GIS/Text/replace_block/tests/__init__.py', '/Users/ww5/a-gis/source/A_GIS/Text/slugify/__init__.py', '/Users/ww5/a-gis/source/A_GIS/Text/split_first_sentence/__init__.py', '/Users/ww5/a-gis/source/A_GIS/Text/split_first_sentence/tests/__init__.py', '/Users/ww5/a-gis/source/A_GIS/Text/split_into_sentences/__init__.py', '/Users/ww5/a-gis/source/A_GIS/Text/starts_with_verb/__init__.py', '/Users/ww5/a-gis/source/A_GIS/Text/starts_with_verb/__main__.py', '/Users/ww5/a-gis/source/A_GIS/Time/__init__.py', '/Users/ww5/a-gis/source/A_GIS/Time/convert_to_datetime/__init__.py', '/Users/ww5/a-gis/source/A_GIS/Time/convert_to_string/__init__.py', '/Users/ww5/a-gis/source/A_GIS/Time/get/__init__.py', '/Users/ww5/a-gis/source/A_GIS/Visual/__init__.py', '/Users/ww5/a-gis/source/A_GIS/Visual/plot_transition/__init__.py', '/Users/ww5/a-gis/source/A_GIS/__init__.py', '/Users/ww5/a-gis/source/A_GIS/__main__.py', '/Users/ww5/a-gis/source/A_GIS/catalog/__init__.py', '/Users/ww5/a-gis/source/A_GIS/catalog/__main__.py', '/Users/ww5/a-gis/source/A_GIS/resolve_function/__init__.py'], _patterns=['*.py'], _ignore_patterns=['.*', '*~'])\n"
     ]
    }
   ],
   "source": [
    "print(x)"
   ]
  },
  {
   "cell_type": "code",
   "execution_count": 222,
   "id": "94a91601-b61e-42f5-ad98-efcc486228a1",
   "metadata": {},
   "outputs": [],
   "source": [
    "import ast\n",
    "\n",
    "class StringTransformer(ast.NodeTransformer):\n",
    "    def visit_Str(self, node):\n",
    "        # This method will visit every string in the code.\n",
    "        if \"\\n\" in node.s:\n",
    "            # Prepare the string by escaping triple quotes and backslashes\n",
    "            escaped_s = node.s.replace('\\\\', '\\\\\\\\').replace('\"\"\"', '\\\\\"\"\"')\n",
    "            # Interpret escape sequences\n",
    "            interpreted_s = escaped_s.encode('utf-8').decode('unicode_escape')\n",
    "            # Enclose in triple quotes\n",
    "            new_s = f'\"\"\"{interpreted_s}\"\"\"'\n",
    "        else:\n",
    "            # Escape double quotes and backslashes for single-line strings\n",
    "            escaped_s = node.s.replace('\\\\', '\\\\\\\\').replace('\"', '\\\\\"')\n",
    "            new_s = f'\"{escaped_s}\"'\n",
    "\n",
    "        return ast.Str(s=new_s)"
   ]
  },
  {
   "cell_type": "code",
   "execution_count": 270,
   "id": "830c30df-38a9-4296-9b7f-925762f4aeba",
   "metadata": {},
   "outputs": [
    {
     "name": "stdout",
     "output_type": "stream",
     "text": [
      "\n",
      "def example_function(param1, param2):\n",
      "    '''This is a docstring.'''\n",
      "    return (param1, param2)\n",
      "\n",
      "\n"
     ]
    }
   ],
   "source": [
    "import astor\n",
    "# Sample code\n",
    "code = \"\\ndef example_function(param1, param2):\\n    '''This is a docstring.'''\\n    return (param1, param2)\\n\"\"\"\n",
    "\n",
    "import io\n",
    "\n",
    "# Create a StringIO object\n",
    "output = io.StringIO()\n",
    "\n",
    "# Use the file argument in print to direct output to the StringIO object\n",
    "print(code, file=output)\n",
    "\n",
    "# Retrieve the content of the StringIO object\n",
    "captured_output = output.getvalue()\n",
    "\n",
    "# Don't forget to close the StringIO object when you're done\n",
    "output.close()\n",
    "\n",
    "# captured_output now contains the string 'Hello, world!\\n'\n",
    "print(captured_output)\n"
   ]
  },
  {
   "cell_type": "code",
   "execution_count": 266,
   "id": "50341231-0984-4db7-938c-a20eeeb83d5b",
   "metadata": {},
   "outputs": [
    {
     "name": "stdout",
     "output_type": "stream",
     "text": [
      "\n",
      "def example_function(param1, param2):\n",
      "    \"\"\"This is a docstring.\"\"\"\n",
      "    return (param1, param2)\n",
      "\n"
     ]
    }
   ],
   "source": [
    "print(code)"
   ]
  },
  {
   "cell_type": "code",
   "execution_count": 267,
   "id": "69bfaffe-a88f-48cf-9c80-9f8191b9c811",
   "metadata": {},
   "outputs": [],
   "source": [
    "test_code = \"\"\"\n",
    "def example_function(param1, param2):\n",
    "    '''This is a docstring.'''\n",
    "    return (param1, param2)\n",
    "\"\"\""
   ]
  },
  {
   "cell_type": "code",
   "execution_count": 268,
   "id": "0a2b4d43-8bb3-485a-8dfd-99b88936fa9d",
   "metadata": {},
   "outputs": [
    {
     "name": "stdout",
     "output_type": "stream",
     "text": [
      "\n",
      "def example_function(param1, param2):\n",
      "    '''This is a docstring.'''\n",
      "    return (param1, param2)\n",
      "\n"
     ]
    }
   ],
   "source": [
    "print(test_code)"
   ]
  },
  {
   "cell_type": "code",
   "execution_count": 271,
   "id": "150ca5df-3c0f-4f32-a966-b720e6890c4d",
   "metadata": {},
   "outputs": [],
   "source": [
    "x='\\ndef example_function(param1, param2):\\n    \"\"\"This is a docstring.\"\"\"\\n    return (param1, param2)\\n'"
   ]
  },
  {
   "cell_type": "code",
   "execution_count": 272,
   "id": "f92ecafb-34c6-456b-9540-81c4c2c8dbc0",
   "metadata": {},
   "outputs": [
    {
     "data": {
      "text/plain": [
       "\"\\ndef example_function(param1, param2):\\n    '''This is a docstring.'''\\n    return (param1, param2)\\n\""
      ]
     },
     "execution_count": 272,
     "metadata": {},
     "output_type": "execute_result"
    }
   ],
   "source": [
    "x.replace('\"\"\"',\"'''\")"
   ]
  },
  {
   "cell_type": "code",
   "execution_count": 273,
   "id": "6000871f-42d9-49ba-81ef-e98ab81a0db8",
   "metadata": {},
   "outputs": [],
   "source": [
    "x='\\ndef example_function(param1, param2):\\n    return (param1, param2)\\n'"
   ]
  },
  {
   "cell_type": "code",
   "execution_count": 274,
   "id": "4ad41384-b70c-45ca-b6db-04cb37e610c7",
   "metadata": {},
   "outputs": [
    {
     "name": "stdout",
     "output_type": "stream",
     "text": [
      "\n",
      "def example_function(param1, param2):\n",
      "    return (param1, param2)\n",
      "\n"
     ]
    }
   ],
   "source": [
    "print(x)"
   ]
  },
  {
   "cell_type": "code",
   "execution_count": 287,
   "id": "b5ebb289-a943-434f-b755-c8a3fb9891f6",
   "metadata": {},
   "outputs": [],
   "source": [
    "y=    \"\"\"Formats Python code using the autopep8 and black libraries.\n",
    "\n",
    "    This function takes a string of Python code as input, applies formatting with autopep8 and black, and returns the resulting formatted code.\n",
    "\n",
    "    Args:\n",
    "        code (str): The Python code to be formatted.\n",
    "\n",
    "    Raises:\n",
    "        None\n",
    "\n",
    "    Returns:\n",
    "        str: The formatted Python code.\n",
    "\n",
    "    \"\"\"\n"
   ]
  },
  {
   "cell_type": "code",
   "execution_count": 300,
   "id": "61b98675-e1cd-41b9-848f-a7dc51372f7d",
   "metadata": {},
   "outputs": [
    {
     "data": {
      "text/plain": [
       "'Formats Python code using the autopep8 and black libraries.      This\\nfunction takes a string of Python code as input, applies formatting\\nwith autopep8 and black, and returns the resulting formatted code.\\nArgs:         code (str): The Python code to be formatted.\\nRaises:         None      Returns:         str: The formatted Python\\ncode.'"
      ]
     },
     "execution_count": 300,
     "metadata": {},
     "output_type": "execute_result"
    }
   ],
   "source": [
    "import textwrap\n",
    "textwrap.fill(y)"
   ]
  },
  {
   "cell_type": "code",
   "execution_count": 295,
   "id": "57c1327e-54fa-4dfa-9cfa-022de2e433bf",
   "metadata": {},
   "outputs": [
    {
     "data": {
      "text/plain": [
       "'Formats Python code using the autopep8 and black libraries.      This\\nfunction takes a string of Python code as input, applies formatting\\nwith autopep8 and black, and returns the resulting formatted code.\\nArgs:         code (str): The Python code to be formatted.\\nRaises:         None      Returns:         str: The formatted Python\\ncode.'"
      ]
     },
     "execution_count": 295,
     "metadata": {},
     "output_type": "execute_result"
    }
   ],
   "source": [
    "textwrap.fill(,width=70)"
   ]
  },
  {
   "cell_type": "code",
   "execution_count": 283,
   "id": "ea8cfc8f-1444-466a-b53a-42bf190b9787",
   "metadata": {},
   "outputs": [
    {
     "name": "stdout",
     "output_type": "stream",
     "text": [
      "\n",
      "def example_function(param1, param2):\n",
      "    return (param1, param2)\n",
      "\n"
     ]
    }
   ],
   "source": [
    "print(x)"
   ]
  },
  {
   "cell_type": "code",
   "execution_count": 284,
   "id": "163cfcd9-8aa5-4bf0-859c-c6fac4e071a7",
   "metadata": {},
   "outputs": [
    {
     "name": "stdout",
     "output_type": "stream",
     "text": [
      "\n",
      "    def example_function(param1, param2):\n",
      "        return (param1, param2)\n",
      "\n"
     ]
    }
   ],
   "source": [
    "print(y)"
   ]
  },
  {
   "cell_type": "code",
   "execution_count": 286,
   "id": "2f564c23-a65a-4250-bd3d-0b4fe38dace5",
   "metadata": {},
   "outputs": [
    {
     "name": "stdout",
     "output_type": "stream",
     "text": [
      "\n",
      "def example_function(param1, param2):\n",
      "    '''This is a docstring.'''\n",
      "    return (param1, param2)\n"
     ]
    }
   ],
   "source": [
    "import libcst as cst\n",
    "import textwrap\n",
    "\n",
    "def convert_multiline_libcst(*, code: str) -> str:\n",
    "    \"\"\"Convert multiline strings to a canonical form using LibCST.\n",
    "\n",
    "    Args:\n",
    "        code (str): The Python source code to convert.\n",
    "    \"\"\"\n",
    "\n",
    "    class MultilineStringTransformer(cst.CSTTransformer):\n",
    "        def leave_SimpleString(self, original_node, updated_node):\n",
    "            # Check if string is multiline\n",
    "            if '\\n' in updated_node.value:\n",
    "                # Handle triple quotes in strings\n",
    "                if '\"\"\"' in updated_node.value or \"'''\" in updated_node.value:\n",
    "                    # Use the other form of triple quotes if one is found in the string\n",
    "                    quote_type = \"'''\" if '\"\"\"' in updated_node.value else '\"\"\"'\n",
    "                else:\n",
    "                    # Default to triple double quotes\n",
    "                    quote_type = '\"\"\"'\n",
    "                \n",
    "                # Create a new multiline string node\n",
    "                new_value = textwrap.dedent(updated_node.value).strip()\n",
    "                new_value = f\"{quote_type}{new_value}{quote_type}\"\n",
    "                return updated_node.with_changes(value=new_value)\n",
    "            return updated_node\n",
    "\n",
    "    # Parse the source code into a LibCST Module\n",
    "    tree = cst.parse_module(code)\n",
    "\n",
    "    # Transform the CST\n",
    "    wrapper = cst.MetadataWrapper(tree)\n",
    "    transformed_tree = wrapper.visit(MultilineStringTransformer())\n",
    "\n",
    "    # Convert the CST back into a code string\n",
    "    return transformed_tree.code\n",
    "\n",
    "# Example usage\n",
    "code = \"\\ndef example_function(param1, param2):\\n    '''This is a docstring.'''\\n    return (param1, param2)\"\n",
    "\n",
    "converted_code = convert_multiline_libcst(code=code)\n",
    "print(converted_code)\n"
   ]
  },
  {
   "cell_type": "code",
   "execution_count": 305,
   "id": "fcf92252-eadd-4ee6-ae6d-b9e2e2a61956",
   "metadata": {},
   "outputs": [
    {
     "name": "stdout",
     "output_type": "stream",
     "text": [
      "Formats Python code using the autopep8 and black libraries. This\n",
      "function takes a string of Python code as input, applies formatting with\n",
      "autopep8 and black, and returns the resulting formatted code.\n",
      "\n",
      "Args:     code (str): The Python code to be formatted.  Raises:     None\n",
      "Returns:     str: The formatted Python code.\n"
     ]
    }
   ],
   "source": [
    "import textwrap\n",
    "\n",
    "def reformat_docstring(docstring: str, max_width: int = 72) -> str:\n",
    "    \"\"\"\n",
    "    Reformat a docstring to adhere to PEP 257 conventions.\n",
    "\n",
    "    This function ensures that the docstring has a one-line summary separated\n",
    "    by a blank line from any further explanatory text. It wraps the text so\n",
    "    that no line exceeds the specified maximum width.\n",
    "\n",
    "    Args:\n",
    "        docstring (str): The original docstring to reformat.\n",
    "        max_width (int): The maximum width for any line in the docstring.\n",
    "\n",
    "    Returns:\n",
    "        str: The reformatted docstring.\n",
    "    \"\"\"\n",
    "    lines = docstring.strip().split('\\n')\n",
    "    if not lines:\n",
    "        return ''\n",
    "\n",
    "    # Process the first line separately as the summary.\n",
    "    summary_line = lines[0].strip()\n",
    "    wrapped_summary = textwrap.fill(summary_line, max_width)\n",
    "\n",
    "    # Process the rest of the docstring.\n",
    "    rest = '\\n'.join(lines[1:]).strip()\n",
    "    wrapped_rest = textwrap.fill(rest, max_width)\n",
    "\n",
    "    # Combine the summary and the rest with a blank line in between if there is more detail to add.\n",
    "    if wrapped_rest:\n",
    "        return f'{wrapped_summary}\\n\\n{wrapped_rest}'\n",
    "    else:\n",
    "        return wrapped_summary\n",
    "\n",
    "# Example usage\n",
    "original_docstring = \"\"\"\\\n",
    "Formats Python code using the autopep8 and black libraries. This function takes a string of Python code as input, applies formatting with autopep8 and black, and returns the resulting formatted code.\n",
    "\n",
    "Args:\n",
    "    code (str): The Python code to be formatted.\n",
    "\n",
    "Raises:\n",
    "    None\n",
    "\n",
    "Returns:\n",
    "    str: The formatted Python code.\n",
    "\"\"\"\n",
    "\n",
    "reformatted_docstring = reformat_docstring(original_docstring, 72)\n",
    "print(reformatted_docstring)\n"
   ]
  },
  {
   "cell_type": "code",
   "execution_count": null,
   "id": "b23725d1-0521-4222-85b5-4f64dc4f58ef",
   "metadata": {},
   "outputs": [],
   "source": []
  },
  {
   "cell_type": "code",
   "execution_count": null,
   "id": "5424d798-2b1e-40e4-8c6c-aac8f2f31882",
   "metadata": {},
   "outputs": [],
   "source": []
  }
 ],
 "metadata": {
  "kernelspec": {
   "display_name": "a-gis (venv)",
   "language": "python",
   "name": "venv"
  },
  "language_info": {
   "codemirror_mode": {
    "name": "ipython",
    "version": 3
   },
   "file_extension": ".py",
   "mimetype": "text/x-python",
   "name": "python",
   "nbconvert_exporter": "python",
   "pygments_lexer": "ipython3",
   "version": "3.13.2"
  }
 },
 "nbformat": 4,
 "nbformat_minor": 5
}
