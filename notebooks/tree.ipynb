{
 "cells": [
  {
   "cell_type": "markdown",
   "id": "86714f6c-74d6-4a12-a23a-0cbd1b1452bf",
   "metadata": {},
   "source": [
    " "
   ]
  },
  {
   "cell_type": "code",
   "execution_count": 1,
   "id": "9475e49b-b961-467e-bdcd-c2f7dbf687a3",
   "metadata": {},
   "outputs": [],
   "source": [
    "import A_GIS\n",
    "import pathlib"
   ]
  },
  {
   "cell_type": "code",
   "execution_count": 12,
   "id": "4a00b40e-73a8-4b0b-8cd3-c2e9cadb0bb0",
   "metadata": {},
   "outputs": [],
   "source": [
    "file = pathlib.Path('../source/A_GIS/Code/Tree/get/__init__.py')\n",
    "tree=A_GIS.Code.Tree.init_from_file(file=file)"
   ]
  },
  {
   "cell_type": "code",
   "execution_count": 13,
   "id": "68830ba7-7f21-472e-b69b-86fca0317bb3",
   "metadata": {},
   "outputs": [
    {
     "name": "stdout",
     "output_type": "stream",
     "text": [
      " 00 package get\n",
      "____ 01 function get\n",
      "________ 02 class __HierarchyVisitor\n",
      "____________ 03 function __init__\n",
      "____________ 03 function visit_ClassDef\n",
      "____________ 03 function visit_FunctionDef\n",
      "\n"
     ]
    }
   ],
   "source": [
    "print(tree.to_string(indent_chars='____'))"
   ]
  },
  {
   "cell_type": "code",
   "execution_count": 14,
   "id": "ed6bd9d1-396e-4c9b-8cb8-9ccb5fe265e4",
   "metadata": {},
   "outputs": [
    {
     "data": {
      "text/plain": [
       "'A_GIS.Code.Tree.get'"
      ]
     },
     "execution_count": 14,
     "metadata": {},
     "output_type": "execute_result"
    }
   ],
   "source": [
    "A_GIS.Code.guess_full_name(file=file)"
   ]
  },
  {
   "cell_type": "code",
   "execution_count": null,
   "id": "e6acd048-8d76-4fe6-ac18-65eb611c2f63",
   "metadata": {},
   "outputs": [],
   "source": []
  },
  {
   "cell_type": "code",
   "execution_count": null,
   "id": "697c57cf-4241-45e4-80e4-4890334fcc16",
   "metadata": {},
   "outputs": [],
   "source": []
  }
 ],
 "metadata": {
  "kernelspec": {
   "display_name": "Python 3 (ipykernel)",
   "language": "python",
   "name": "python3"
  },
  "language_info": {
   "codemirror_mode": {
    "name": "ipython",
    "version": 3
   },
   "file_extension": ".py",
   "mimetype": "text/x-python",
   "name": "python",
   "nbconvert_exporter": "python",
   "pygments_lexer": "ipython3",
   "version": "3.11.5"
  }
 },
 "nbformat": 4,
 "nbformat_minor": 5
}
