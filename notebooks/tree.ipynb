{
 "cells": [
  {
   "cell_type": "markdown",
   "id": "86714f6c-74d6-4a12-a23a-0cbd1b1452bf",
   "metadata": {},
   "source": [
    " "
   ]
  },
  {
   "cell_type": "code",
   "execution_count": 1,
   "id": "9475e49b-b961-467e-bdcd-c2f7dbf687a3",
   "metadata": {},
   "outputs": [],
   "source": [
    "import A_GIS\n",
    "import pathlib"
   ]
  },
  {
   "cell_type": "code",
   "execution_count": 2,
   "id": "4a00b40e-73a8-4b0b-8cd3-c2e9cadb0bb0",
   "metadata": {},
   "outputs": [],
   "source": [
    "file = pathlib.Path('../source/A_GIS/Code/Tree/get/__init__.py')\n",
    "tree=A_GIS.Code.Tree.init_from_file(file=file)"
   ]
  },
  {
   "cell_type": "code",
   "execution_count": 3,
   "id": "68830ba7-7f21-472e-b69b-86fca0317bb3",
   "metadata": {},
   "outputs": [
    {
     "name": "stdout",
     "output_type": "stream",
     "text": [
      " 00 package py\n",
      "____ 01 function get\n",
      "________ 02 class __HierarchyVisitor\n",
      "____________ 03 function __init__\n",
      "____________ 03 function visit_ClassDef\n",
      "____________ 03 function visit_FunctionDef\n",
      "\n"
     ]
    }
   ],
   "source": [
    "print(tree.to_string(indent_chars='____'))"
   ]
  },
  {
   "cell_type": "code",
   "execution_count": 4,
   "id": "acfa363e-7f5a-4619-9c34-d4aa7d0e1eb6",
   "metadata": {},
   "outputs": [
    {
     "name": "stdout",
     "output_type": "stream",
     "text": [
      "{\n",
      "    \"_type\": \"package\",\n",
      "    \"file\": \"../source/A_GIS/Code/Tree/get/__init__.py\",\n",
      "    \"name\": \"py\",\n",
      "    \"full_name\": \"A_GIS.Code.Tree.get.__init__.py\",\n",
      "    \"body\": \"import re\\n\\ndef get(\\n    *,\\n    code: str,\\n    ignore_class=re.compile(\\\"^__\\\"),\\n    ignore_function=re.compile(\\\"^__\\\"),\\n) -> dict:\\n    \\\"\\\"\\\"Get a code tree from a code string.\\\"\\\"\\\"\\n    import ast\\n\\n    class __HierarchyVisitor(ast.NodeVisitor):\\n        def __init__(self):\\n            self.hierarchy = {}\\n            self.current_scope = self.hierarchy\\n\\n        def visit_ClassDef(self, node):\\n            if ignore_class.match(node.name):\\n                return\\n            class_name = node.name\\n            previous_scope = self.current_scope\\n            self.current_scope = self.current_scope.setdefault(\\n                class_name, {\\\"_type\\\": \\\"class\\\"}\\n            )\\n            for child_node in node.body:\\n                self.visit(child_node)\\n            self.current_scope = previous_scope\\n\\n        def visit_FunctionDef(self, node):\\n            if ignore_function.match(node.name):\\n                return\\n            function_name = node.name\\n            previous_scope = self.current_scope\\n            self.current_scope[function_name] = {\\\"_type\\\": \\\"function\\\"}\\n            self.current_scope = self.current_scope[function_name]\\n            for child_node in node.body:\\n                self.visit(child_node)\\n            self.current_scope = previous_scope\\n\\n    nodes = ast.parse(code)\\n    hierarchy_visitor = __HierarchyVisitor()\\n    hierarchy_visitor.visit(nodes)\\n\\n    return hierarchy_visitor.hierarchy\\n\",\n",
      "    \"hash\": \"d1a0e91b165474e185135a98831fa1d700439bc39c7740f12e5dce2d66e0e71a\",\n",
      "    \"children\": {\n",
      "        \"get\": {\n",
      "            \"_type\": \"function\",\n",
      "            \"file\": \"../source/A_GIS/Code/Tree/get/__init__.py\",\n",
      "            \"name\": \"get\",\n",
      "            \"full_name\": \".get\",\n",
      "            \"body\": \"\\ndef get(\\n    *,\\n    code: str,\\n    ignore_class=re.compile(\\\"^__\\\"),\\n    ignore_function=re.compile(\\\"^__\\\"),\\n) -> dict:\\n    \\\"\\\"\\\"Get a code tree from a code string.\\\"\\\"\\\"\\n    import ast\\n\\n    class __HierarchyVisitor(ast.NodeVisitor):\\n        def __init__(self):\\n            self.hierarchy = {}\\n            self.current_scope = self.hierarchy\\n\\n        def visit_ClassDef(self, node):\\n            if ignore_class.match(node.name):\\n                return\\n            class_name = node.name\\n            previous_scope = self.current_scope\\n            self.current_scope = self.current_scope.setdefault(\\n                class_name, {\\\"_type\\\": \\\"class\\\"}\\n            )\\n            for child_node in node.body:\\n                self.visit(child_node)\\n            self.current_scope = previous_scope\\n\\n        def visit_FunctionDef(self, node):\\n            if ignore_function.match(node.name):\\n                return\\n            function_name = node.name\\n            previous_scope = self.current_scope\\n            self.current_scope[function_name] = {\\\"_type\\\": \\\"function\\\"}\\n            self.current_scope = self.current_scope[function_name]\\n            for child_node in node.body:\\n                self.visit(child_node)\\n            self.current_scope = previous_scope\\n\\n    nodes = ast.parse(code)\\n    hierarchy_visitor = __HierarchyVisitor()\\n    hierarchy_visitor.visit(nodes)\\n\\n    return hierarchy_visitor.hierarchy\\n\",\n",
      "            \"hash\": \"4d23c5433a342f8484e545e66000c802c7d03a0589eb4fdb2cbb24d2e55171f8\",\n",
      "            \"children\": {\n",
      "                \"__HierarchyVisitor\": {\n",
      "                    \"_type\": \"class\",\n",
      "                    \"file\": \"../source/A_GIS/Code/Tree/get/__init__.py\",\n",
      "                    \"name\": \"__HierarchyVisitor\",\n",
      "                    \"full_name\": \".get.__HierarchyVisitor\",\n",
      "                    \"body\": \"\\nclass __HierarchyVisitor(ast.NodeVisitor):\\n    def __init__(self):\\n        self.hierarchy = {}\\n        self.current_scope = self.hierarchy\\n\\n    def visit_ClassDef(self, node):\\n        if ignore_class.match(node.name):\\n            return\\n        class_name = node.name\\n        previous_scope = self.current_scope\\n        self.current_scope = self.current_scope.setdefault(\\n            class_name, {\\\"_type\\\": \\\"class\\\"}\\n        )\\n        for child_node in node.body:\\n            self.visit(child_node)\\n        self.current_scope = previous_scope\\n\\n    def visit_FunctionDef(self, node):\\n        if ignore_function.match(node.name):\\n            return\\n        function_name = node.name\\n        previous_scope = self.current_scope\\n        self.current_scope[function_name] = {\\\"_type\\\": \\\"function\\\"}\\n        self.current_scope = self.current_scope[function_name]\\n        for child_node in node.body:\\n            self.visit(child_node)\\n        self.current_scope = previous_scope\\n\",\n",
      "                    \"hash\": \"3d1df992250fee90c43c3c1a3143ea990d0850ce8a7fd96539ab4a15375850cb\",\n",
      "                    \"children\": {\n",
      "                        \"__init__\": {\n",
      "                            \"_type\": \"function\",\n",
      "                            \"file\": \"../source/A_GIS/Code/Tree/get/__init__.py\",\n",
      "                            \"name\": \"__init__\",\n",
      "                            \"full_name\": \".get.__HierarchyVisitor.__init__\",\n",
      "                            \"body\": \"def __init__(self):\\n    self.hierarchy = {}\\n    self.current_scope = self.hierarchy\\n\",\n",
      "                            \"hash\": \"0b0755d4b1a546be41a3e76957405148ed555bb4f716aaebc2171b89fcc3dd94\",\n",
      "                            \"children\": {}\n",
      "                        },\n",
      "                        \"visit_ClassDef\": {\n",
      "                            \"_type\": \"function\",\n",
      "                            \"file\": \"../source/A_GIS/Code/Tree/get/__init__.py\",\n",
      "                            \"name\": \"visit_ClassDef\",\n",
      "                            \"full_name\": \".get.__HierarchyVisitor.visit_ClassDef\",\n",
      "                            \"body\": \"\\ndef visit_ClassDef(self, node):\\n    if ignore_class.match(node.name):\\n        return\\n    class_name = node.name\\n    previous_scope = self.current_scope\\n    self.current_scope = self.current_scope.setdefault(\\n        class_name, {\\\"_type\\\": \\\"class\\\"}\\n    )\\n    for child_node in node.body:\\n        self.visit(child_node)\\n    self.current_scope = previous_scope\\n\",\n",
      "                            \"hash\": \"8bbcbd5508df758599606be51e678ec1ecfa78dea1cf7f07b97fa4a5d21b81a9\",\n",
      "                            \"children\": {}\n",
      "                        },\n",
      "                        \"visit_FunctionDef\": {\n",
      "                            \"_type\": \"function\",\n",
      "                            \"file\": \"../source/A_GIS/Code/Tree/get/__init__.py\",\n",
      "                            \"name\": \"visit_FunctionDef\",\n",
      "                            \"full_name\": \".get.__HierarchyVisitor.visit_FunctionDef\",\n",
      "                            \"body\": \"\\ndef visit_FunctionDef(self, node):\\n    if ignore_function.match(node.name):\\n        return\\n    function_name = node.name\\n    previous_scope = self.current_scope\\n    self.current_scope[function_name] = {\\\"_type\\\": \\\"function\\\"}\\n    self.current_scope = self.current_scope[function_name]\\n    for child_node in node.body:\\n        self.visit(child_node)\\n    self.current_scope = previous_scope\\n\",\n",
      "                            \"hash\": \"ef71e14bb07b0c130999c8537d1afd02fd2471ef90bfbdc2cabfb6d206ae7442\",\n",
      "                            \"children\": {}\n",
      "                        }\n",
      "                    }\n",
      "                }\n",
      "            }\n",
      "        }\n",
      "    }\n",
      "}\n"
     ]
    }
   ],
   "source": [
    "print(tree.to_json())"
   ]
  },
  {
   "cell_type": "code",
   "execution_count": 5,
   "id": "3a106e5a-7b6e-42eb-b763-d55f9f63a32c",
   "metadata": {},
   "outputs": [
    {
     "name": "stdout",
     "output_type": "stream",
     "text": [
      "def __init__(self):\n",
      "    self.hierarchy = {}\n",
      "    self.current_scope = self.hierarchy\n",
      "\n",
      "\n",
      "class __HierarchyVisitor(ast.NodeVisitor):\n",
      "    def __init__(self):\n",
      "        self.hierarchy = {}\n",
      "        self.current_scope = self.hierarchy\n",
      "\n",
      "    def visit_ClassDef(self, node):\n",
      "        if ignore_class.match(node.name):\n",
      "            return\n",
      "        class_name = node.name\n",
      "        previous_scope = self.current_scope\n",
      "        self.current_scope = self.current_scope.setdefault(\n",
      "            class_name, {\"_type\": \"class\"}\n",
      "        )\n",
      "        for child_node in node.body:\n",
      "            self.visit(child_node)\n",
      "        self.current_scope = previous_scope\n",
      "\n",
      "    def visit_FunctionDef(self, node):\n",
      "        if ignore_function.match(node.name):\n",
      "            return\n",
      "        function_name = node.name\n",
      "        previous_scope = self.current_scope\n",
      "        self.current_scope[function_name] = {\"_type\": \"function\"}\n",
      "        self.current_scope = self.current_scope[function_name]\n",
      "        for child_node in node.body:\n",
      "            self.visit(child_node)\n",
      "        self.current_scope = previous_scope\n",
      "\n"
     ]
    }
   ],
   "source": [
    "i=tree.children['get'].children['__HierarchyVisitor'].children['__init__']\n",
    "h=tree.children['get'].children['__HierarchyVisitor']\n",
    "print(i.body)\n",
    "print(h.body)"
   ]
  },
  {
   "cell_type": "code",
   "execution_count": null,
   "id": "91171ae9-5c25-4491-a88c-0163aaa73803",
   "metadata": {},
   "outputs": [],
   "source": []
  },
  {
   "cell_type": "code",
   "execution_count": 7,
   "id": "75871062-6c3f-467d-a917-86116f88137f",
   "metadata": {},
   "outputs": [
    {
     "name": "stdout",
     "output_type": "stream",
     "text": [
      "\n",
      "class __HierarchyVisitor(ast.NodeVisitor):\n",
      "    import A_GIS.function_0b0755d4b1a546be41a3e76957405148ed555bb4f716aaebc2171b89fcc3dd94 as __init__\n",
      "\n",
      "    def visit_ClassDef(self, node):\n",
      "        if ignore_class.match(node.name):\n",
      "            return\n",
      "        class_name = node.name\n",
      "        previous_scope = self.current_scope\n",
      "        self.current_scope = self.current_scope.setdefault(\n",
      "            class_name, {\"_type\": \"class\"}\n",
      "        )\n",
      "        for child_node in node.body:\n",
      "            self.visit(child_node)\n",
      "        self.current_scope = previous_scope\n",
      "\n",
      "    def visit_FunctionDef(self, node):\n",
      "        if ignore_function.match(node.name):\n",
      "            return\n",
      "        function_name = node.name\n",
      "        previous_scope = self.current_scope\n",
      "        self.current_scope[function_name] = {\"_type\": \"function\"}\n",
      "        self.current_scope = self.current_scope[function_name]\n",
      "        for child_node in node.body:\n",
      "            self.visit(child_node)\n",
      "        self.current_scope = previous_scope\n",
      "\n"
     ]
    }
   ],
   "source": [
    "s=A_GIS.Text.replace_block(text=h.body,find_block=i.body,replace_with='import A_GIS.function_'+i.hash+' as '+i.name)\n",
    "print(s)"
   ]
  },
  {
   "cell_type": "code",
   "execution_count": null,
   "id": "6d00b3c9-e247-4715-bde1-4f6d4fa286ea",
   "metadata": {},
   "outputs": [],
   "source": []
  }
 ],
 "metadata": {
  "kernelspec": {
   "display_name": "Python 3 (ipykernel)",
   "language": "python",
   "name": "python3"
  },
  "language_info": {
   "codemirror_mode": {
    "name": "ipython",
    "version": 3
   },
   "file_extension": ".py",
   "mimetype": "text/x-python",
   "name": "python",
   "nbconvert_exporter": "python",
   "pygments_lexer": "ipython3",
   "version": "3.11.5"
  }
 },
 "nbformat": 4,
 "nbformat_minor": 5
}
