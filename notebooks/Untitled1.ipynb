{
 "cells": [
  {
   "cell_type": "code",
   "execution_count": 1,
   "id": "cec7902c-7ed5-41c7-868c-7aa8f055ba3a",
   "metadata": {},
   "outputs": [
    {
     "ename": "ModuleNotFoundError",
     "evalue": "No module named 'A_GIS'",
     "output_type": "error",
     "traceback": [
      "\u001b[0;31m---------------------------------------------------------------------------\u001b[0m",
      "\u001b[0;31mModuleNotFoundError\u001b[0m                       Traceback (most recent call last)",
      "Cell \u001b[0;32mIn[1], line 1\u001b[0m\n\u001b[0;32m----> 1\u001b[0m \u001b[38;5;28;01mimport\u001b[39;00m \u001b[38;5;21;01mA_GIS\u001b[39;00m\u001b[38;5;21;01m.\u001b[39;00m\u001b[38;5;21;01mCode\u001b[39;00m\u001b[38;5;21;01m.\u001b[39;00m\u001b[38;5;21;01mDocstring\u001b[39;00m\u001b[38;5;21;01m.\u001b[39;00m\u001b[38;5;21;01minit\u001b[39;00m\n\u001b[1;32m      2\u001b[0m \u001b[38;5;28;01mimport\u001b[39;00m \u001b[38;5;21;01mA_GIS\u001b[39;00m\u001b[38;5;21;01m.\u001b[39;00m\u001b[38;5;21;01mCode\u001b[39;00m\u001b[38;5;21;01m.\u001b[39;00m\u001b[38;5;21;01mDocstring\u001b[39;00m\u001b[38;5;21;01m.\u001b[39;00m\u001b[38;5;21;01mfix_short_description\u001b[39;00m\n\u001b[1;32m      3\u001b[0m \u001b[38;5;28;01mimport\u001b[39;00m \u001b[38;5;21;01mA_GIS\u001b[39;00m\u001b[38;5;21;01m.\u001b[39;00m\u001b[38;5;21;01mCode\u001b[39;00m\u001b[38;5;21;01m.\u001b[39;00m\u001b[38;5;21;01mDocstring\u001b[39;00m\u001b[38;5;21;01m.\u001b[39;00m\u001b[38;5;21;01mcheck_short_description\u001b[39;00m\n",
      "\u001b[0;31mModuleNotFoundError\u001b[0m: No module named 'A_GIS'"
     ]
    }
   ],
   "source": [
    "import A_GIS.Code.Docstring.init\n",
    "import A_GIS.Code.Docstring.fix_short_description\n",
    "import A_GIS.Code.Docstring.check_short_description\n",
    "\n",
    "import textwrap\n",
    "import re"
   ]
  },
  {
   "cell_type": "code",
   "execution_count": 23,
   "id": "96f8e9e2-06d7-4343-8958-6f29d41ce0c8",
   "metadata": {},
   "outputs": [],
   "source": [
    "text1 = \"\"\"Extracts the content between specified Markdown code block markers\n",
    "\n",
    "    Extracts the content between specified Markdown code block markers, preserving\n",
    "    the relative indentation of the content. Extracts the content between specified Markdown code block markers, preserving the relative indentation of the content. Extracts the content between specified Markdown code block markers, preserving\n",
    "    the relative indentation of the content.\n",
    "    \n",
    "    ```python\n",
    "    import A_GIS.Code.distill\n",
    "    print(\"hello\")\n",
    "    ```\n",
    "\n",
    "    Args:\n",
    "        text (str): The input Markdown text from which to extract the content.\n",
    "    \n",
    "        block_name (str): The language specifier for the code block. Defaults to 'python'. This is a really long line that should be wrapped.\n",
    "        opening (str): The opening marker for the code block.\n",
    "        closing (str): The closing marker for the code block.\n",
    "\n",
    "    Returns:\n",
    "        tuple(str,str): \n",
    "            The extracted content from the specified Markdown code block, preserving relative indentation.\n",
    "            The block name extracted, if any; otherwise, returns an empty string.\n",
    "    \"\"\"\n",
    "text2 =     \"\"\"Generate the stem of a word using natural language processing (NLP).\n",
    "\n",
    "    The function uses NLP to find the root form of an input word, which is useful for\n",
    "    categorizing words based on their meanings. For instance, 'running' would be reduced to 'run',\n",
    "    and 'inserts' would become 'insert'.\n",
    "\n",
    "    Args:\n",
    "        word (str): The word from which to generate the stem.\n",
    "\n",
    "    Returns:\n",
    "        str: The root form of the input word, as determined by NLP.\n",
    "\n",
    "    \"\"\"\n",
    "\n"
   ]
  },
  {
   "cell_type": "code",
   "execution_count": null,
   "id": "a298f12b-9309-45df-a1e2-4e7afb900edc",
   "metadata": {},
   "outputs": [],
   "source": []
  },
  {
   "cell_type": "code",
   "execution_count": 24,
   "id": "1974bb3d-4975-43d4-8629-0dde25a127de",
   "metadata": {},
   "outputs": [
    {
     "name": "stdout",
     "output_type": "stream",
     "text": [
      "[<docstring_parser.common.DocstringParam object at 0x2b0fafb90>]\n",
      "\n",
      "Generate the stem of a word using natural language processing (NLP).\n",
      "\n",
      "    The function uses NLP to find the root form of an input word, which is useful for\n",
      "    categorizing words based on their meanings. For instance, 'running' would be reduced to 'run',\n",
      "    and 'inserts' would become 'insert'.\n",
      "\n",
      "    Args:\n",
      "        word (str):\n",
      "            The word from which to generate the stem.\n",
      "\n",
      "    Returns:\n",
      "        str:\n",
      "            The root form of the input word, as determined by NLP.\n"
     ]
    }
   ],
   "source": [
    "docstring = A_GIS.Code.Docstring.init(text=text2)\n",
    "print(docstring.params)\n",
    "print()\n",
    "print(docstring)"
   ]
  },
  {
   "cell_type": "code",
   "execution_count": 25,
   "id": "57c84b8a-3c64-4f1e-b801-e4f2f3458dc6",
   "metadata": {},
   "outputs": [
    {
     "data": {
      "text/plain": [
       "Generate the stem of a word using natural language processing (NLP).\n",
       "\n",
       "    The function uses NLP to find the root form of an input word, which\n",
       "    is useful for categorizing words based on their meanings. For\n",
       "    instance, 'running' would be reduced to 'run', and 'inserts' would\n",
       "    become 'insert'.\n",
       "\n",
       "    Args:\n",
       "        word (str):\n",
       "            The word from which to generate the stem.\n",
       "\n",
       "    Returns:\n",
       "        str:\n",
       "            The root form of the input word, as determined by NLP."
      ]
     },
     "execution_count": 25,
     "metadata": {},
     "output_type": "execute_result"
    }
   ],
   "source": [
    "A_GIS.Code.Docstring.reformat(docstring=docstring)"
   ]
  },
  {
   "cell_type": "code",
   "execution_count": 26,
   "id": "2b6acbfd-657d-4092-ad5c-de66c1a87797",
   "metadata": {},
   "outputs": [
    {
     "name": "stderr",
     "output_type": "stream",
     "text": [
      "[nltk_data] Downloading package averaged_perceptron_tagger to\n",
      "[nltk_data]     /Users/ww5/nltk_data...\n",
      "[nltk_data]   Package averaged_perceptron_tagger is already up-to-\n",
      "[nltk_data]       date!\n"
     ]
    },
    {
     "name": "stdout",
     "output_type": "stream",
     "text": [
      "{'model': 'mixtral', 'created_at': '2024-03-24T21:22:57.057362Z', 'message': {'role': 'assistant', 'content': ' Extract root form of word with NLP.\\n\\nNote: The updated description is shorter than'}, 'done': True, 'total_duration': 2131511833, 'load_duration': 1430833, 'prompt_eval_count': 98, 'prompt_eval_duration': 1549107000, 'eval_count': 20, 'eval_duration': 576479000}\n",
      "s1 Extract root form of word with NLP.\n",
      "\n",
      "Note: The updated description is shorter than\n",
      "s2 Extract root form of word with NLP.\n",
      "s3 Extract root form of word with NLP.\n",
      "stem Extract\n",
      "s4 Extract root form of word with NLP.\n"
     ]
    },
    {
     "name": "stderr",
     "output_type": "stream",
     "text": [
      "[nltk_data] Downloading package averaged_perceptron_tagger to\n",
      "[nltk_data]     /Users/ww5/nltk_data...\n",
      "[nltk_data]   Package averaged_perceptron_tagger is already up-to-\n",
      "[nltk_data]       date!\n"
     ]
    }
   ],
   "source": [
    "ds=A_GIS.Code.Docstring.fix_short_description(docstring=docstring)"
   ]
  },
  {
   "cell_type": "code",
   "execution_count": 6,
   "id": "919312df-c339-4abf-baeb-633ba65108c6",
   "metadata": {},
   "outputs": [
    {
     "name": "stdout",
     "output_type": "stream",
     "text": [
      "Improve function's short description using AI, if needed.\n",
      "\n",
      "    This function fixes the short description of a function's docstring\n",
      "    using AI-generated suggestions. It checks the existing short\n",
      "    description for any issues and suggests corrections through an AI\n",
      "    model. The AI model is only engaged when issues are identified or\n",
      "    when `force_ai` is set to True.\n",
      "\n",
      "    Args:\n",
      "        docstring (A_GIS.Code.Docstring._Docstring):\n",
      "            The docstring object of the function.\n",
      "        force_ai (bool, optional):\n",
      "            If True, AI assistance will be used regardless of whether issues are\n",
      "            present in the short description.\n",
      "\n",
      "    Returns:\n",
      "        str:\n",
      "            The updated docstring with a new or improved short description.\n",
      "\n",
      "    Raises:\n",
      "        ValueError:\n",
      "            If the AI-suggested short description does not meet all requirements.\n"
     ]
    }
   ],
   "source": [
    "print(ds)"
   ]
  },
  {
   "cell_type": "code",
   "execution_count": 7,
   "id": "036d8be6-8a73-4337-a5b0-e746921f1542",
   "metadata": {},
   "outputs": [
    {
     "data": {
      "text/plain": [
       "'improvise'"
      ]
     },
     "execution_count": 7,
     "metadata": {},
     "output_type": "execute_result"
    }
   ],
   "source": [
    "import A_GIS.Text.get_word_stem\n",
    "A_GIS.Text.get_word_stem(word='improvise')"
   ]
  },
  {
   "cell_type": "code",
   "execution_count": 27,
   "id": "3fff5854-f9ff-4311-8cc6-40dac801cef9",
   "metadata": {},
   "outputs": [
    {
     "name": "stdout",
     "output_type": "stream",
     "text": [
      "rule\n",
      "['improve']\n"
     ]
    }
   ],
   "source": [
    "import spacy\n",
    "\n",
    "# English pipelines include a rule-based lemmatizer\n",
    "nlp = spacy.load(\"en_core_web_sm\")\n",
    "lemmatizer = nlp.get_pipe(\"lemmatizer\")\n",
    "print(lemmatizer.mode)  # 'rule'\n",
    "\n",
    "doc = nlp(\"Improving\")\n",
    "print([token.lemma_ for token in doc])\n",
    "# ['I', 'be', 'read', 'the', 'paper', '.']\n"
   ]
  },
  {
   "cell_type": "code",
   "execution_count": 9,
   "id": "10b8b4b6-cef5-4b15-b693-39413e1b82d6",
   "metadata": {},
   "outputs": [
    {
     "name": "stdout",
     "output_type": "stream",
     "text": [
      "Generate word's base form using Spacy NLP.\n",
      "\n",
      "    Generates the stem of a given word using natural language processing\n",
      "    (NLP). The stem is a base form of the word, which can be used to\n",
      "    categorize or compare words. For example, \"running\" will become\n",
      "    \"run\".\n",
      "\n",
      "    Args:     word (str): The input word for which we want to get the\n",
      "    stem.\n",
      "\n",
      "    Returns:     str: The stem of the given word.\n",
      "\n",
      "    Raises:     None\n",
      "\n",
      "    Requirements:     - Python 3.6 or higher     - Spacy version 2.0 or\n",
      "    higher     - \"en_core_web_sm\" model should be installed in spacy's\n",
      "    models. If not, run `python -m spacy download en_core_web_sm` to\n",
      "    install it.\n",
      "\n",
      "    Note: The function uses the English language model for Spacy and its\n",
      "    lemmatizer to generate the stem of the word.\n"
     ]
    }
   ],
   "source": [
    "z=\"Generate word's base form using Spacy NLP.\\n\\n    Generates the stem of a given word using natural language processing\\n    (NLP). The stem is a base form of the word, which can be used to\\n    categorize or compare words. For example, \\\"running\\\" will become\\n    \\\"run\\\".\\n\\n    Args:     word (str): The input word for which we want to get the\\n    stem.\\n\\n    Returns:     str: The stem of the given word.\\n\\n    Raises:     None\\n\\n    Requirements:     - Python 3.6 or higher     - Spacy version 2.0 or\\n    higher     - \\\"en_core_web_sm\\\" model should be installed in spacy's\\n    models. If not, run `python -m spacy download en_core_web_sm` to\\n    install it.\\n\\n    Note: The function uses the English language model for Spacy and its\\n    lemmatizer to generate the stem of the word.\"\n",
    "print(z)"
   ]
  },
  {
   "cell_type": "code",
   "execution_count": 33,
   "id": "8f861598-4c91-4015-9f20-d3760b6c30b5",
   "metadata": {},
   "outputs": [
    {
     "name": "stdout",
     "output_type": "stream",
     "text": [
      "To to PART TO aux Xx True True\n",
      "get get VERB VB ROOT xxx True True\n",
      "the the PRON DT dobj xxx True True\n",
      "after after ADP IN prep xxxx True True\n",
      "tag tag NOUN NN pcomp xxx True False\n",
      "a a DET DT det x True True\n",
      "piece piece NOUN NN dobj xxxx True False\n",
      "of of ADP IN prep xx True True\n",
      "Text text NOUN NN pobj Xxxx True False\n",
      "within within ADP IN prep xxxx True True\n",
      "A_GIS a_gis ADJ JJ compound X_XXX False False\n",
      "framework framework NOUN NN pobj xxxx True False\n",
      ". . PUNCT . punct . False False\n"
     ]
    }
   ],
   "source": [
    "import spacy\n",
    "\n",
    "nlp = spacy.load(\"en_core_web_sm\")\n",
    "doc = nlp(\"To get the after tag a piece of Text within A_GIS framework.\")\n",
    "\n",
    "for token in doc:\n",
    "    print(token.text, token.lemma_, token.pos_, token.tag_, token.dep_,\n",
    "            token.shape_, token.is_alpha, token.is_stop)\n"
   ]
  },
  {
   "cell_type": "code",
   "execution_count": null,
   "id": "b017977a-b863-496e-9391-b985099de941",
   "metadata": {},
   "outputs": [],
   "source": []
  }
 ],
 "metadata": {
  "kernelspec": {
   "display_name": "Python 3 (ipykernel)",
   "language": "python",
   "name": "python3"
  },
  "language_info": {
   "codemirror_mode": {
    "name": "ipython",
    "version": 3
   },
   "file_extension": ".py",
   "mimetype": "text/x-python",
   "name": "python",
   "nbconvert_exporter": "python",
   "pygments_lexer": "ipython3",
   "version": "3.11.5"
  }
 },
 "nbformat": 4,
 "nbformat_minor": 5
}
