{
 "cells": [
  {
   "cell_type": "code",
   "execution_count": 8,
   "id": "7f39f87e-16b2-4960-b642-e2f10c5c6142",
   "metadata": {},
   "outputs": [],
   "source": [
    "import random\n",
    "\n",
    "# Function to simulate coin flips\n",
    "def simulate_coin_flips(num_flips):\n",
    "    return [random.choice(['H', 'T']) for _ in range(num_flips)]\n",
    "\n",
    "# Function to calculate the percentage of heads in the last `num_flips`\n",
    "def calculate_heads_percentage(flip_history, num_flips):\n",
    "    if len(flip_history) < num_flips:\n",
    "        return None\n",
    "    relevant_flips = flip_history[-num_flips:]\n",
    "    heads_count = relevant_flips.count('H')\n",
    "    percentage_heads = (heads_count / num_flips) * 100\n",
    "    return percentage_heads\n",
    "\n",
    "def main(total_flips):\n",
    "    flip_history = simulate_coin_flips(total_flips)\n",
    "    \n",
    "    # Track how often heads is exactly 50% for the last 100 and 1000 flips\n",
    "    exact_50_percent_last_100 = 0\n",
    "    exact_50_percent_last_1000 = 0\n",
    "    exact_50_percent_both = 0\n",
    "\n",
    "    when = []\n",
    "    for i in range(100, total_flips + 1):\n",
    "        last_100_percent_heads = calculate_heads_percentage(flip_history[:i], 100)\n",
    "        last_1000_percent_heads = calculate_heads_percentage(flip_history[:i], 1000)\n",
    "        \n",
    "        # Check for 50% heads in the last 100 flips\n",
    "        last100 = last_100_percent_heads is not None and last_100_percent_heads == 50\n",
    "        if last100:\n",
    "            exact_50_percent_last_100 += 1\n",
    "        \n",
    "        # Check for 50% heads in the last 1000 flips\n",
    "        last1000 = last_1000_percent_heads is not None and last_1000_percent_heads == 50\n",
    "        if last1000:\n",
    "            exact_50_percent_last_1000 += 1\n",
    "\n",
    "        if last100 and last1000:\n",
    "            exact_50_percent_both += 1\n",
    "            when.append(i)\n",
    "\n",
    "    print(f\"Exact 50% heads in last 100 flips: {exact_50_percent_last_100} times\")\n",
    "    print(f\"Exact 50% heads in last 1000 flips: {exact_50_percent_last_1000} times\")\n",
    "    print(f\"Exact 50% heads in last 100&1000 flips: {exact_50_percent_both} times\")\n",
    "    return when"
   ]
  },
  {
   "cell_type": "code",
   "execution_count": 9,
   "id": "2761e484-8051-4432-8a60-29fc20b88dfd",
   "metadata": {},
   "outputs": [
    {
     "name": "stdout",
     "output_type": "stream",
     "text": [
      "Exact 50% heads in last 100 flips: 7898 times\n",
      "Exact 50% heads in last 1000 flips: 2496 times\n",
      "Exact 50% heads in last 100&1000 flips: 222 times\n"
     ]
    }
   ],
   "source": [
    "ngames=1e5\n",
    "when=main(ngames)"
   ]
  },
  {
   "cell_type": "code",
   "execution_count": 13,
   "id": "da435c66-5aac-4d4e-b4f9-2e9a9710dbdd",
   "metadata": {},
   "outputs": [
    {
     "name": "stdout",
     "output_type": "stream",
     "text": [
      "222\n",
      "450.45045045045043\n"
     ]
    }
   ],
   "source": [
    "print(len(when))\n",
    "print(ngames/len(when))"
   ]
  },
  {
   "cell_type": "code",
   "execution_count": null,
   "id": "69f80601-d28c-4d52-b83a-5188fadc1150",
   "metadata": {},
   "outputs": [],
   "source": []
  }
 ],
 "metadata": {
  "kernelspec": {
   "display_name": "Python 3 (ipykernel)",
   "language": "python",
   "name": "python3"
  },
  "language_info": {
   "codemirror_mode": {
    "name": "ipython",
    "version": 3
   },
   "file_extension": ".py",
   "mimetype": "text/x-python",
   "name": "python",
   "nbconvert_exporter": "python",
   "pygments_lexer": "ipython3",
   "version": "3.11.5"
  }
 },
 "nbformat": 4,
 "nbformat_minor": 5
}
