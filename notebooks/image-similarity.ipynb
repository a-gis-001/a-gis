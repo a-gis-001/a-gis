{
 "cells": [
  {
   "cell_type": "code",
   "execution_count": 1,
   "id": "f4c06dd2",
   "metadata": {},
   "outputs": [],
   "source": [
    "import A_GIS"
   ]
  },
  {
   "cell_type": "code",
   "execution_count": 2,
   "id": "a3c9b572-f047-44c2-bb9c-a6d591cfd6a0",
   "metadata": {},
   "outputs": [
    {
     "name": "stdout",
     "output_type": "stream",
     "text": [
      "Images: 191\n"
     ]
    }
   ],
   "source": [
    "import pathlib\n",
    "from PIL import Image\n",
    "import os\n",
    "\n",
    "image_dir=os.environ.get('HOME')+\"/Downloads\"\n",
    "image_paths=[image_dir]\n",
    "#image_paths=list(Path(\"/media/wawiesel/OS/Users/home/Desktop/Last-Backup/Pictures/2018-Peru\").rglob(\"P10803*.JPG\"))\n",
    "# Load the images\n",
    "image_names=[]\n",
    "for path0 in image_paths:\n",
    "    path = pathlib.Path(path0)\n",
    "    if path.is_file():\n",
    "        image_names.append(path)\n",
    "    else:\n",
    "        image_names.extend(list(path.glob('*.jpg')))\n",
    "        image_names.extend(list(path.glob('*.png')))        \n",
    "print(\"Images:\", len(image_names))\n",
    "images = [Image.open(filepath) for filepath in image_names]"
   ]
  },
  {
   "cell_type": "code",
   "execution_count": 18,
   "id": "3d910ae3-23dc-4cac-bde6-a081fde0e828",
   "metadata": {},
   "outputs": [
    {
     "data": {
      "application/vnd.jupyter.widget-view+json": {
       "model_id": "dd76bbd0db6441e6b3487f82c9e30f32",
       "version_major": 2,
       "version_minor": 0
      },
      "text/plain": [
       "Batches:   0%|          | 0/3 [00:00<?, ?it/s]"
      ]
     },
     "metadata": {},
     "output_type": "display_data"
    }
   ],
   "source": [
    "encoder = A_GIS.Image.Encoder.init()\n",
    "encoded_images = encoder = A_GIS.Image.Encoder.encode(encoder=encoder,images=images)\n",
    "collection = A_GIS.Image.Collection.init()\n",
    "collection = A_GIS.Image.Collection.insert(collection=collection,ids=image_names,encodings=encoded_images)"
   ]
  },
  {
   "cell_type": "code",
   "execution_count": 25,
   "id": "978fb54b-e421-4437-a525-eacc579be888",
   "metadata": {},
   "outputs": [],
   "source": [
    "results = A_GIS.Image.Collection.search(collection=collection,encodings=[encoded_images[50]])"
   ]
  },
  {
   "cell_type": "code",
   "execution_count": 26,
   "id": "bdea0c57-d3b7-43c9-8459-81f9411b3893",
   "metadata": {},
   "outputs": [
    {
     "name": "stdout",
     "output_type": "stream",
     "text": [
      "\n",
      "Search result for 0th vector: \n",
      "Top 0: id: /home/wawiesel/Downloads/art-lady-cat.png, distance: 0.0, entity: {}\n",
      "Top 1: id: /home/wawiesel/Downloads/00148.png, distance: 71.94987487792969, entity: {}\n",
      "Top 2: id: /home/wawiesel/Downloads/ll.png, distance: 74.18580627441406, entity: {}\n",
      "Top 3: id: /home/wawiesel/Downloads/liz1.png, distance: 76.54486846923828, entity: {}\n",
      "Top 4: id: /home/wawiesel/Downloads/7bf431fe-3803-4619-8c56-7c2ff4c38809.png, distance: 76.68841552734375, entity: {}\n",
      "Top 5: id: /home/wawiesel/Downloads/big-artxz.png, distance: 78.24763488769531, entity: {}\n",
      "Top 6: id: /home/wawiesel/Downloads/big-art2.png, distance: 78.43203735351562, entity: {}\n",
      "Top 7: id: /home/wawiesel/Downloads/purple.png, distance: 78.74029541015625, entity: {}\n",
      "Top 8: id: /home/wawiesel/Downloads/00008.png, distance: 79.14649963378906, entity: {}\n",
      "Top 9: id: /home/wawiesel/Downloads/twerk.png, distance: 79.95071411132812, entity: {}\n",
      "Top 10: id: /home/wawiesel/Downloads/ae2.jpg, distance: 80.03182983398438, entity: {}\n",
      "11 ['/home/wawiesel/Downloads/art-lady-cat.png', '/home/wawiesel/Downloads/00148.png', '/home/wawiesel/Downloads/ll.png', '/home/wawiesel/Downloads/liz1.png', '/home/wawiesel/Downloads/7bf431fe-3803-4619-8c56-7c2ff4c38809.png', '/home/wawiesel/Downloads/big-artxz.png', '/home/wawiesel/Downloads/big-art2.png', '/home/wawiesel/Downloads/purple.png', '/home/wawiesel/Downloads/00008.png', '/home/wawiesel/Downloads/twerk.png', '/home/wawiesel/Downloads/ae2.jpg']\n"
     ]
    },
    {
     "data": {
      "application/vnd.jupyter.widget-view+json": {
       "model_id": "b7d0207e2b8f4082adb19bafbe5ed609",
       "version_major": 2,
       "version_minor": 0
      },
      "text/plain": [
       "GridBox(children=(VBox(children=(Image(value=b'\\x89PNG\\r\\n\\x1a\\n\\x00\\x00\\x00\\rIHDR\\x00\\x00\\x02\\xf0\\x00\\x00\\x02…"
      ]
     },
     "metadata": {},
     "output_type": "display_data"
    }
   ],
   "source": [
    "import os\n",
    "#from anytree import Node, RenderTree\n",
    "import IPython.display as ipd\n",
    "import ipywidgets as widgets\n",
    "import json\n",
    "\n",
    "#debug output\n",
    "if True:\n",
    "    for i, result in enumerate(results):\n",
    "        print(\"\\nSearch result for {}th vector: \".format(i))\n",
    "        for j, res in enumerate(result):\n",
    "            print(\"Top {}: {}\".format(j, res))\n",
    "        \n",
    "a = []\n",
    "ids = results[0].ids\n",
    "print(len(ids),ids)\n",
    "for i in range(len(ids)):\n",
    "    p = ids[i]\n",
    "    dist = results[0].distances[i]\n",
    "    f = os.path.basename(p)\n",
    "    \n",
    "    # Create the image widget with adjusted size\n",
    "    img = widgets.Image(value=open(p, 'rb').read(), format='png', width='180px', height='180px')  # Reduced width to avoid padding issues\n",
    "    \n",
    "    # Create a label for the distance\n",
    "    label = widgets.Label(value=\"{:.1f}\".format(dist), layout=widgets.Layout(color='red', width='180px', overflow='hidden'))\n",
    "    \n",
    "    # Create a container (VBox) for the image and the label\n",
    "    box = widgets.VBox([img, label], layout=widgets.Layout(align_items='center', justify_content='center', width='200px', overflow='hidden'))\n",
    "    \n",
    "    # Append the container to the list\n",
    "    a.append(box)\n",
    "\n",
    "# Create a GridBox with all VBoxes, adjusted to avoid any overflow\n",
    "wid = widgets.GridBox(a, layout=widgets.Layout(grid_template_columns=\"repeat(auto-fill, minmax(200px, 1fr))\", width='auto', overflow='hidden'))\n",
    "ipd.display(wid)"
   ]
  },
  {
   "cell_type": "code",
   "execution_count": null,
   "id": "af14d555-f46e-44ea-8d23-7eef43eb2c8c",
   "metadata": {},
   "outputs": [],
   "source": []
  }
 ],
 "metadata": {
  "kernelspec": {
   "display_name": "Python (venv)",
   "language": "python",
   "name": "venv"
  },
  "language_info": {
   "codemirror_mode": {
    "name": "ipython",
    "version": 3
   },
   "file_extension": ".py",
   "mimetype": "text/x-python",
   "name": "python",
   "nbconvert_exporter": "python",
   "pygments_lexer": "ipython3",
   "version": "3.10.7"
  }
 },
 "nbformat": 4,
 "nbformat_minor": 5
}
