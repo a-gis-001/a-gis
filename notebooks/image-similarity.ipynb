{
 "cells": [
  {
   "cell_type": "code",
   "execution_count": 55,
   "id": "f4c06dd2",
   "metadata": {},
   "outputs": [],
   "source": [
    "def Collection_init(*,base_dir='__a_gis_image_db__',host='127.0.0.1',port=19530,name='image_db',\n",
    "                   id={'length':256,'description':'filename','name':'id'},\n",
    "                   vec={'dim':512,'description':'encoding','name':'vec'},\n",
    "                   album={'length':256,'description':'name of album','name':'album'}):\n",
    "    import milvus\n",
    "    import pymilvus\n",
    "    import dataclasses\n",
    "    import typing\n",
    "\n",
    "    # Optional, if you want store all related data to specific location\n",
    "    # default it wil using %APPDATA%/milvus-io/milvus-server\n",
    "    milvus.default_server.set_base_dir(base_dir)\n",
    "    \n",
    "    # start you milvus server\n",
    "    if not milvus.default_server.running:\n",
    "        milvus.default_server.start()\n",
    "        milvus.default_server.cleanup()\n",
    "\n",
    "    # connect\n",
    "    pymilvus.connections.connect(host=host, port=port)\n",
    "\n",
    "    # Create.\n",
    "    field1 = pymilvus.FieldSchema(name=id['name'], dtype=pymilvus.DataType.VARCHAR, max_length=id['length'], description=id[\"description\"], is_primary=True)\n",
    "    field2 = pymilvus.FieldSchema(name=vec['name'], dtype=pymilvus.DataType.FLOAT_VECTOR, description=\"float vector\", dim=vec['dim'],is_primary=False)\n",
    "    field3 = pymilvus.FieldSchema(name=album['name'], dtype=pymilvus.DataType.VARCHAR, max_length=album['length'], description=album['description'], is_primary=False)\n",
    "    schema = pymilvus.CollectionSchema(fields=[field1, field2], description=\"collection description\")\n",
    "    db = pymilvus.Collection(name=name, data=None, schema=schema, properties={\"collection.ttl.seconds\": 15})\n",
    "    \n",
    "    @dataclasses.dataclass\n",
    "    class _Collection:\n",
    "        base_dir: str\n",
    "        host: str\n",
    "        name: str\n",
    "        port: int\n",
    "        id: dict\n",
    "        vec: dict\n",
    "        album :str\n",
    "        db: typing.Any\n",
    "    \n",
    "    return _Collection(base_dir=base_dir,host=host,name=name,port=port,id=id,vec=vec,album=album,db=db)\n",
    "\n",
    "def Collection_insert(*,collection,ids,encodings):\n",
    "    import numpy\n",
    "    #Require length of ids and encodings are the same\n",
    "    data=[\n",
    "        [str(x) for x in ids],\n",
    "        [numpy.asarray(x.cpu()) for x in encodings]\n",
    "    ]\n",
    "    collection.db.insert(data)\n",
    "    return collection\n",
    "\n",
    "def Encoder_init(*,model='clip-ViT-B-32'):\n",
    "    import sentence_transformers\n",
    "    encoder = sentence_transformers.SentenceTransformer(model)\n",
    "    return encoder\n",
    "\n",
    "def Encoder_encode(*,encoder,images,batch_size=64,show_progress_bar=True):\n",
    "    return encoder.encode(images, batch_size=batch_size, convert_to_tensor=True, show_progress_bar=show_progress_bar)\n",
    "\n",
    "def Collection_search(*,collection,encodings,topk=32,nprobe=16,nlist=1024):\n",
    "    import numpy\n",
    "    search_vectors=[numpy.asarray(x.cpu()) for x in encodings]\n",
    "    \n",
    "    # Create an index.\n",
    "    _METRIC_TYPE = 'L2'\n",
    "    _INDEX_TYPE = 'IVF_FLAT'\n",
    "    index_param = {\n",
    "        \"index_type\": _INDEX_TYPE,\n",
    "        \"params\": {\"nlist\": nlist},\n",
    "        \"metric_type\": _METRIC_TYPE}\n",
    "    collection.db.create_index(collection.vec['name'], index_param)\n",
    "\n",
    "    # Search the index.\n",
    "    search_param = {\n",
    "        \"data\": search_vectors,\n",
    "        \"anns_field\": collection.vec['name'],\n",
    "        \"param\": {\"metric_type\": _METRIC_TYPE, \"params\": {\"nprobe\": nprobe}},\n",
    "        \"limit\": topk\n",
    "        }\n",
    "\n",
    "    collection.db.load()\n",
    "    return collection.db.search(**search_param)\n",
    "\n",
    "\n"
   ]
  },
  {
   "cell_type": "code",
   "execution_count": 92,
   "id": "a3c9b572-f047-44c2-bb9c-a6d591cfd6a0",
   "metadata": {},
   "outputs": [
    {
     "name": "stdout",
     "output_type": "stream",
     "text": [
      "Images: 191\n"
     ]
    }
   ],
   "source": [
    "import pathlib\n",
    "from PIL import Image\n",
    "import os\n",
    "\n",
    "image_dir=os.environ.get('HOME')+\"/Downloads\"\n",
    "image_paths=[image_dir]\n",
    "#image_paths=list(Path(\"/media/wawiesel/OS/Users/home/Desktop/Last-Backup/Pictures/2018-Peru\").rglob(\"P10803*.JPG\"))\n",
    "# Load the images\n",
    "image_names=[]\n",
    "for path0 in image_paths:\n",
    "    path = pathlib.Path(path0)\n",
    "    if path.is_file():\n",
    "        image_names.append(path)\n",
    "    else:\n",
    "        image_names.extend(list(path.glob('*.jpg')))\n",
    "        image_names.extend(list(path.glob('*.png')))        \n",
    "print(\"Images:\", len(image_names))\n",
    "images = [Image.open(filepath) for filepath in image_names]"
   ]
  },
  {
   "cell_type": "code",
   "execution_count": 34,
   "id": "3d910ae3-23dc-4cac-bde6-a081fde0e828",
   "metadata": {},
   "outputs": [],
   "source": [
    "collection = Collection_init()"
   ]
  },
  {
   "cell_type": "code",
   "execution_count": 35,
   "id": "978fb54b-e421-4437-a525-eacc579be888",
   "metadata": {},
   "outputs": [],
   "source": [
    "encoder = Encoder_init()"
   ]
  },
  {
   "cell_type": "code",
   "execution_count": 36,
   "id": "3c7ed83c-3c41-4161-add3-c9133327e958",
   "metadata": {},
   "outputs": [
    {
     "data": {
      "application/vnd.jupyter.widget-view+json": {
       "model_id": "6b9afd8965e9448089509fabc60666a6",
       "version_major": 2,
       "version_minor": 0
      },
      "text/plain": [
       "Batches:   0%|          | 0/3 [00:00<?, ?it/s]"
      ]
     },
     "metadata": {},
     "output_type": "display_data"
    }
   ],
   "source": [
    "encoded_images = Encoder_encode(encoder=encoder,images=images)"
   ]
  },
  {
   "cell_type": "code",
   "execution_count": 45,
   "id": "1b3d94a1-ac09-412d-850a-e9af28fc72c3",
   "metadata": {},
   "outputs": [],
   "source": [
    "collection = Collection_insert(collection=collection,ids=image_names,encodings=encoded_images)"
   ]
  },
  {
   "cell_type": "code",
   "execution_count": 95,
   "id": "07e33f07-57af-44d6-821c-3ceada040a47",
   "metadata": {},
   "outputs": [],
   "source": [
    "results = Collection_search(collection=collection,encodings=[encoded_images[55]],topk=15)"
   ]
  },
  {
   "cell_type": "code",
   "execution_count": 96,
   "id": "bdea0c57-d3b7-43c9-8459-81f9411b3893",
   "metadata": {},
   "outputs": [
    {
     "data": {
      "application/vnd.jupyter.widget-view+json": {
       "model_id": "aac3613943174d50b68f66766bdf04ae",
       "version_major": 2,
       "version_minor": 0
      },
      "text/plain": [
       "GridBox(children=(VBox(children=(Image(value=b'\\x89PNG\\r\\n\\x1a\\n\\x00\\x00\\x00\\rIHDR\\x00\\x00\\x02X\\x00\\x00\\x02X\\x…"
      ]
     },
     "metadata": {},
     "output_type": "display_data"
    }
   ],
   "source": [
    "import os\n",
    "#from anytree import Node, RenderTree\n",
    "import IPython.display as ipd\n",
    "import ipywidgets as widgets\n",
    "import json\n",
    "\n",
    "#debug output\n",
    "if False:\n",
    "    for i, result in enumerate(results):\n",
    "        print(\"\\nSearch result for {}th vector: \".format(i))\n",
    "        for j, res in enumerate(result):\n",
    "            print(\"Top {}: {}\".format(j, res))\n",
    "        \n",
    "a = []\n",
    "ids = results[0].ids\n",
    "for i in range(len(ids)):\n",
    "    p = ids[i]\n",
    "    dist = results[0].distances[i]\n",
    "    f = os.path.basename(p)\n",
    "    \n",
    "    # Create the image widget with adjusted size\n",
    "    img = widgets.Image(value=open(p, 'rb').read(), format='png', width='180px', height='180px')  # Reduced width to avoid padding issues\n",
    "    \n",
    "    # Create a label for the distance\n",
    "    label = widgets.Label(value=\"{:.1f}\".format(dist), layout=widgets.Layout(color='red', width='180px', overflow='hidden'))\n",
    "    \n",
    "    # Create a container (VBox) for the image and the label\n",
    "    box = widgets.VBox([img, label], layout=widgets.Layout(align_items='center', justify_content='center', width='200px', overflow='hidden'))\n",
    "    \n",
    "    # Append the container to the list\n",
    "    a.append(box)\n",
    "\n",
    "# Create a GridBox with all VBoxes, adjusted to avoid any overflow\n",
    "wid = widgets.GridBox(a, layout=widgets.Layout(grid_template_columns=\"repeat(auto-fill, minmax(200px, 1fr))\", width='auto', overflow='hidden'))\n",
    "ipd.display(wid)"
   ]
  }
 ],
 "metadata": {
  "kernelspec": {
   "display_name": "Python (venv)",
   "language": "python",
   "name": "venv"
  },
  "language_info": {
   "codemirror_mode": {
    "name": "ipython",
    "version": 3
   },
   "file_extension": ".py",
   "mimetype": "text/x-python",
   "name": "python",
   "nbconvert_exporter": "python",
   "pygments_lexer": "ipython3",
   "version": "3.10.7"
  }
 },
 "nbformat": 4,
 "nbformat_minor": 5
}
