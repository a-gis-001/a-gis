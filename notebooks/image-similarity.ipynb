{
 "cells": [
  {
   "cell_type": "code",
   "execution_count": 7,
   "id": "f4c06dd2",
   "metadata": {},
   "outputs": [],
   "source": [
    "import A_GIS"
   ]
  },
  {
   "cell_type": "code",
   "execution_count": 8,
   "id": "3d910ae3-23dc-4cac-bde6-a081fde0e828",
   "metadata": {},
   "outputs": [
    {
     "data": {
      "application/vnd.jupyter.widget-view+json": {
       "model_id": "06b856c3dce046a7bb96a35c48f72361",
       "version_major": 2,
       "version_minor": 0
      },
      "text/plain": [
       "Batches:   0%|          | 0/3 [00:00<?, ?it/s]"
      ]
     },
     "metadata": {},
     "output_type": "display_data"
    }
   ],
   "source": [
    "import os\n",
    "image_dir = os.environ.get('HOME') + '/Downloads'\n",
    "images,image_files = A_GIS.Image.glob(paths=[image_dir])\n",
    "encoder = A_GIS.Image.Encoder.init()\n",
    "encoded_images = encoder = A_GIS.Image.Encoder.encode(encoder=encoder,images=images)\n",
    "collection = A_GIS.Image.Collection.init()\n",
    "collection = A_GIS.Image.Collection.insert(collection=collection,ids=image_files,encodings=encoded_images)"
   ]
  },
  {
   "cell_type": "code",
   "execution_count": 9,
   "id": "978fb54b-e421-4437-a525-eacc579be888",
   "metadata": {},
   "outputs": [],
   "source": [
    "results = A_GIS.Image.Collection.search(collection=collection,encodings=[encoded_images[101]])"
   ]
  },
  {
   "cell_type": "code",
   "execution_count": 10,
   "id": "bdea0c57-d3b7-43c9-8459-81f9411b3893",
   "metadata": {},
   "outputs": [
    {
     "name": "stdout",
     "output_type": "stream",
     "text": [
      "\n",
      "Search result for 0th vector: \n",
      "Top 0: id: /home/wawiesel/Downloads/yuri.png, distance: 0.0, entity: {}\n",
      "Top 1: id: /home/wawiesel/Downloads/Leslie-Dewan-02.jpg, distance: 86.24213409423828, entity: {}\n",
      "Top 2: id: /home/wawiesel/Downloads/hqdefault.jpg, distance: 92.16938781738281, entity: {}\n",
      "Top 3: id: /home/wawiesel/Downloads/sam-hallway.png, distance: 96.00593566894531, entity: {}\n",
      "Top 4: id: /home/wawiesel/Downloads/logo11.png, distance: 99.36207580566406, entity: {}\n",
      "Top 5: id: /home/wawiesel/Downloads/beach-facing.jpg, distance: 100.63815307617188, entity: {}\n",
      "Top 6: id: /home/wawiesel/Downloads/big-artxz.png, distance: 102.20387268066406, entity: {}\n",
      "7 ['/home/wawiesel/Downloads/yuri.png', '/home/wawiesel/Downloads/Leslie-Dewan-02.jpg', '/home/wawiesel/Downloads/hqdefault.jpg', '/home/wawiesel/Downloads/sam-hallway.png', '/home/wawiesel/Downloads/logo11.png', '/home/wawiesel/Downloads/beach-facing.jpg', '/home/wawiesel/Downloads/big-artxz.png']\n"
     ]
    },
    {
     "data": {
      "application/vnd.jupyter.widget-view+json": {
       "model_id": "d65f209f97a141df82ab56d19f50540b",
       "version_major": 2,
       "version_minor": 0
      },
      "text/plain": [
       "GridBox(children=(VBox(children=(Image(value=b'\\x89PNG\\r\\n\\x1a\\n\\x00\\x00\\x00\\rIHDR\\x00\\x00\\x02\\x00\\x00\\x00\\x02…"
      ]
     },
     "metadata": {},
     "output_type": "display_data"
    }
   ],
   "source": [
    "import os\n",
    "#from anytree import Node, RenderTree\n",
    "import IPython.display as ipd\n",
    "import ipywidgets as widgets\n",
    "import json\n",
    "\n",
    "#debug output\n",
    "if True:\n",
    "    for i, result in enumerate(results):\n",
    "        print(\"\\nSearch result for {}th vector: \".format(i))\n",
    "        for j, res in enumerate(result):\n",
    "            print(\"Top {}: {}\".format(j, res))\n",
    "        \n",
    "a = []\n",
    "ids = results[0].ids\n",
    "print(len(ids),ids)\n",
    "for i in range(len(ids)):\n",
    "    p = ids[i]\n",
    "    dist = results[0].distances[i]\n",
    "    f = os.path.basename(p)\n",
    "    \n",
    "    # Create the image widget with adjusted size\n",
    "    img = widgets.Image(value=open(p, 'rb').read(), format='png', width='180px', height='180px')  # Reduced width to avoid padding issues\n",
    "    \n",
    "    # Create a label for the distance\n",
    "    label = widgets.Label(value=\"{:.1f}\".format(dist), layout=widgets.Layout(color='red', width='180px', overflow='hidden'))\n",
    "    \n",
    "    # Create a container (VBox) for the image and the label\n",
    "    box = widgets.VBox([img, label], layout=widgets.Layout(align_items='center', justify_content='center', width='200px', overflow='hidden'))\n",
    "    \n",
    "    # Append the container to the list\n",
    "    a.append(box)\n",
    "\n",
    "# Create a GridBox with all VBoxes, adjusted to avoid any overflow\n",
    "wid = widgets.GridBox(a, layout=widgets.Layout(grid_template_columns=\"repeat(auto-fill, minmax(200px, 1fr))\", width='auto', overflow='hidden'))\n",
    "ipd.display(wid)"
   ]
  },
  {
   "cell_type": "code",
   "execution_count": null,
   "id": "af14d555-f46e-44ea-8d23-7eef43eb2c8c",
   "metadata": {},
   "outputs": [],
   "source": []
  }
 ],
 "metadata": {
  "kernelspec": {
   "display_name": "venv",
   "language": "python",
   "name": "venv"
  },
  "language_info": {
   "codemirror_mode": {
    "name": "ipython",
    "version": 3
   },
   "file_extension": ".py",
   "mimetype": "text/x-python",
   "name": "python",
   "nbconvert_exporter": "python",
   "pygments_lexer": "ipython3",
   "version": "3.11.5"
  }
 },
 "nbformat": 4,
 "nbformat_minor": 5
}
