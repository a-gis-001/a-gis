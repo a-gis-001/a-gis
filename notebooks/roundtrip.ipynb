{
 "cells": [
  {
   "cell_type": "code",
   "execution_count": 1,
   "id": "752367ca-b43a-4507-9e24-2425769961a5",
   "metadata": {},
   "outputs": [],
   "source": [
    "file='../source/A_GIS/Code/distill/__init__.py'"
   ]
  },
  {
   "cell_type": "code",
   "execution_count": 2,
   "id": "b1ad410d-d2bd-43bb-aaf2-048c8016ed56",
   "metadata": {},
   "outputs": [
    {
     "name": "stdout",
     "output_type": "stream",
     "text": [
      "def distill(*, code: str) -> str:\n",
      "    \"\"\"Purify the given Python code by removing docstrings, blanking multiline\n",
      "    string literals, and inherently removing comments.\n",
      "\n",
      "    This function parses the provided Python code into an abstract syntax tree (AST),\n",
      "    and then walks through the AST. It identifies and blanks out all docstrings and\n",
      "    multiline string literals. Additionally, due to the nature of AST parsing in Python,\n",
      "    comments (which start with '#') are not included in the AST and hence are not present\n",
      "    in the unparsed code, effectively removing them from the output.\n",
      "\n",
      "    It's important to note that this removal of comments is a byproduct of how the Python\n",
      "    parser and the AST handle comments, rather than an explicit action by this function.\n",
      "\n",
      "    Args:\n",
      "        code (str): A string representing the Python code to be purified.\n",
      "\n",
      "    Returns:\n",
      "        str: A string representing the purified Python code, with docstrings, multiline string\n",
      "             literals, and comments removed.\n",
      "\n",
      "    Examples:\n",
      "        >>> ds=('\"'*3) + 'I am a docstring!' + ('\"'*3)\n",
      "        >>> test_code = f'''\n",
      "        ... def example_function(param1, param2):\n",
      "        ...     {ds}\n",
      "        ...     # This is a comment.\n",
      "        ...     return (param1, param2)\n",
      "        ... '''\n",
      "        >>> print(distill(code=test_code))\n",
      "        def example_function(param1, param2):\n",
      "            return (param1, param2)\n",
      "    \"\"\"\n",
      "\n",
      "    # Parse the code into an abstract syntax tree (AST).\n",
      "    import ast\n",
      "\n",
      "    parsed = ast.parse(code)\n",
      "\n",
      "    # Walk through all nodes in the AST.\n",
      "    for node in ast.walk(parsed):\n",
      "        # Identify docstrings and multiline string literals, and replace them\n",
      "        # with empty strings.\n",
      "        if isinstance(node, ast.Expr) and isinstance(node.value, ast.Str):\n",
      "            node.value = ast.Constant(value=\"\")\n",
      "\n",
      "    # Remove any blank lines or blank docstrings.\n",
      "    import re\n",
      "\n",
      "    distilled_code = re.sub(\n",
      "        r'^\\s*\"\"\"\"\"\"\\s*$\\n', \"\", ast.unparse(parsed), flags=re.MULTILINE\n",
      "    )\n",
      "    return re.sub(r\"\\n\\s*\\n\", \"\\n\", distilled_code)\n",
      "\n"
     ]
    }
   ],
   "source": [
    "import A_GIS\n",
    "\n",
    "code0 = A_GIS.File.read(file=file)\n",
    "print(code0)"
   ]
  },
  {
   "cell_type": "code",
   "execution_count": 3,
   "id": "d35b4d88-e726-45c9-a3c4-fed92f17a02f",
   "metadata": {},
   "outputs": [
    {
     "name": "stdout",
     "output_type": "stream",
     "text": [
      "def distill(*, code: str) -> str:\n",
      "    \"\"\"Purify the given Python code by removing docstrings, blanking multiline\n",
      "    string literals, and inherently removing comments.\n",
      "\n",
      "    This function parses the provided Python code into an abstract syntax tree (AST),\n",
      "    and then walks through the AST. It identifies and blanks out all docstrings and\n",
      "    multiline string literals. Additionally, due to the nature of AST parsing in Python,\n",
      "    comments (which start with '#') are not included in the AST and hence are not present\n",
      "    in the unparsed code, effectively removing them from the output.\n",
      "\n",
      "    It's important to note that this removal of comments is a byproduct of how the Python\n",
      "    parser and the AST handle comments, rather than an explicit action by this function.\n",
      "\n",
      "    Args:\n",
      "        code (str): A string representing the Python code to be purified.\n",
      "\n",
      "    Returns:\n",
      "        str: A string representing the purified Python code, with docstrings, multiline string\n",
      "             literals, and comments removed.\n",
      "\n",
      "    Examples:\n",
      "        >>> ds=('\"'*3) + 'I am a docstring!' + ('\"'*3)\n",
      "        >>> test_code = f'''\n",
      "        ... def example_function(param1, param2):\n",
      "        ...     {ds}\n",
      "        ...     # This is a comment.\n",
      "        ...     return (param1, param2)\n",
      "        ... '''\n",
      "        >>> print(distill(code=test_code))\n",
      "        def example_function(param1, param2):\n",
      "            return (param1, param2)\n",
      "    \"\"\"\n",
      "\n",
      "    # Parse the code into an abstract syntax tree (AST).\n",
      "    import ast\n",
      "\n",
      "    parsed = ast.parse(code)\n",
      "\n",
      "    # Walk through all nodes in the AST.\n",
      "    for node in ast.walk(parsed):\n",
      "        # Identify docstrings and multiline string literals, and replace them\n",
      "        # with empty strings.\n",
      "        if isinstance(node, ast.Expr) and isinstance(node.value, ast.Str):\n",
      "            node.value = ast.Constant(value=\"\")\n",
      "\n",
      "    # Remove any blank lines or blank docstrings.\n",
      "    import re\n",
      "\n",
      "    distilled_code = re.sub(\n",
      "        r'^\\s*\"\"\"\"\"\"\\s*$\\n', \"\", ast.unparse(parsed), flags=re.MULTILINE\n",
      "    )\n",
      "    return re.sub(r\"\\n\\s*\\n\", \"\\n\", distilled_code)\n",
      "\n"
     ]
    }
   ],
   "source": [
    "code1 = A_GIS.Code.format(code0)\n",
    "print(code1)"
   ]
  },
  {
   "cell_type": "code",
   "execution_count": 4,
   "id": "4d7ad195-10b4-462f-889e-2309f4319aac",
   "metadata": {},
   "outputs": [
    {
     "name": "stdout",
     "output_type": "stream",
     "text": [
      "Purify the given Python code by removing docstrings, blanking multiline\n",
      "string literals, and inherently removing comments.\n",
      "\n",
      "This function parses the provided Python code into an abstract syntax tree (AST),\n",
      "and then walks through the AST. It identifies and blanks out all docstrings and\n",
      "multiline string literals. Additionally, due to the nature of AST parsing in Python,\n",
      "comments (which start with '#') are not included in the AST and hence are not present\n",
      "in the unparsed code, effectively removing them from the output.\n",
      "\n",
      "It's important to note that this removal of comments is a byproduct of how the Python\n",
      "parser and the AST handle comments, rather than an explicit action by this function.\n",
      "\n",
      "Args:\n",
      "    code (str): A string representing the Python code to be purified.\n",
      "\n",
      "Returns:\n",
      "    str: A string representing the purified Python code, with docstrings, multiline string\n",
      "         literals, and comments removed.\n",
      "\n",
      "Examples:\n",
      "    >>> ds=('\"'*3) + 'I am a docstring!' + ('\"'*3)\n",
      "    >>> test_code = f'''\n",
      "    ... def example_function(param1, param2):\n",
      "    ...     {ds}\n",
      "    ...     # This is a comment.\n",
      "    ...     return (param1, param2)\n",
      "    ... '''\n",
      "    >>> print(distill(code=test_code))\n",
      "    def example_function(param1, param2):\n",
      "        return (param1, param2)\n"
     ]
    }
   ],
   "source": [
    "docstring = A_GIS.Code.Docstring.get(code=code1)\n",
    "print(docstring)"
   ]
  },
  {
   "cell_type": "code",
   "execution_count": 5,
   "id": "78181c29-4cd6-4069-b8a2-e82f8496eb1a",
   "metadata": {},
   "outputs": [
    {
     "name": "stdout",
     "output_type": "stream",
     "text": [
      "def distill(*, code: str) -> str:\n",
      "    \n",
      "    # Parse the code into an abstract syntax tree (AST).\n",
      "    import ast\n",
      "\n",
      "    parsed = ast.parse(code)\n",
      "\n",
      "    # Walk through all nodes in the AST.\n",
      "    for node in ast.walk(parsed):\n",
      "        # Identify docstrings and multiline string literals, and replace them\n",
      "        # with empty strings.\n",
      "        if isinstance(node, ast.Expr) and isinstance(node.value, ast.Str):\n",
      "            node.value = ast.Constant(value=\"\")\n",
      "\n",
      "    # Remove any blank lines or blank docstrings.\n",
      "    import re\n",
      "\n",
      "    distilled_code = re.sub(\n",
      "        r'^\\s*\"\"\"\"\"\"\\s*$\\n', \"\", ast.unparse(parsed), flags=re.MULTILINE\n",
      "    )\n",
      "    return re.sub(r\"\\n\\s*\\n\", \"\\n\", distilled_code)\n",
      "\n"
     ]
    }
   ],
   "source": [
    "code2 = A_GIS.Code.Docstring.modify(code=code1,docstring=None)\n",
    "print(code2)"
   ]
  },
  {
   "cell_type": "code",
   "execution_count": 6,
   "id": "95344f6a-55e7-43d8-9c80-8152a248c29a",
   "metadata": {},
   "outputs": [
    {
     "name": "stdout",
     "output_type": "stream",
     "text": [
      "def distill(*, code: str) -> str:\n",
      "    import ast\n",
      "    parsed = ast.parse(code)\n",
      "    for node in ast.walk(parsed):\n",
      "        if isinstance(node, ast.Expr) and isinstance(node.value, ast.Str):\n",
      "            node.value = ast.Constant(value='')\n",
      "    import re\n",
      "    distilled_code = re.sub('^\\\\s*\"\"\"\"\"\"\\\\s*$\\\\n', '', ast.unparse(parsed), flags=re.MULTILINE)\n",
      "    return re.sub('\\\\n\\\\s*\\\\n', '\\n', distilled_code)\n"
     ]
    }
   ],
   "source": [
    "code3 = A_GIS.Code.distill(code=code2)\n",
    "print(code3)"
   ]
  },
  {
   "cell_type": "code",
   "execution_count": 7,
   "id": "3ca8f914-590f-4317-b206-a2c4d6936b17",
   "metadata": {},
   "outputs": [
    {
     "name": "stdout",
     "output_type": "stream",
     "text": [
      "@@ -27,16 +27,78 @@\n",
      " -%3E str:%0A\n",
      "+    %0A    # Parse the code into an abstract syntax tree (AST).%0A\n",
      "     impo\n",
      "@@ -104,16 +104,17 @@\n",
      " ort ast%0A\n",
      "+%0A\n",
      "     pars\n",
      "@@ -138,41 +138,191 @@\n",
      " de)%0A\n",
      "-    for node in ast.walk(parsed):\n",
      "+%0A    # Walk through all nodes in the AST.%0A    for node in ast.walk(parsed):%0A        # Identify docstrings and multiline string literals, and replace them%0A        # with empty strings.\n",
      " %0A   \n",
      "@@ -441,11 +441,62 @@\n",
      " lue=\n",
      "-'')\n",
      "+%22%22)%0A%0A    # Remove any blank lines or blank docstrings.\n",
      " %0A   \n",
      "@@ -506,16 +506,17 @@\n",
      " port re%0A\n",
      "+%0A\n",
      "     dist\n",
      "@@ -539,12 +539,21 @@\n",
      " sub(\n",
      "+%0A        r\n",
      " '%5E%5C\n",
      "-%5C\n",
      " s*%22%22\n",
      "@@ -561,20 +561,18 @@\n",
      " %22%22%22%5C\n",
      "-%5C\n",
      " s*$%5C\n",
      "-%5C\n",
      " n', \n",
      "-''\n",
      "+%22%22\n",
      " , as\n",
      "@@ -608,16 +608,21 @@\n",
      " ULTILINE\n",
      "+%0A    \n",
      " )%0A    re\n",
      "@@ -637,26 +637,24 @@\n",
      " sub(\n",
      "-'%5C\n",
      "+r%22\n",
      " %5Cn%5C\n",
      "-%5C\n",
      " s*%5C\n",
      "-%5Cn', '%5Cn'\n",
      "+n%22, %22%5Cn%22\n",
      " , di\n",
      "@@ -662,12 +662,13 @@\n",
      " tilled_code)\n",
      "+%0A\n",
      "\n"
     ]
    }
   ],
   "source": [
    "#Represents the comments.\n",
    "patch = A_GIS.Text.get_patch(initial=code3,final=code2)\n",
    "print(patch)"
   ]
  },
  {
   "cell_type": "code",
   "execution_count": 8,
   "id": "20921ac2-394e-43c6-97a8-db23fde7e15e",
   "metadata": {},
   "outputs": [
    {
     "name": "stdout",
     "output_type": "stream",
     "text": [
      "def distill(*, code: str) -> str:\n",
      "    \n",
      "    # Parse the code into an abstract syntax tree (AST).\n",
      "    import ast\n",
      "\n",
      "    parsed = ast.parse(code)\n",
      "\n",
      "    # Walk through all nodes in the AST.\n",
      "    for node in ast.walk(parsed):\n",
      "        # Identify docstrings and multiline string literals, and replace them\n",
      "        # with empty strings.\n",
      "        if isinstance(node, ast.Expr) and isinstance(node.value, ast.Str):\n",
      "            node.value = ast.Constant(value=\"\")\n",
      "\n",
      "    # Remove any blank lines or blank docstrings.\n",
      "    import re\n",
      "\n",
      "    distilled_code = re.sub(\n",
      "        r'^\\s*\"\"\"\"\"\"\\s*$\\n', \"\", ast.unparse(parsed), flags=re.MULTILINE\n",
      "    )\n",
      "    return re.sub(r\"\\n\\s*\\n\", \"\\n\", distilled_code)\n",
      "\n"
     ]
    }
   ],
   "source": [
    "code4 = A_GIS.Text.apply_patch(text=code3,patch=patch)\n",
    "print(code4)"
   ]
  },
  {
   "cell_type": "code",
   "execution_count": 9,
   "id": "193582aa-4bbc-4311-b7b5-f6e84c6e1da0",
   "metadata": {},
   "outputs": [
    {
     "name": "stdout",
     "output_type": "stream",
     "text": [
      "def distill(*, code: str) -> str:\n",
      "    \n",
      "    \"\"\"Purify the given Python code by removing docstrings, blanking multiline\n",
      "    string literals, and inherently removing comments.\n",
      "    \n",
      "    This function parses the provided Python code into an abstract syntax tree (AST),\n",
      "    and then walks through the AST. It identifies and blanks out all docstrings and\n",
      "    multiline string literals. Additionally, due to the nature of AST parsing in Python,\n",
      "    comments (which start with '#') are not included in the AST and hence are not present\n",
      "    in the unparsed code, effectively removing them from the output.\n",
      "    \n",
      "    It's important to note that this removal of comments is a byproduct of how the Python\n",
      "    parser and the AST handle comments, rather than an explicit action by this function.\n",
      "    \n",
      "    Args:\n",
      "        code (str): A string representing the Python code to be purified.\n",
      "    \n",
      "    Returns:\n",
      "        str: A string representing the purified Python code, with docstrings, multiline string\n",
      "             literals, and comments removed.\n",
      "    \n",
      "    Examples:\n",
      "        >>> ds=('\"'*3) + 'I am a docstring!' + ('\"'*3)\n",
      "        >>> test_code = f'''\n",
      "        ... def example_function(param1, param2):\n",
      "        ...     {ds}\n",
      "        ...     # This is a comment.\n",
      "        ...     return (param1, param2)\n",
      "        ... '''\n",
      "        >>> print(distill(code=test_code))\n",
      "        def example_function(param1, param2):\n",
      "            return (param1, param2)\n",
      "    \"\"\"\n",
      "    \n",
      "    # Parse the code into an abstract syntax tree (AST).\n",
      "    import ast\n",
      "\n",
      "    parsed = ast.parse(code)\n",
      "\n",
      "    # Walk through all nodes in the AST.\n",
      "    for node in ast.walk(parsed):\n",
      "        # Identify docstrings and multiline string literals, and replace them\n",
      "        # with empty strings.\n",
      "        if isinstance(node, ast.Expr) and isinstance(node.value, ast.Str):\n",
      "            node.value = ast.Constant(value=\"\")\n",
      "\n",
      "    # Remove any blank lines or blank docstrings.\n",
      "    import re\n",
      "\n",
      "    distilled_code = re.sub(\n",
      "        r'^\\s*\"\"\"\"\"\"\\s*$\\n', \"\", ast.unparse(parsed), flags=re.MULTILINE\n",
      "    )\n",
      "    return re.sub(r\"\\n\\s*\\n\", \"\\n\", distilled_code)\n",
      "\n"
     ]
    }
   ],
   "source": [
    "code5 = A_GIS.Code.Docstring.modify(code=code4,docstring=docstring)\n",
    "print(code5)"
   ]
  },
  {
   "cell_type": "code",
   "execution_count": 10,
   "id": "d78aa79d-d7ac-40b7-abd8-27c84180f909",
   "metadata": {},
   "outputs": [
    {
     "name": "stdout",
     "output_type": "stream",
     "text": [
      "def distill(*, code: str) -> str:\n",
      "    \"\"\"Purify the given Python code by removing docstrings, blanking multiline\n",
      "    string literals, and inherently removing comments.\n",
      "\n",
      "    This function parses the provided Python code into an abstract syntax tree (AST),\n",
      "    and then walks through the AST. It identifies and blanks out all docstrings and\n",
      "    multiline string literals. Additionally, due to the nature of AST parsing in Python,\n",
      "    comments (which start with '#') are not included in the AST and hence are not present\n",
      "    in the unparsed code, effectively removing them from the output.\n",
      "\n",
      "    It's important to note that this removal of comments is a byproduct of how the Python\n",
      "    parser and the AST handle comments, rather than an explicit action by this function.\n",
      "\n",
      "    Args:\n",
      "        code (str): A string representing the Python code to be purified.\n",
      "\n",
      "    Returns:\n",
      "        str: A string representing the purified Python code, with docstrings, multiline string\n",
      "             literals, and comments removed.\n",
      "\n",
      "    Examples:\n",
      "        >>> ds=('\"'*3) + 'I am a docstring!' + ('\"'*3)\n",
      "        >>> test_code = f'''\n",
      "        ... def example_function(param1, param2):\n",
      "        ...     {ds}\n",
      "        ...     # This is a comment.\n",
      "        ...     return (param1, param2)\n",
      "        ... '''\n",
      "        >>> print(distill(code=test_code))\n",
      "        def example_function(param1, param2):\n",
      "            return (param1, param2)\n",
      "    \"\"\"\n",
      "\n",
      "    # Parse the code into an abstract syntax tree (AST).\n",
      "    import ast\n",
      "\n",
      "    parsed = ast.parse(code)\n",
      "\n",
      "    # Walk through all nodes in the AST.\n",
      "    for node in ast.walk(parsed):\n",
      "        # Identify docstrings and multiline string literals, and replace them\n",
      "        # with empty strings.\n",
      "        if isinstance(node, ast.Expr) and isinstance(node.value, ast.Str):\n",
      "            node.value = ast.Constant(value=\"\")\n",
      "\n",
      "    # Remove any blank lines or blank docstrings.\n",
      "    import re\n",
      "\n",
      "    distilled_code = re.sub(\n",
      "        r'^\\s*\"\"\"\"\"\"\\s*$\\n', \"\", ast.unparse(parsed), flags=re.MULTILINE\n",
      "    )\n",
      "    return re.sub(r\"\\n\\s*\\n\", \"\\n\", distilled_code)\n",
      "\n"
     ]
    }
   ],
   "source": [
    "code6 = A_GIS.Code.format(code=code5)\n",
    "print(code6)"
   ]
  },
  {
   "cell_type": "code",
   "execution_count": 11,
   "id": "547e0b19-73a0-485d-a377-aba5d57b7144",
   "metadata": {},
   "outputs": [
    {
     "data": {
      "text/plain": [
       "''"
      ]
     },
     "execution_count": 11,
     "metadata": {},
     "output_type": "execute_result"
    }
   ],
   "source": [
    "A_GIS.Text.get_patch(initial=code1,final=code6)"
   ]
  }
 ],
 "metadata": {
  "kernelspec": {
   "display_name": "Python 3 (ipykernel)",
   "language": "python",
   "name": "python3"
  },
  "language_info": {
   "codemirror_mode": {
    "name": "ipython",
    "version": 3
   },
   "file_extension": ".py",
   "mimetype": "text/x-python",
   "name": "python",
   "nbconvert_exporter": "python",
   "pygments_lexer": "ipython3",
   "version": "3.11.5"
  }
 },
 "nbformat": 4,
 "nbformat_minor": 5
}
