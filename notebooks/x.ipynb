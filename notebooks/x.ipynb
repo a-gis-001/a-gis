{
 "cells": [
  {
   "cell_type": "code",
   "execution_count": 20,
   "id": "c49d2bda-e392-4ec6-a18b-be0363afb939",
   "metadata": {},
   "outputs": [],
   "source": [
    "import A_GIS"
   ]
  },
  {
   "cell_type": "code",
   "execution_count": 21,
   "id": "cb881701-8c94-4cc4-8b81-39f27911a31d",
   "metadata": {},
   "outputs": [],
   "source": [
    "z=A_GIS.File.open(path=\"https://raw.githubusercontent.com/a-gis-001/a-gis/main/README.md\",binary=True)"
   ]
  },
  {
   "cell_type": "code",
   "execution_count": 22,
   "id": "c053f2d0-3718-4f81-8e55-170b75317cdf",
   "metadata": {},
   "outputs": [],
   "source": [
    "s=z.read().decode('utf-8')"
   ]
  },
  {
   "cell_type": "code",
   "execution_count": 23,
   "id": "a7f20530-2c1e-47a2-b68a-76b677cb5488",
   "metadata": {},
   "outputs": [
    {
     "name": "stdout",
     "output_type": "stream",
     "text": [
      "# A_GIS Python Package\n",
      "\n",
      "```python\n",
      "pip install A_GIS\n",
      "```\n",
      "\n",
      "Pronounced with a long \"a\" like AEGIS, this is a package for functional python. \n",
      "\n",
      "## Distill and recompose\n",
      "\n",
      "Checkout out notebooks/roundtrip.ipynb for an example of round-tripping. \n",
      "\n",
      "In the `__A_GIS__` directory we can have the segmented data\n",
      "so that AI can operate on different parts more efficiently. \n",
      "\n",
      "The basic sequence is\n",
      "\n",
      "1. raw function only (8 lines or less ideally) \n",
      "2. add comments and spacing\n",
      "3. add docstring\n",
      "4. send through formatter\n",
      "5. this is now a complete function like someone would want to see in a code base\n",
      "\n",
      "To split it up again we go in reverse.\n",
      "\n",
      "6. remove docstring\n",
      "7. remove comments and spacing (save in file)\n",
      "8. save raw function\n",
      "\n",
      "Now you can see easily if the raw function changed. Once this iteration\n",
      "converges, the diff should be zero.\n",
      "\n",
      "This process has advantages in that we can isolate the docstring and\n",
      "work on making that beautiful. \n",
      "\n",
      "It could get examples, and all kinds of crazy awesome reformatting\n",
      "as its own document. Then we can reapply comments to the raw source,\n",
      "THEN the docstring, then format. We could send this to an AI now to\n",
      "create better comments and then ONLY update the comments file. I think\n",
      "the comments are somewhat dependent on the\n",
      "docstring so it's nice to have this flow of regenerating comments\n",
      "assuming a certain docstring and visibility of the whole file. \n",
      "\n",
      "After splitting back out and saving the raw function, you can see (with\n",
      "git diff for example), if the AI changed the execution of the code. One\n",
      "could imagine asking the AI to split a function into several that don't\n",
      "exceed e.g. 9 lines for example.\n",
      "\n",
      "This scheme gives us a way to then split those functions and send them\n",
      "to their place on the file system.\n",
      "\n",
      "By going to such small granularity, we should be able to fit in many AIs\n",
      "token counts and they should be able to design tests and examples much\n",
      "easier. \n",
      "\n",
      "We could also, based on similarity metrics for the raw functions, make\n",
      "sure AI aren't creating a bunch of extra functions. I.e. if they create\n",
      "a new one that has high similarity to an existing one, we could ask it\n",
      "to use the existing one instead, or propose modifications to the existing \n",
      "one, e.g. optional arguments, that would make it work. \n",
      "\n",
      "It would be interesting to see what an AI would generate in terms of a\n",
      "code base with this approach. It should arrive at lots of small\n",
      "functions that are basically idioms, like A_GIS.File.read().\n",
      "\n",
      "You should be able to apply this approach hierarchically to handle tests\n",
      "for example, each test a function. This should be a totally functional\n",
      "based system. Inside the functions we may want helper classes,\n",
      "especially for testing. We should start\n",
      "these names with an `_` to make sure they do not appear in the public\n",
      "API.\n",
      "\n",
      "Finally, it should be possible to hash the raw function content like\n",
      "IPFS and provide these in a distributed computing framework, where you\n",
      "basically call a function by the hash, `output = A_GIS.<hash>(input)`\n",
      "which ensures you get a specific version of that function even across\n",
      "different versions of `A_GIS`. All `A_GIS` functions should require\n",
      "keywords which may help with handling serialized data in dictionaries\n",
      "and such.\n",
      "\n",
      "\n",
      "## Nice Tree Output\n",
      "\n",
      "```\n",
      "tree -I *.pyc -I __A_GIS__ -I __init__.py -I __pycache__ -I tests A_GIS/\n",
      "```\n",
      "\n"
     ]
    }
   ],
   "source": [
    "print(s)"
   ]
  },
  {
   "cell_type": "code",
   "execution_count": null,
   "id": "43f443e4-8e42-48c2-8d27-935ab1d66666",
   "metadata": {},
   "outputs": [],
   "source": []
  },
  {
   "cell_type": "code",
   "execution_count": null,
   "id": "6199ee06-f2ab-4af0-8f96-260b58cf4516",
   "metadata": {},
   "outputs": [],
   "source": []
  },
  {
   "cell_type": "code",
   "execution_count": null,
   "id": "87217a6e-acfa-48fa-ac38-17c948d53604",
   "metadata": {},
   "outputs": [],
   "source": []
  }
 ],
 "metadata": {
  "kernelspec": {
   "display_name": "Python 3 (ipykernel)",
   "language": "python",
   "name": "python3"
  },
  "language_info": {
   "codemirror_mode": {
    "name": "ipython",
    "version": 3
   },
   "file_extension": ".py",
   "mimetype": "text/x-python",
   "name": "python",
   "nbconvert_exporter": "python",
   "pygments_lexer": "ipython3",
   "version": "3.11.5"
  }
 },
 "nbformat": 4,
 "nbformat_minor": 5
}
