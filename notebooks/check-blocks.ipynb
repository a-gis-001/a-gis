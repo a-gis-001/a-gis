{
 "cells": [
  {
   "cell_type": "code",
   "execution_count": 1,
   "id": "c627730d-c406-4ea8-9afb-ce4aebc599c6",
   "metadata": {},
   "outputs": [],
   "source": [
    "import A_GIS"
   ]
  },
  {
   "cell_type": "code",
   "execution_count": 2,
   "id": "855f0c6e-7d75-4062-8634-50afe8a676ec",
   "metadata": {},
   "outputs": [
    {
     "name": "stdout",
     "output_type": "stream",
     "text": [
      "+---+--------------------------------------------------------------------------------+\n",
      "|DEF|def check(*, unit: type[\"A_GIS.Code.Unit._Unit\"]) -> list[str]\n",
      "+---+--------------------------------------------------------------------------------+\n",
      "|DOC|Checks a \"unit\" to ensure they meet specific\n",
      "|DOC|requirements regarding import statements and comment usage.\n",
      "|DOC|\n",
      "|DOC|The function validates that:\n",
      "|DOC|\n",
      "|DOC|- The first code block may optionally contain absolute imports.\n",
      "|DOC|- All subsequent code unit must start with one or more comment\n",
      "|DOC|  lines, followed by code, and optionally end with a blank line.\n",
      "|DOC|\n",
      "|DOC|Args:\n",
      "|DOC|    unit: a special function designed to be small and independent.\n",
      "|DOC|\n",
      "|DOC|Returns:\n",
      "|DOC|    A list of strings, where each string is a message detailing\n",
      "|DOC|    any violations found within the code unit.\n",
      "+---+--------------------------------------------------------------------------------+\n",
      "|000|    import A_GIS.Code.Unit._has_imports\n",
      "|000|    import A_GIS.Code.Unit._check_imports\n",
      "|000|    import A_GIS.Code.Unit._check_body_block\n",
      "+---+--------------------------------------------------------------------------------+\n",
      "|001|    # Iterate through code body and accumulate error messages.\n",
      "|001|    errors = []\n",
      "|001|    for i, block in enumerate(unit.code_body):\n",
      "+---+--------------------------------------------------------------------------------+\n",
      "|002|        # Determine if first block is an import block.\n",
      "|002|        is_import_block = i == 0 and A_GIS.Code.Unit._has_imports(block=block)\n",
      "+---+--------------------------------------------------------------------------------+\n",
      "|003|        # Perform checks based on import block or not.\n",
      "|003|        if is_import_block:\n",
      "|003|            errors.extend(\n",
      "|003|                A_GIS.Code.Unit._check_imports(block=block, start_index=i)\n",
      "|003|            )\n",
      "|003|        else:\n",
      "|003|            errors.extend(\n",
      "|003|                A_GIS.Code.Unit._check_body_block(block=block, start_index=i)\n",
      "|003|            )\n",
      "+---+--------------------------------------------------------------------------------+\n",
      "|004|    # Return list of messages.\n",
      "|004|    return errors\n",
      "+---+--------------------------------------------------------------------------------+\n",
      "\n"
     ]
    }
   ],
   "source": [
    "file='../source/A_GIS/Code/Unit/check/__init__.py'\n",
    "code = A_GIS.File.read(file=file)\n",
    "unit = A_GIS.Code.Unit.get(code=code)\n",
    "string = A_GIS.Code.Unit.to_string(unit=unit)\n",
    "print(string)"
   ]
  },
  {
   "cell_type": "code",
   "execution_count": 3,
   "id": "38a4f68d-fb42-4cfb-b11d-1349b7a321ae",
   "metadata": {},
   "outputs": [],
   "source": [
    "for f in A_GIS.Code.Unit.check(unit=unit):\n",
    "    print(f)"
   ]
  },
  {
   "cell_type": "code",
   "execution_count": 4,
   "id": "189a9673-09ae-4a3a-b222-fd485de90e3e",
   "metadata": {},
   "outputs": [
    {
     "name": "stdout",
     "output_type": "stream",
     "text": [
      "def check(*, unit: type[\"A_GIS.Code.Unit._Unit\"]) -> list[str]:\n",
      "    \"\"\"\n",
      "    Checks a \"unit\" to ensure they meet specific\n",
      "    requirements regarding import statements and comment usage.\n",
      "\n",
      "    The function validates that:\n",
      "\n",
      "    - The first code block may optionally contain absolute imports.\n",
      "    - All subsequent code unit must start with one or more comment\n",
      "      lines, followed by code, and optionally end with a blank line.\n",
      "\n",
      "    Args:\n",
      "        unit: a special function designed to be small and independent.\n",
      "\n",
      "    Returns:\n",
      "        A list of strings, where each string is a message detailing\n",
      "        any violations found within the code unit.\n",
      "    \"\"\"\n",
      "    import A_GIS.Code.Unit._has_imports\n",
      "    import A_GIS.Code.Unit._check_imports\n",
      "    import A_GIS.Code.Unit._check_body_block\n",
      "\n",
      "    # Iterate through code body and accumulate error messages.\n",
      "    errors = []\n",
      "    for i, block in enumerate(unit.code_body):\n",
      "\n",
      "        # Determine if first block is an import block.\n",
      "        is_import_block = i == 0 and A_GIS.Code.Unit._has_imports(block=block)\n",
      "\n",
      "        # Perform checks based on import block or not.\n",
      "        if is_import_block:\n",
      "            errors.extend(\n",
      "                A_GIS.Code.Unit._check_imports(block=block, start_index=i)\n",
      "            )\n",
      "        else:\n",
      "            errors.extend(\n",
      "                A_GIS.Code.Unit._check_body_block(block=block, start_index=i)\n",
      "            )\n",
      "\n",
      "    # Return list of messages.\n",
      "    return errors\n",
      "\n"
     ]
    }
   ],
   "source": [
    "print(A_GIS.Code.format(code=code))"
   ]
  },
  {
   "cell_type": "code",
   "execution_count": null,
   "id": "759d50ca-e639-4a58-b476-0d908d378767",
   "metadata": {},
   "outputs": [],
   "source": []
  },
  {
   "cell_type": "code",
   "execution_count": null,
   "id": "611510c6-70e3-4577-a90b-c8425ade1ffd",
   "metadata": {},
   "outputs": [],
   "source": []
  }
 ],
 "metadata": {
  "kernelspec": {
   "display_name": "Python 3 (ipykernel)",
   "language": "python",
   "name": "python3"
  },
  "language_info": {
   "codemirror_mode": {
    "name": "ipython",
    "version": 3
   },
   "file_extension": ".py",
   "mimetype": "text/x-python",
   "name": "python",
   "nbconvert_exporter": "python",
   "pygments_lexer": "ipython3",
   "version": "3.11.5"
  }
 },
 "nbformat": 4,
 "nbformat_minor": 5
}
