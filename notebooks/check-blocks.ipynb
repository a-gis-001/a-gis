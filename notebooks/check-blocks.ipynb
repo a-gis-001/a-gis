{
 "cells": [
  {
   "cell_type": "code",
   "execution_count": 10,
   "id": "c627730d-c406-4ea8-9afb-ce4aebc599c6",
   "metadata": {},
   "outputs": [],
   "source": [
    "import A_GIS"
   ]
  },
  {
   "cell_type": "code",
   "execution_count": 11,
   "id": "855f0c6e-7d75-4062-8634-50afe8a676ec",
   "metadata": {},
   "outputs": [
    {
     "name": "stdout",
     "output_type": "stream",
     "text": [
      "+--+--------------------------------------------------------------------------------+\n",
      "|00|    import A_GIS.Code.Blocks._has_imports                                       |\n",
      "|00|    import A_GIS.Code.Blocks._check_imports                                     |\n",
      "|00|    import A_GIS.Code.Blocks._check_body_block                                  |\n",
      "+--+--------------------------------------------------------------------------------+\n",
      "|01|    # Initialize a list to accumulate messages                                  |\n",
      "|01|    msg = []                                                                    |\n",
      "|01|    for i, block in enumerate(blocks):                                          |\n",
      "+--+--------------------------------------------------------------------------------+\n",
      "|02|        # Special checks for the first block, which could contain imports       |\n",
      "|02|        is_import_block = False                                                 |\n",
      "|02|        if i == 0:                                                              |\n",
      "|02|            msg.extend(                                                         |\n",
      "|02|                A_GIS.Code.Blocks._check_imports(block=block, start_index=i)    |\n",
      "|02|            )                                                                   |\n",
      "|02|            is_import_block = A_GIS.Code.Blocks._has_imports(block=block)       |\n",
      "+--+--------------------------------------------------------------------------------+\n",
      "|03|        # For non-import blocks, perform body block checks                      |\n",
      "|03|        if not is_import_block:                                                 |\n",
      "|03|            msg.extend(                                                         |\n",
      "|03|                A_GIS.Code.Blocks._check_body_block(block=block, start_index=i) |\n",
      "|03|            )                                                                   |\n",
      "+--+--------------------------------------------------------------------------------+\n",
      "|04|    # Return list of messages.                                                  |\n",
      "|04|    return msg                                                                  |\n",
      "+--+--------------------------------------------------------------------------------+\n",
      "\n"
     ]
    }
   ],
   "source": [
    "file='../source/A_GIS/Code/Blocks/check/__init__.py'\n",
    "code = A_GIS.File.read(file=file)\n",
    "blocks = A_GIS.Code.Blocks.get(code=code)\n",
    "string = A_GIS.Code.Blocks.to_string(blocks=blocks)\n",
    "print(string)"
   ]
  },
  {
   "cell_type": "code",
   "execution_count": 12,
   "id": "38a4f68d-fb42-4cfb-b11d-1349b7a321ae",
   "metadata": {},
   "outputs": [],
   "source": [
    "for f in A_GIS.Code.Blocks.check(blocks=blocks):\n",
    "    print(f)"
   ]
  },
  {
   "cell_type": "code",
   "execution_count": 13,
   "id": "189a9673-09ae-4a3a-b222-fd485de90e3e",
   "metadata": {},
   "outputs": [
    {
     "name": "stdout",
     "output_type": "stream",
     "text": [
      "def check(*, blocks: list[list[str]]) -> list[str]:\n",
      "    \"\"\"Checks a list of code blocks to ensure they meet specific requirements\n",
      "    regarding import statements and comment usage.\n",
      "\n",
      "    The function validates that: - The first code block may optionally\n",
      "    contain absolute imports. - All subsequent code blocks must start\n",
      "    with one or more comment lines, followed by code, and optionally end\n",
      "    with a blank line.\n",
      "\n",
      "    Args:     blocks: A list of code blocks, where each block is a list\n",
      "    of strings, with each string representing a line of code.\n",
      "\n",
      "    Returns:     A list of strings, where each string is a message\n",
      "    detailing any violations found within the code blocks.\n",
      "    \"\"\"\n",
      "    import A_GIS.Code.Blocks._has_imports\n",
      "    import A_GIS.Code.Blocks._check_imports\n",
      "    import A_GIS.Code.Blocks._check_body_block\n",
      "\n",
      "    # Initialize a list to accumulate messages\n",
      "    msg = []\n",
      "    for i, block in enumerate(blocks):\n",
      "\n",
      "        # Special checks for the first block, which could contain imports\n",
      "        is_import_block = False\n",
      "        if i == 0:\n",
      "            msg.extend(\n",
      "                A_GIS.Code.Blocks._check_imports(block=block, start_index=i)\n",
      "            )\n",
      "            is_import_block = A_GIS.Code.Blocks._has_imports(block=block)\n",
      "\n",
      "        # For non-import blocks, perform body block checks\n",
      "        if not is_import_block:\n",
      "            msg.extend(\n",
      "                A_GIS.Code.Blocks._check_body_block(block=block, start_index=i)\n",
      "            )\n",
      "\n",
      "    # Return list of messages.\n",
      "    return msg\n",
      "\n"
     ]
    }
   ],
   "source": [
    "print(A_GIS.Code.format(code=code))"
   ]
  },
  {
   "cell_type": "code",
   "execution_count": null,
   "id": "759d50ca-e639-4a58-b476-0d908d378767",
   "metadata": {},
   "outputs": [],
   "source": []
  }
 ],
 "metadata": {
  "kernelspec": {
   "display_name": "Python 3 (ipykernel)",
   "language": "python",
   "name": "python3"
  },
  "language_info": {
   "codemirror_mode": {
    "name": "ipython",
    "version": 3
   },
   "file_extension": ".py",
   "mimetype": "text/x-python",
   "name": "python",
   "nbconvert_exporter": "python",
   "pygments_lexer": "ipython3",
   "version": "3.11.5"
  }
 },
 "nbformat": 4,
 "nbformat_minor": 5
}
