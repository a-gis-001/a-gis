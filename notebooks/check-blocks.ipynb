{
 "cells": [
  {
   "cell_type": "code",
   "execution_count": 1,
   "id": "c627730d-c406-4ea8-9afb-ce4aebc599c6",
   "metadata": {},
   "outputs": [],
   "source": [
    "import A_GIS"
   ]
  },
  {
   "cell_type": "code",
   "execution_count": 12,
   "id": "855f0c6e-7d75-4062-8634-50afe8a676ec",
   "metadata": {},
   "outputs": [
    {
     "name": "stdout",
     "output_type": "stream",
     "text": [
      "+--+--------------------------------------------------------------------------------+\n",
      "|00|    # Parse the code into an abstract syntax tree (AST).                        |\n",
      "|00|    # Walk through all nodes in the AST to identify docstrings and multiline    |\n",
      "|00|    # string literals, and replace them with standard strings.                  |\n",
      "|00|    import ast                                                                  |\n",
      "|00|    parsed = ast.parse(code)                                                    |\n",
      "|00|    for node in ast.walk(parsed):                                               |\n",
      "|00|        if isinstance(node, ast.Expr) and isinstance(node.value, ast.Str):      |\n",
      "|00|            node.value = ast.Constant(value=\"\")                                 |\n",
      "+--+--------------------------------------------------------------------------------+\n",
      "|01|    # Remove any blank lines or blank docstrings.                               |\n",
      "|01|    import re                                                                   |\n",
      "|01|    distilled_code = re.sub(                                                    |\n",
      "|01|        r'^\\s*\"\"\"\"\"\"\\s*$\\n', \"\", ast.unparse(parsed), flags=re.MULTILINE        |\n",
      "|01|    )                                                                           |\n",
      "|01|    return re.sub(r\"\\n\\s*\\n\", \"\\n\", distilled_code)                             |\n",
      "+--+--------------------------------------------------------------------------------+\n",
      "\n"
     ]
    }
   ],
   "source": [
    "file='../source/A_GIS/Code/distill/__init__.py'\n",
    "code = A_GIS.File.read(file=file)\n",
    "blocks = A_GIS.Code.Blocks.get(code=code)\n",
    "string = A_GIS.Code.Blocks.to_string(blocks=blocks)\n",
    "print(string)"
   ]
  },
  {
   "cell_type": "code",
   "execution_count": 13,
   "id": "38a4f68d-fb42-4cfb-b11d-1349b7a321ae",
   "metadata": {},
   "outputs": [],
   "source": []
  },
  {
   "cell_type": "code",
   "execution_count": 14,
   "id": "189a9673-09ae-4a3a-b222-fd485de90e3e",
   "metadata": {},
   "outputs": [],
   "source": [
    "for f in A_GIS.Code.Blocks.check(blocks):\n",
    "    print(f)"
   ]
  },
  {
   "cell_type": "code",
   "execution_count": null,
   "id": "759d50ca-e639-4a58-b476-0d908d378767",
   "metadata": {},
   "outputs": [],
   "source": []
  }
 ],
 "metadata": {
  "kernelspec": {
   "display_name": "Python 3 (ipykernel)",
   "language": "python",
   "name": "python3"
  },
  "language_info": {
   "codemirror_mode": {
    "name": "ipython",
    "version": 3
   },
   "file_extension": ".py",
   "mimetype": "text/x-python",
   "name": "python",
   "nbconvert_exporter": "python",
   "pygments_lexer": "ipython3",
   "version": "3.11.5"
  }
 },
 "nbformat": 4,
 "nbformat_minor": 5
}
